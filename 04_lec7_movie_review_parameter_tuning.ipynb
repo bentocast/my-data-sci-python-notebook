{
  "nbformat": 4,
  "nbformat_minor": 0,
  "metadata": {
    "colab": {
      "name": "Lect7- movie_review parameter tuning.ipynb",
      "provenance": [],
      "collapsed_sections": []
    },
    "kernelspec": {
      "display_name": "Python 3",
      "name": "python3"
    }
  },
  "cells": [
    {
      "cell_type": "markdown",
      "metadata": {
        "id": "Y7oBthAop2ai"
      },
      "source": [
        "#Classify Movies Reviews for The IMDB dataset:\n",
        "- สร้าง Model เกี่ยวกับการจำแนกข้อมูล review เกี่ยวกับ Internet Movies ว่ามีความพึงพอใจหรือไม่พึงพอใจ ซึ่งจะมีทั้งหมด 50,000 ตัวอย่าง (training examples – 25,000 ตัวอย่าง, test example – 25,000 ตัวอย่าง ข้อมูล train_labels และ test_labels มีค่า 0 และ 1 โดย 0 หมายถึง “negative” และ 1 หมายถึง“ positive”"
      ]
    },
    {
      "cell_type": "code",
      "metadata": {
        "id": "Ouy1HNYNsrsI"
      },
      "source": [
        "import numpy as np\n",
        "import pandas as pd\n",
        "import tensorflow as tf\n",
        "import matplotlib\n",
        "import matplotlib.pyplot as plt\n",
        "from tensorflow.keras import models\n",
        "from tensorflow.keras.layers import Dense, Flatten, Softmax, Dropout"
      ],
      "execution_count": null,
      "outputs": []
    },
    {
      "cell_type": "markdown",
      "metadata": {
        "id": "65ZYfwm9suBP"
      },
      "source": [
        "##Data Collection\n",
        "ทำการโหลด dataset ที่ Keras เตรียมมาให้ โดยกำหนด num_words = 10000 (เลือกคำที่ปรากฎบ่อยที่สุด 10000 คำ มาทำเป็น input features) "
      ]
    },
    {
      "cell_type": "code",
      "metadata": {
        "colab": {
          "base_uri": "https://localhost:8080/"
        },
        "id": "bS-VcXdrWvTM",
        "outputId": "e5521200-0e4f-4f07-d4b0-2b178f0ce33b"
      },
      "source": [
        "(X, y), (Xtest, ytest) = tf.keras.datasets.imdb.load_data(num_words=10000)\n",
        "tf.keras.datasets.mnist"
      ],
      "execution_count": null,
      "outputs": [
        {
          "output_type": "stream",
          "name": "stdout",
          "text": [
            "Downloading data from https://storage.googleapis.com/tensorflow/tf-keras-datasets/imdb.npz\n",
            "17465344/17464789 [==============================] - 0s 0us/step\n",
            "17473536/17464789 [==============================] - 0s 0us/step\n"
          ]
        },
        {
          "output_type": "execute_result",
          "data": {
            "text/plain": [
              "<module 'keras.api._v2.keras.datasets.mnist' from '/usr/local/lib/python3.7/dist-packages/keras/api/_v2/keras/datasets/mnist/__init__.py'>"
            ]
          },
          "metadata": {},
          "execution_count": 2
        }
      ]
    },
    {
      "cell_type": "markdown",
      "metadata": {
        "id": "wRjSl4TItAJq"
      },
      "source": [
        "##Data Exploratoin and Preparation"
      ]
    },
    {
      "cell_type": "code",
      "metadata": {
        "colab": {
          "base_uri": "https://localhost:8080/"
        },
        "id": "nJ9ZKb_yXL31",
        "outputId": "bc844554-a566-4e4c-849e-1e405bd3dbb2"
      },
      "source": [
        "# print the shape of training examples and its label\n",
        "print(X.shape) # 25,000 reviews for training \n",
        "print(Xtest.shape) # 25,000 reviews for testing\n",
        "\n",
        "# explore the first features of training examples\n",
        "print(X[0]) # each review is a list of sequence of words encoded with a number in a range of 0-9999)\n",
        "# check the maximum number in a range (each number stands for a specific word in a dictionary(top 10000 words)) \n",
        "# max([max(sequence) for sequence in X]) # 9999"
      ],
      "execution_count": null,
      "outputs": [
        {
          "output_type": "stream",
          "name": "stdout",
          "text": [
            "(25000,)\n",
            "(25000,)\n",
            "[1, 14, 22, 16, 43, 530, 973, 1622, 1385, 65, 458, 4468, 66, 3941, 4, 173, 36, 256, 5, 25, 100, 43, 838, 112, 50, 670, 2, 9, 35, 480, 284, 5, 150, 4, 172, 112, 167, 2, 336, 385, 39, 4, 172, 4536, 1111, 17, 546, 38, 13, 447, 4, 192, 50, 16, 6, 147, 2025, 19, 14, 22, 4, 1920, 4613, 469, 4, 22, 71, 87, 12, 16, 43, 530, 38, 76, 15, 13, 1247, 4, 22, 17, 515, 17, 12, 16, 626, 18, 2, 5, 62, 386, 12, 8, 316, 8, 106, 5, 4, 2223, 5244, 16, 480, 66, 3785, 33, 4, 130, 12, 16, 38, 619, 5, 25, 124, 51, 36, 135, 48, 25, 1415, 33, 6, 22, 12, 215, 28, 77, 52, 5, 14, 407, 16, 82, 2, 8, 4, 107, 117, 5952, 15, 256, 4, 2, 7, 3766, 5, 723, 36, 71, 43, 530, 476, 26, 400, 317, 46, 7, 4, 2, 1029, 13, 104, 88, 4, 381, 15, 297, 98, 32, 2071, 56, 26, 141, 6, 194, 7486, 18, 4, 226, 22, 21, 134, 476, 26, 480, 5, 144, 30, 5535, 18, 51, 36, 28, 224, 92, 25, 104, 4, 226, 65, 16, 38, 1334, 88, 12, 16, 283, 5, 16, 4472, 113, 103, 32, 15, 16, 5345, 19, 178, 32]\n"
          ]
        }
      ]
    },
    {
      "cell_type": "code",
      "metadata": {
        "colab": {
          "base_uri": "https://localhost:8080/"
        },
        "id": "deat3ZJIwA4k",
        "outputId": "d909cb88-ee8e-4bb5-9677-fd265ca72841"
      },
      "source": [
        "# print the shape of training examples and its label\n",
        "print(y.shape) \n",
        "print(ytest.shape)\n",
        "\n",
        "# explore the first target feature of some training examples\n",
        "print(y[0])\n",
        "\n",
        "# print the propotion of positive reviews in training and test set \n",
        "print(\"Percentage of positve class in training set\",np.sum(y == 1)/y.shape[0]*100)\n",
        "print(\"Percentage of positve class in test set\",np.sum(y == 1)/y.shape[0]*100)"
      ],
      "execution_count": null,
      "outputs": [
        {
          "output_type": "stream",
          "name": "stdout",
          "text": [
            "(25000,)\n",
            "(25000,)\n",
            "1\n",
            "Percentage of positve class in training set 50.0\n",
            "Percentage of positve class in test set 50.0\n"
          ]
        }
      ]
    },
    {
      "cell_type": "code",
      "metadata": {
        "colab": {
          "base_uri": "https://localhost:8080/"
        },
        "id": "UQD49sPhtAcn",
        "outputId": "0b48dd1d-55da-422c-fa6d-7b2ef3a65e54"
      },
      "source": [
        "# Code ต่อไปนี้ใช้สำหรับการ decode ตัวเลขกลับไปเป็นตัวอักษร  \n",
        "word_index = tf.keras.datasets.imdb.get_word_index()\n",
        "print(\"word to integer\",word_index)\n",
        "reverse_word_index = dict([(value,key) for (key,value) in word_index.items()])\n",
        "print(\"integer to word\", reverse_word_index)\n"
      ],
      "execution_count": null,
      "outputs": [
        {
          "output_type": "stream",
          "name": "stdout",
          "text": [
            "Downloading data from https://storage.googleapis.com/tensorflow/tf-keras-datasets/imdb_word_index.json\n",
            "1646592/1641221 [==============================] - 0s 0us/step\n",
            "1654784/1641221 [==============================] - 0s 0us/step\n"
          ]
        },
        {
          "output_type": "stream",
          "name": "stderr",
          "text": [
            "IOPub data rate exceeded.\n",
            "The notebook server will temporarily stop sending output\n",
            "to the client in order to avoid crashing it.\n",
            "To change this limit, set the config variable\n",
            "`--NotebookApp.iopub_data_rate_limit`.\n",
            "\n",
            "Current values:\n",
            "NotebookApp.iopub_data_rate_limit=1000000.0 (bytes/sec)\n",
            "NotebookApp.rate_limit_window=3.0 (secs)\n",
            "\n"
          ]
        }
      ]
    },
    {
      "cell_type": "code",
      "metadata": {
        "colab": {
          "base_uri": "https://localhost:8080/",
          "height": 103
        },
        "id": "TI01WwGPvJlJ",
        "outputId": "90ad262c-2784-4d9f-cf13-e687452ccc58"
      },
      "source": [
        "# จาก code ในการ decode ลองใช้ code ดังกล่าวในการดู review แรกของ training set \n",
        "# i-3 เพราะ ตัวเลขที่เก็บอยู่ใน review ถูก index เพิ่มขึ้นไป 3 จากการมี reserved words ใน 3 ตัวเลขแรก ( “padding,” “start of sequence,” and “unknown.”)\n",
        "# ยกตัวอย่างเช่นคำว่า this ใน review จะเก็บเป็นเลข 14 แต่ถ้ามาตรวจสอบกับ word_index.get(\"this\") จะตรงกับคำว่า 11 (ต้องหักจากตัวเลขใน review ไป 3)\n",
        "decoded_review = \" \".join([reverse_word_index.get(i-3, '?') for i in X[0]])\n",
        "decoded_review"
      ],
      "execution_count": null,
      "outputs": [
        {
          "output_type": "execute_result",
          "data": {
            "application/vnd.google.colaboratory.intrinsic+json": {
              "type": "string"
            },
            "text/plain": [
              "\"? this film was just brilliant casting location scenery story direction everyone's really suited the part they played and you could just imagine being there robert ? is an amazing actor and now the same being director ? father came from the same scottish island as myself so i loved the fact there was a real connection with this film the witty remarks throughout the film were great it was just brilliant so much that i bought the film as soon as it was released for ? and would recommend it to everyone to watch and the fly fishing was amazing really cried at the end it was so sad and you know what they say if you cry at a film it must have been good and this definitely was also ? to the two little boy's that played the ? of norman and paul they were just brilliant children are often left out of the ? list i think because the stars that play them all grown up are such a big profile for the whole film but these children are amazing and should be praised for what they have done don't you think the whole story was so lovely because it was true and was someone's life after all that was shared with us all\""
            ]
          },
          "metadata": {},
          "execution_count": 6
        }
      ]
    },
    {
      "cell_type": "code",
      "metadata": {
        "colab": {
          "base_uri": "https://localhost:8080/"
        },
        "id": "GiZLhhjcwEcx",
        "outputId": "a6a4d989-7ec6-4066-9b93-dd78f7fd4164"
      },
      "source": [
        "# แปลงทุก review ให้อยู่ในรูปแบบของการมี input feature เดียวกัน \n",
        "# ทำได้โดยการแปลงแต่ละ training example ให้อยู่ในรูป one hot vectors of 10,000-dimensional vector \n",
        "\n",
        "import numpy as np\n",
        "\n",
        "def vectorize_sequences(sequences, dimension=10000):\n",
        "  results = np.zeros((len(sequences), dimension))\n",
        "  #print(results.shape)\n",
        "  for i, sequence in enumerate(sequences):\n",
        "    results[i, sequence] = 1.\n",
        "  return results\n",
        "\n",
        "X = vectorize_sequences(X)\n",
        "Xtest = vectorize_sequences(Xtest)\n",
        "\n",
        "#y_train = np.asarray(y_train_full).astype('float32')\n",
        "#y_test = np.asarray(y_test).astype('float32')\n",
        "\n",
        "X[0]"
      ],
      "execution_count": null,
      "outputs": [
        {
          "output_type": "execute_result",
          "data": {
            "text/plain": [
              "array([0., 1., 1., ..., 0., 0., 0.])"
            ]
          },
          "metadata": {},
          "execution_count": 7
        }
      ]
    },
    {
      "cell_type": "markdown",
      "metadata": {
        "id": "XfziKi013qzC"
      },
      "source": [
        "# Modelling"
      ]
    },
    {
      "cell_type": "markdown",
      "metadata": {
        "id": "LPH0yQhhhoWb"
      },
      "source": [
        "(2) ทำการเขียน code เพื่อ สร้างและ train model ที่เป็น 3-Layers NN architecture model \n",
        "\n",
        "1.   Build model โดยกำหนด hidden layer ที่ 1 = 16 nodes, hidden layer ที่ 2 = 16 nodes และ output layer = 1 node (for binary classification), activations ใน hidden layer ใช้เป็น relu และ  activations ใน hidden layer ใช้เป็น sigmoid \n",
        "2.   Compile model โดยกำหนด optimzer เป็น Adam, loss เป็น binary_crossentropy และ metrics เป็น accuracy\n",
        "3.   Train model โดยเรียก fit() method ที่ใช้ epochs 20 รอบ, batch size = 512 โดยให้ train โดยแบ่งข้อมูลให้ validation set 40% ด้วย \n",
        "\n",
        "\n"
      ]
    },
    {
      "cell_type": "code",
      "metadata": {
        "colab": {
          "base_uri": "https://localhost:8080/"
        },
        "id": "NirSuev7Plis",
        "outputId": "eda4ad85-1088-42c5-b711-2639ed34c42f"
      },
      "source": [
        "tf.random.set_seed(42)\n",
        "\n",
        "# build the model\n",
        "model = models.Sequential()\n",
        "model.add(Dense(16, activation='relu', input_shape=(10000,)))\n",
        "model.add(Dense(16, activation='relu'))\n",
        "model.add(Dense(1, activation='sigmoid'))\n",
        "\n",
        "# compile the model\n",
        "model.compile(optimizer='adam',\n",
        "              loss='binary_crossentropy',\n",
        "              metrics=['accuracy'])\n",
        "\n",
        "# train the model with validation set (proportion of training set: validation set = 60:40), epochs -20, and batch size = 512\n",
        "history = model.fit(X, y,epochs=20,batch_size=512,validation_split=0.4)"
      ],
      "execution_count": null,
      "outputs": [
        {
          "output_type": "stream",
          "name": "stdout",
          "text": [
            "Epoch 1/20\n",
            "30/30 [==============================] - 2s 38ms/step - loss: 0.5467 - accuracy: 0.7663 - val_loss: 0.3933 - val_accuracy: 0.8604\n",
            "Epoch 2/20\n",
            "30/30 [==============================] - 1s 28ms/step - loss: 0.2952 - accuracy: 0.9032 - val_loss: 0.2920 - val_accuracy: 0.8879\n",
            "Epoch 3/20\n",
            "30/30 [==============================] - 1s 27ms/step - loss: 0.1997 - accuracy: 0.9359 - val_loss: 0.2781 - val_accuracy: 0.8886\n",
            "Epoch 4/20\n",
            "30/30 [==============================] - 1s 26ms/step - loss: 0.1502 - accuracy: 0.9529 - val_loss: 0.2888 - val_accuracy: 0.8856\n",
            "Epoch 5/20\n",
            "30/30 [==============================] - 1s 26ms/step - loss: 0.1159 - accuracy: 0.9677 - val_loss: 0.2960 - val_accuracy: 0.8845\n",
            "Epoch 6/20\n",
            "30/30 [==============================] - 1s 27ms/step - loss: 0.0887 - accuracy: 0.9771 - val_loss: 0.3187 - val_accuracy: 0.8823\n",
            "Epoch 7/20\n",
            "30/30 [==============================] - 1s 27ms/step - loss: 0.0695 - accuracy: 0.9845 - val_loss: 0.3517 - val_accuracy: 0.8783\n",
            "Epoch 8/20\n",
            "30/30 [==============================] - 1s 27ms/step - loss: 0.0541 - accuracy: 0.9900 - val_loss: 0.3751 - val_accuracy: 0.8775\n",
            "Epoch 9/20\n",
            "30/30 [==============================] - 1s 27ms/step - loss: 0.0404 - accuracy: 0.9936 - val_loss: 0.4009 - val_accuracy: 0.8726\n",
            "Epoch 10/20\n",
            "30/30 [==============================] - 1s 26ms/step - loss: 0.0314 - accuracy: 0.9959 - val_loss: 0.4286 - val_accuracy: 0.8736\n",
            "Epoch 11/20\n",
            "30/30 [==============================] - 1s 27ms/step - loss: 0.0235 - accuracy: 0.9977 - val_loss: 0.4548 - val_accuracy: 0.8710\n",
            "Epoch 12/20\n",
            "30/30 [==============================] - 1s 28ms/step - loss: 0.0181 - accuracy: 0.9987 - val_loss: 0.4812 - val_accuracy: 0.8708\n",
            "Epoch 13/20\n",
            "30/30 [==============================] - 1s 27ms/step - loss: 0.0140 - accuracy: 0.9993 - val_loss: 0.5083 - val_accuracy: 0.8701\n",
            "Epoch 14/20\n",
            "30/30 [==============================] - 1s 26ms/step - loss: 0.0113 - accuracy: 0.9993 - val_loss: 0.5320 - val_accuracy: 0.8691\n",
            "Epoch 15/20\n",
            "30/30 [==============================] - 1s 26ms/step - loss: 0.0089 - accuracy: 0.9996 - val_loss: 0.5527 - val_accuracy: 0.8686\n",
            "Epoch 16/20\n",
            "30/30 [==============================] - 1s 27ms/step - loss: 0.0072 - accuracy: 0.9997 - val_loss: 0.5746 - val_accuracy: 0.8694\n",
            "Epoch 17/20\n",
            "30/30 [==============================] - 1s 27ms/step - loss: 0.0059 - accuracy: 0.9997 - val_loss: 0.5929 - val_accuracy: 0.8695\n",
            "Epoch 18/20\n",
            "30/30 [==============================] - 1s 27ms/step - loss: 0.0049 - accuracy: 0.9998 - val_loss: 0.6109 - val_accuracy: 0.8697\n",
            "Epoch 19/20\n",
            "30/30 [==============================] - 1s 26ms/step - loss: 0.0041 - accuracy: 0.9998 - val_loss: 0.6292 - val_accuracy: 0.8689\n",
            "Epoch 20/20\n",
            "30/30 [==============================] - 1s 25ms/step - loss: 0.0035 - accuracy: 0.9999 - val_loss: 0.6441 - val_accuracy: 0.8689\n"
          ]
        }
      ]
    },
    {
      "cell_type": "markdown",
      "metadata": {
        "id": "shBbHbA45IYp"
      },
      "source": [
        "#Model Evaluation"
      ]
    },
    {
      "cell_type": "code",
      "metadata": {
        "colab": {
          "base_uri": "https://localhost:8080/"
        },
        "id": "uRfbAh116L-A",
        "outputId": "5b4bd232-9057-4e19-b0e5-6aea78d79324"
      },
      "source": [
        "# checking loss and accuracy metrics\n",
        "history.history.keys()"
      ],
      "execution_count": null,
      "outputs": [
        {
          "output_type": "execute_result",
          "data": {
            "text/plain": [
              "dict_keys(['loss', 'accuracy', 'val_loss', 'val_accuracy'])"
            ]
          },
          "metadata": {},
          "execution_count": 9
        }
      ]
    },
    {
      "cell_type": "code",
      "metadata": {
        "colab": {
          "base_uri": "https://localhost:8080/",
          "height": 295
        },
        "id": "6N5E3mo26tqI",
        "outputId": "3cab2877-0e0b-4a8e-b146-33aa1960a00d"
      },
      "source": [
        "#plot the learning curves\n",
        "epochs = range(1, len(history.history['loss']) + 1)\n",
        "plt.plot(epochs, history.history['loss'], label = 'loss')\n",
        "plt.plot(epochs, history.history['val_loss'], label = 'val_loss')\n",
        "plt.plot(epochs, history.history['accuracy'], label = 'acc')\n",
        "plt.plot(epochs, history.history['val_accuracy'], label = 'val_acc')\n",
        "plt.title('Loss, Accuracy vs Epochs')\n",
        "plt.xlabel(\"Epochs\")\n",
        "plt.ylabel(\"Accuracy\")\n",
        "plt.legend()\n",
        "plt.show()"
      ],
      "execution_count": null,
      "outputs": [
        {
          "output_type": "display_data",
          "data": {
            "image/png": "[encoded data removed]",
            "text/plain": [
              "<Figure size 432x288 with 1 Axes>"
            ]
          },
          "metadata": {
            "needs_background": "light"
          }
        }
      ]
    },
    {
      "cell_type": "markdown",
      "metadata": {
        "id": "vXFu93uTkcKJ"
      },
      "source": [
        "เขียน code ในการวัดประสิทธิภาพ(evaluate) ของ model กับ test set "
      ]
    },
    {
      "cell_type": "code",
      "metadata": {
        "colab": {
          "base_uri": "https://localhost:8080/"
        },
        "id": "UfJe4Ce288R3",
        "outputId": "4797e58f-ff29-4d92-c8b0-29581bda19b9"
      },
      "source": [
        "model.evaluate(Xtest, ytest)"
      ],
      "execution_count": null,
      "outputs": [
        {
          "output_type": "stream",
          "name": "stdout",
          "text": [
            "782/782 [==============================] - 1s 2ms/step - loss: 0.7014 - accuracy: 0.8545\n"
          ]
        },
        {
          "output_type": "execute_result",
          "data": {
            "text/plain": [
              "[0.7014392018318176, 0.8545200228691101]"
            ]
          },
          "metadata": {},
          "execution_count": 11
        }
      ]
    },
    {
      "cell_type": "code",
      "metadata": {
        "colab": {
          "base_uri": "https://localhost:8080/"
        },
        "id": "6DTqcbHG7KYm",
        "outputId": "63890c0a-6b84-448d-cae1-d8b99b60fbfc"
      },
      "source": [
        "#prediction\n",
        "np.argmax(model.predict(Xtest[0:10,:]), axis=1)"
      ],
      "execution_count": null,
      "outputs": [
        {
          "output_type": "execute_result",
          "data": {
            "text/plain": [
              "array([0, 0, 0, 0, 0, 0, 0, 0, 0, 0])"
            ]
          },
          "metadata": {},
          "execution_count": 12
        }
      ]
    },
    {
      "cell_type": "code",
      "metadata": {
        "colab": {
          "base_uri": "https://localhost:8080/"
        },
        "id": "mP5FSW6eF-ob",
        "outputId": "4f4c63de-fde5-4146-c230-4863ebceebbb"
      },
      "source": [
        "ytest[0:10]"
      ],
      "execution_count": null,
      "outputs": [
        {
          "output_type": "execute_result",
          "data": {
            "text/plain": [
              "array([0, 1, 1, 0, 1, 1, 1, 0, 0, 1])"
            ]
          },
          "metadata": {},
          "execution_count": 13
        }
      ]
    },
    {
      "cell_type": "markdown",
      "metadata": {
        "id": "MFTuY79nOp0f"
      },
      "source": [
        "#Improvement"
      ]
    },
    {
      "cell_type": "markdown",
      "metadata": {
        "id": "lPP46Ugd3B0V"
      },
      "source": [
        "จากกราฟ Loss, Accuracy vs epochs ให้นิสิตลองปรับปรุง Model ด้วย regularization และ dropout ที่ควรให้ผลลัพธ์ที่ลด overfitting ได้ จากนั้นทำการวัด preformance ของ model ที่ได้ปรับปรุงกับ Test set และลองทำนายข้อมูลตัวอย่างแรกใน test set เทียบกับข้อมูลจริงดู \n",
        "\n",
        "![image.png](data:image/png;base64,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)"
      ]
    },
    {
      "cell_type": "code",
      "metadata": {
        "id": "3iMc55fi4Y4K"
      },
      "source": [
        ""
      ],
      "execution_count": null,
      "outputs": []
    },
    {
      "cell_type": "markdown",
      "metadata": {
        "id": "M0lxw5BvVxud"
      },
      "source": [
        "#Hyperparameter Tuning"
      ]
    },
    {
      "cell_type": "code",
      "metadata": {
        "colab": {
          "base_uri": "https://localhost:8080/"
        },
        "id": "HRA4irsyXAeS",
        "outputId": "ffb27bfe-1ee7-401a-b729-62d3c3d213ed"
      },
      "source": [
        "! pip install keras-tuner "
      ],
      "execution_count": null,
      "outputs": [
        {
          "output_type": "stream",
          "name": "stdout",
          "text": [
            "Collecting keras-tuner\n",
            "  Downloading keras_tuner-1.0.4-py3-none-any.whl (97 kB)\n",
            "\u001b[?25l\r\u001b[K     |███▍                            | 10 kB 33.7 MB/s eta 0:00:01\r\u001b[K     |██████▊                         | 20 kB 24.9 MB/s eta 0:00:01\r\u001b[K     |██████████                      | 30 kB 17.6 MB/s eta 0:00:01\r\u001b[K     |█████████████▍                  | 40 kB 15.3 MB/s eta 0:00:01\r\u001b[K     |████████████████▊               | 51 kB 7.2 MB/s eta 0:00:01\r\u001b[K     |████████████████████            | 61 kB 8.5 MB/s eta 0:00:01\r\u001b[K     |███████████████████████▍        | 71 kB 8.1 MB/s eta 0:00:01\r\u001b[K     |██████████████████████████▊     | 81 kB 9.1 MB/s eta 0:00:01\r\u001b[K     |██████████████████████████████▏ | 92 kB 9.4 MB/s eta 0:00:01\r\u001b[K     |████████████████████████████████| 97 kB 5.2 MB/s \n",
            "\u001b[?25hRequirement already satisfied: numpy in /usr/local/lib/python3.7/dist-packages (from keras-tuner) (1.19.5)\n",
            "Requirement already satisfied: packaging in /usr/local/lib/python3.7/dist-packages (from keras-tuner) (21.0)\n",
            "Requirement already satisfied: scipy in /usr/local/lib/python3.7/dist-packages (from keras-tuner) (1.4.1)\n",
            "Collecting kt-legacy\n",
            "  Downloading kt_legacy-1.0.4-py3-none-any.whl (9.6 kB)\n",
            "Requirement already satisfied: ipython in /usr/local/lib/python3.7/dist-packages (from keras-tuner) (5.5.0)\n",
            "Requirement already satisfied: requests in /usr/local/lib/python3.7/dist-packages (from keras-tuner) (2.23.0)\n",
            "Requirement already satisfied: tensorboard in /usr/local/lib/python3.7/dist-packages (from keras-tuner) (2.6.0)\n",
            "Requirement already satisfied: setuptools>=18.5 in /usr/local/lib/python3.7/dist-packages (from ipython->keras-tuner) (57.4.0)\n",
            "Requirement already satisfied: decorator in /usr/local/lib/python3.7/dist-packages (from ipython->keras-tuner) (4.4.2)\n",
            "Requirement already satisfied: pickleshare in /usr/local/lib/python3.7/dist-packages (from ipython->keras-tuner) (0.7.5)\n",
            "Requirement already satisfied: pexpect in /usr/local/lib/python3.7/dist-packages (from ipython->keras-tuner) (4.8.0)\n",
            "Requirement already satisfied: pygments in /usr/local/lib/python3.7/dist-packages (from ipython->keras-tuner) (2.6.1)\n",
            "Requirement already satisfied: traitlets>=4.2 in /usr/local/lib/python3.7/dist-packages (from ipython->keras-tuner) (5.1.0)\n",
            "Requirement already satisfied: prompt-toolkit<2.0.0,>=1.0.4 in /usr/local/lib/python3.7/dist-packages (from ipython->keras-tuner) (1.0.18)\n",
            "Requirement already satisfied: simplegeneric>0.8 in /usr/local/lib/python3.7/dist-packages (from ipython->keras-tuner) (0.8.1)\n",
            "Requirement already satisfied: wcwidth in /usr/local/lib/python3.7/dist-packages (from prompt-toolkit<2.0.0,>=1.0.4->ipython->keras-tuner) (0.2.5)\n",
            "Requirement already satisfied: six>=1.9.0 in /usr/local/lib/python3.7/dist-packages (from prompt-toolkit<2.0.0,>=1.0.4->ipython->keras-tuner) (1.15.0)\n",
            "Requirement already satisfied: pyparsing>=2.0.2 in /usr/local/lib/python3.7/dist-packages (from packaging->keras-tuner) (2.4.7)\n",
            "Requirement already satisfied: ptyprocess>=0.5 in /usr/local/lib/python3.7/dist-packages (from pexpect->ipython->keras-tuner) (0.7.0)\n",
            "Requirement already satisfied: chardet<4,>=3.0.2 in /usr/local/lib/python3.7/dist-packages (from requests->keras-tuner) (3.0.4)\n",
            "Requirement already satisfied: certifi>=2017.4.17 in /usr/local/lib/python3.7/dist-packages (from requests->keras-tuner) (2021.5.30)\n",
            "Requirement already satisfied: idna<3,>=2.5 in /usr/local/lib/python3.7/dist-packages (from requests->keras-tuner) (2.10)\n",
            "Requirement already satisfied: urllib3!=1.25.0,!=1.25.1,<1.26,>=1.21.1 in /usr/local/lib/python3.7/dist-packages (from requests->keras-tuner) (1.24.3)\n",
            "Requirement already satisfied: markdown>=2.6.8 in /usr/local/lib/python3.7/dist-packages (from tensorboard->keras-tuner) (3.3.4)\n",
            "Requirement already satisfied: wheel>=0.26 in /usr/local/lib/python3.7/dist-packages (from tensorboard->keras-tuner) (0.37.0)\n",
            "Requirement already satisfied: werkzeug>=0.11.15 in /usr/local/lib/python3.7/dist-packages (from tensorboard->keras-tuner) (1.0.1)\n",
            "Requirement already satisfied: absl-py>=0.4 in /usr/local/lib/python3.7/dist-packages (from tensorboard->keras-tuner) (0.12.0)\n",
            "Requirement already satisfied: grpcio>=1.24.3 in /usr/local/lib/python3.7/dist-packages (from tensorboard->keras-tuner) (1.40.0)\n",
            "Requirement already satisfied: tensorboard-data-server<0.7.0,>=0.6.0 in /usr/local/lib/python3.7/dist-packages (from tensorboard->keras-tuner) (0.6.1)\n",
            "Requirement already satisfied: google-auth-oauthlib<0.5,>=0.4.1 in /usr/local/lib/python3.7/dist-packages (from tensorboard->keras-tuner) (0.4.6)\n",
            "Requirement already satisfied: google-auth<2,>=1.6.3 in /usr/local/lib/python3.7/dist-packages (from tensorboard->keras-tuner) (1.35.0)\n",
            "Requirement already satisfied: tensorboard-plugin-wit>=1.6.0 in /usr/local/lib/python3.7/dist-packages (from tensorboard->keras-tuner) (1.8.0)\n",
            "Requirement already satisfied: protobuf>=3.6.0 in /usr/local/lib/python3.7/dist-packages (from tensorboard->keras-tuner) (3.17.3)\n",
            "Requirement already satisfied: rsa<5,>=3.1.4 in /usr/local/lib/python3.7/dist-packages (from google-auth<2,>=1.6.3->tensorboard->keras-tuner) (4.7.2)\n",
            "Requirement already satisfied: pyasn1-modules>=0.2.1 in /usr/local/lib/python3.7/dist-packages (from google-auth<2,>=1.6.3->tensorboard->keras-tuner) (0.2.8)\n",
            "Requirement already satisfied: cachetools<5.0,>=2.0.0 in /usr/local/lib/python3.7/dist-packages (from google-auth<2,>=1.6.3->tensorboard->keras-tuner) (4.2.2)\n",
            "Requirement already satisfied: requests-oauthlib>=0.7.0 in /usr/local/lib/python3.7/dist-packages (from google-auth-oauthlib<0.5,>=0.4.1->tensorboard->keras-tuner) (1.3.0)\n",
            "Requirement already satisfied: importlib-metadata in /usr/local/lib/python3.7/dist-packages (from markdown>=2.6.8->tensorboard->keras-tuner) (4.8.1)\n",
            "Requirement already satisfied: pyasn1<0.5.0,>=0.4.6 in /usr/local/lib/python3.7/dist-packages (from pyasn1-modules>=0.2.1->google-auth<2,>=1.6.3->tensorboard->keras-tuner) (0.4.8)\n",
            "Requirement already satisfied: oauthlib>=3.0.0 in /usr/local/lib/python3.7/dist-packages (from requests-oauthlib>=0.7.0->google-auth-oauthlib<0.5,>=0.4.1->tensorboard->keras-tuner) (3.1.1)\n",
            "Requirement already satisfied: zipp>=0.5 in /usr/local/lib/python3.7/dist-packages (from importlib-metadata->markdown>=2.6.8->tensorboard->keras-tuner) (3.5.0)\n",
            "Requirement already satisfied: typing-extensions>=3.6.4 in /usr/local/lib/python3.7/dist-packages (from importlib-metadata->markdown>=2.6.8->tensorboard->keras-tuner) (3.7.4.3)\n",
            "Installing collected packages: kt-legacy, keras-tuner\n",
            "Successfully installed keras-tuner-1.0.4 kt-legacy-1.0.4\n"
          ]
        }
      ]
    },
    {
      "cell_type": "code",
      "metadata": {
        "colab": {
          "base_uri": "https://localhost:8080/",
          "height": 69
        },
        "id": "2bmfvGsCV4Nc",
        "outputId": "51cb1e8f-44ec-45a2-adbe-f3c462121850"
      },
      "source": [
        "# https://www.tensorflow.org/tutorials/keras/keras_tuner\n",
        "import kerastuner as kt\n",
        "kt.__version__"
      ],
      "execution_count": null,
      "outputs": [
        {
          "output_type": "stream",
          "name": "stderr",
          "text": [
            "/usr/local/lib/python3.7/dist-packages/ipykernel_launcher.py:2: DeprecationWarning: `import kerastuner` is deprecated, please use `import keras_tuner`.\n",
            "  \n"
          ]
        },
        {
          "output_type": "execute_result",
          "data": {
            "application/vnd.google.colaboratory.intrinsic+json": {
              "type": "string"
            },
            "text/plain": [
              "'1.0.3'"
            ]
          },
          "metadata": {},
          "execution_count": 15
        }
      ]
    },
    {
      "cell_type": "markdown",
      "metadata": {
        "id": "dtnY8K4Oe615"
      },
      "source": [
        "# Built model for tuning"
      ]
    },
    {
      "cell_type": "code",
      "metadata": {
        "id": "87BoscupXj9L"
      },
      "source": [
        "tf.random.set_seed(42)\n",
        "\n",
        "def build_model(hp):\n",
        "    '''\n",
        "    Builds model and sets up hyperparameter space to search.\n",
        "    \n",
        "    Parameters\n",
        "    ----------\n",
        "    hp : HyperParameter object\n",
        "        Configures hyperparameters to tune.\n",
        "        \n",
        "    Returns\n",
        "    -------\n",
        "    model : keras model\n",
        "        Compiled model with hyperparameters to tune.\n",
        "    '''\n",
        "    # build the model\n",
        "    model = models.Sequential()\n",
        "    Flatten(input_shape=(X.shape[1:],))\n",
        "    for i in range(hp.Int(\"num_layers\", 1, 5)):\n",
        "      model.add(Dense(units=hp.Int(\"units_\" + str(i), min_value=16, max_value=100, step=1), activation=hp.Choice(\"activation\", values=['relu', 'elu', 'selu'])))\n",
        "      model.add(Dropout(hp.Float(\"dropout_\" + str(i), 0, 0.5, step=0.1)))\n",
        "    model.add(Dense(1, activation='sigmoid'))\n",
        "\n",
        "    #  \n",
        "    # compile the model\n",
        "    model.compile(optimizer=tf.keras.optimizers.Adam(learning_rate=hp.Float(\"lr\", 1e-4, 1e-2, sampling ='log')),\n",
        "                  loss='binary_crossentropy',\n",
        "                  metrics=['accuracy'])\n",
        "\n",
        "    return model"
      ],
      "execution_count": null,
      "outputs": []
    },
    {
      "cell_type": "markdown",
      "metadata": {
        "id": "olA5777bfDmX"
      },
      "source": [
        "#Randomized Search"
      ]
    },
    {
      "cell_type": "code",
      "metadata": {
        "id": "KNiB1cLnrqEc"
      },
      "source": [
        "### Fill your code###"
      ],
      "execution_count": null,
      "outputs": []
    },
    {
      "cell_type": "markdown",
      "metadata": {
        "id": "2al-DlXafGPH"
      },
      "source": [
        "# Hyperband"
      ]
    },
    {
      "cell_type": "code",
      "metadata": {
        "id": "oZbBOZYsruOu"
      },
      "source": [
        "### Fill your code###"
      ],
      "execution_count": null,
      "outputs": []
    }
  ]
}
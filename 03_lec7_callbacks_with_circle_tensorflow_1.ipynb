{
  "cells": [
    {
      "cell_type": "code",
      "execution_count": null,
      "metadata": {
        "id": "GRvsIUavny9A"
      },
      "outputs": [],
      "source": [
        "import numpy as np\n",
        "import pandas as pd\n",
        "import tensorflow as tf\n",
        "import matplotlib\n",
        "import matplotlib.pyplot as plt\n",
        "from tensorflow.keras import models\n",
        "from tensorflow.keras.layers import Dense, Flatten, Softmax"
      ]
    },
    {
      "cell_type": "code",
      "execution_count": null,
      "metadata": {
        "colab": {
          "base_uri": "https://localhost:8080/"
        },
        "id": "ZKFVz5jmoKc5",
        "outputId": "b9db5ebb-57ec-4cbd-8323-bd6723add358"
      },
      "outputs": [
        {
          "name": "stdout",
          "output_type": "stream",
          "text": [
            "(1000, 3)\n",
            "         x        y  label\n",
            "0 -0.71551  0.59070    1.0\n",
            "1  0.44738  0.61331    1.0\n",
            "2  1.10156  0.01875    0.0\n",
            "3 -0.51240 -0.53197    1.0\n",
            "4 -0.60674 -0.40527    1.0\n",
            "                 x            y       label\n",
            "count  1000.000000  1000.000000  1000.00000\n",
            "mean     -0.001137    -0.003357     0.50000\n",
            "std       0.647163     0.648830     0.50025\n",
            "min      -1.198160    -1.156330     0.00000\n",
            "25%      -0.606755    -0.602648     0.00000\n",
            "50%      -0.006030    -0.017285     0.50000\n",
            "75%       0.612818     0.592037     1.00000\n",
            "max       1.240780     1.212130     1.00000\n"
          ]
        }
      ],
      "source": [
        "df = pd.read_csv(\"03_circle.csv\")\n",
        "print(df.shape)\n",
        "print(df.head())\n",
        "print(df.describe())\n",
        "data = df.to_numpy()\n",
        "X = data[0:150,0:2]\n",
        "Xval = data[150:200,0:2]\n",
        "Xtest = data[200:250,0:2]\n",
        "y = data[0:150,2]\n",
        "yval = data[150:200,2]\n",
        "ytest = data[200:250,2]"
      ]
    },
    {
      "cell_type": "code",
      "execution_count": null,
      "metadata": {
        "colab": {
          "base_uri": "https://localhost:8080/",
          "height": 295
        },
        "collapsed": true,
        "id": "qjg1Slp-pIGM",
        "outputId": "0430e2a8-1df9-4184-d21a-220d88deed34"
      },
      "outputs": [
        {
          "data": {
            "image/png": "[encoded data removed]",
            "text/plain": [
              "<Figure size 432x288 with 1 Axes>"
            ]
          },
          "metadata": {
            "needs_background": "light"
          },
          "output_type": "display_data"
        }
      ],
      "source": [
        "# Find Indices of Positive and Negative Examples\n",
        "pos = (y==1)\n",
        "neg = (y==0)\n",
        "\n",
        "# Plot Examples\n",
        "fig = plt.figure()\n",
        "plt.plot(X[pos, 0], X[pos, 1], 'o', markerfacecolor='r', markersize=8, markeredgecolor='k')\n",
        "plt.plot(X[neg, 0], X[neg, 1], 'o', mfc='b', ms=8, mec='k')\n",
        "plt.xlabel('X1')\n",
        "plt.title('Circlel Dataset')\n",
        "plt.ylabel('X2')\n",
        "plt.legend(['positive', 'negative'])\n",
        "plt.show()"
      ]
    },
    {
      "cell_type": "code",
      "execution_count": null,
      "metadata": {
        "id": "sdbxwkjcoRoZ"
      },
      "outputs": [],
      "source": [
        "tf.random.set_seed(42)\n",
        "\n",
        "def build_model():\n",
        "\n",
        "  model = models.Sequential()\n",
        "  model.add(Dense(10, activation='relu', kernel_initializer='he_normal',input_shape=(2,), name='Hidden1'))\n",
        "  model.add(Dense(10, activation='relu', kernel_initializer='he_normal', name='Hidden2'))\n",
        "  model.add(Dense(10, activation='relu', kernel_initializer='he_normal', name='Hidden3'))\n",
        "  model.add(Dense(1, activation='sigmoid', name='Output'))\n",
        "\n",
        "  model.compile(optimizer=tf.keras.optimizers.Adam(learning_rate=0.03), loss='binary_crossentropy', metrics = ['accuracy'])\n",
        "\n",
        "  return model"
      ]
    },
    {
      "cell_type": "code",
      "execution_count": null,
      "metadata": {
        "colab": {
          "base_uri": "https://localhost:8080/"
        },
        "id": "5y5HYqjGJjgy",
        "outputId": "72cfd29e-dd59-4757-cd3a-6f8b2868a5d9"
      },
      "outputs": [
        {
          "name": "stdout",
          "output_type": "stream",
          "text": [
            "Model: \"sequential\"\n",
            "_________________________________________________________________\n",
            "Layer (type)                 Output Shape              Param #   \n",
            "=================================================================\n",
            "Hidden1 (Dense)              (None, 10)                30        \n",
            "_________________________________________________________________\n",
            "Hidden2 (Dense)              (None, 10)                110       \n",
            "_________________________________________________________________\n",
            "Hidden3 (Dense)              (None, 10)                110       \n",
            "_________________________________________________________________\n",
            "Output (Dense)               (None, 1)                 11        \n",
            "=================================================================\n",
            "Total params: 261\n",
            "Trainable params: 261\n",
            "Non-trainable params: 0\n",
            "_________________________________________________________________\n"
          ]
        }
      ],
      "source": [
        "#print(model.weights)\n",
        "model = build_model()\n",
        "model.summary()"
      ]
    },
    {
      "cell_type": "code",
      "execution_count": null,
      "metadata": {
        "colab": {
          "base_uri": "https://localhost:8080/"
        },
        "id": "mrdnF0xVxwS-",
        "outputId": "e2e8c9aa-a1ab-424d-f96c-1aaecdf45688"
      },
      "outputs": [
        {
          "name": "stdout",
          "output_type": "stream",
          "text": [
            "Epoch 1/50\n",
            "1/1 [==============================] - 1s 986ms/step - loss: 0.6926 - accuracy: 0.5200 - val_loss: 0.6703 - val_accuracy: 0.5600\n",
            "Epoch 2/50\n",
            "1/1 [==============================] - 0s 20ms/step - loss: 0.6832 - accuracy: 0.5400 - val_loss: 0.6630 - val_accuracy: 0.5600\n",
            "Epoch 3/50\n",
            "1/1 [==============================] - 0s 22ms/step - loss: 0.6806 - accuracy: 0.5667 - val_loss: 0.6596 - val_accuracy: 0.5800\n",
            "Epoch 4/50\n",
            "1/1 [==============================] - 0s 25ms/step - loss: 0.6753 - accuracy: 0.5667 - val_loss: 0.6595 - val_accuracy: 0.6600\n",
            "Epoch 5/50\n",
            "1/1 [==============================] - 0s 22ms/step - loss: 0.6695 - accuracy: 0.6267 - val_loss: 0.6614 - val_accuracy: 0.7400\n",
            "Epoch 6/50\n",
            "1/1 [==============================] - 0s 27ms/step - loss: 0.6651 - accuracy: 0.6467 - val_loss: 0.6610 - val_accuracy: 0.7400\n",
            "Epoch 7/50\n",
            "1/1 [==============================] - 0s 23ms/step - loss: 0.6600 - accuracy: 0.6600 - val_loss: 0.6586 - val_accuracy: 0.6600\n",
            "Epoch 8/50\n",
            "1/1 [==============================] - 0s 24ms/step - loss: 0.6536 - accuracy: 0.7067 - val_loss: 0.6554 - val_accuracy: 0.5800\n",
            "Epoch 9/50\n",
            "1/1 [==============================] - 0s 28ms/step - loss: 0.6466 - accuracy: 0.6867 - val_loss: 0.6521 - val_accuracy: 0.5800\n",
            "Epoch 10/50\n",
            "1/1 [==============================] - 0s 23ms/step - loss: 0.6390 - accuracy: 0.6733 - val_loss: 0.6471 - val_accuracy: 0.5800\n",
            "Epoch 11/50\n",
            "1/1 [==============================] - 0s 26ms/step - loss: 0.6305 - accuracy: 0.6867 - val_loss: 0.6403 - val_accuracy: 0.6400\n",
            "Epoch 12/50\n",
            "1/1 [==============================] - 0s 23ms/step - loss: 0.6213 - accuracy: 0.6867 - val_loss: 0.6299 - val_accuracy: 0.6400\n",
            "Epoch 13/50\n",
            "1/1 [==============================] - 0s 24ms/step - loss: 0.6088 - accuracy: 0.7067 - val_loss: 0.6196 - val_accuracy: 0.6600\n",
            "Epoch 14/50\n",
            "1/1 [==============================] - 0s 27ms/step - loss: 0.5942 - accuracy: 0.7200 - val_loss: 0.6068 - val_accuracy: 0.7000\n",
            "Epoch 15/50\n",
            "1/1 [==============================] - 0s 26ms/step - loss: 0.5804 - accuracy: 0.7600 - val_loss: 0.5936 - val_accuracy: 0.7400\n",
            "Epoch 16/50\n",
            "1/1 [==============================] - 0s 23ms/step - loss: 0.5661 - accuracy: 0.7333 - val_loss: 0.5794 - val_accuracy: 0.7200\n",
            "Epoch 17/50\n",
            "1/1 [==============================] - 0s 26ms/step - loss: 0.5494 - accuracy: 0.7533 - val_loss: 0.5695 - val_accuracy: 0.7400\n",
            "Epoch 18/50\n",
            "1/1 [==============================] - 0s 24ms/step - loss: 0.5331 - accuracy: 0.7533 - val_loss: 0.5689 - val_accuracy: 0.7400\n",
            "Epoch 19/50\n",
            "1/1 [==============================] - 0s 27ms/step - loss: 0.5177 - accuracy: 0.7667 - val_loss: 0.5721 - val_accuracy: 0.7400\n",
            "Epoch 20/50\n",
            "1/1 [==============================] - 0s 21ms/step - loss: 0.5003 - accuracy: 0.7733 - val_loss: 0.5759 - val_accuracy: 0.6800\n",
            "Epoch 21/50\n",
            "1/1 [==============================] - 0s 25ms/step - loss: 0.4857 - accuracy: 0.8067 - val_loss: 0.5692 - val_accuracy: 0.7400\n",
            "Epoch 22/50\n",
            "1/1 [==============================] - 0s 26ms/step - loss: 0.4689 - accuracy: 0.8000 - val_loss: 0.5621 - val_accuracy: 0.7000\n",
            "Epoch 23/50\n",
            "1/1 [==============================] - 0s 24ms/step - loss: 0.4507 - accuracy: 0.8000 - val_loss: 0.5478 - val_accuracy: 0.7200\n",
            "Epoch 24/50\n",
            "1/1 [==============================] - 0s 23ms/step - loss: 0.4332 - accuracy: 0.8333 - val_loss: 0.5438 - val_accuracy: 0.7800\n",
            "Epoch 25/50\n",
            "1/1 [==============================] - 0s 32ms/step - loss: 0.4155 - accuracy: 0.8333 - val_loss: 0.5455 - val_accuracy: 0.7000\n",
            "Epoch 26/50\n",
            "1/1 [==============================] - 0s 21ms/step - loss: 0.4030 - accuracy: 0.8333 - val_loss: 0.5195 - val_accuracy: 0.8200\n",
            "Epoch 27/50\n",
            "1/1 [==============================] - 0s 29ms/step - loss: 0.3883 - accuracy: 0.8533 - val_loss: 0.4977 - val_accuracy: 0.7800\n",
            "Epoch 28/50\n",
            "1/1 [==============================] - 0s 29ms/step - loss: 0.3757 - accuracy: 0.8467 - val_loss: 0.4806 - val_accuracy: 0.8000\n",
            "Epoch 29/50\n",
            "1/1 [==============================] - 0s 30ms/step - loss: 0.3611 - accuracy: 0.8200 - val_loss: 0.4855 - val_accuracy: 0.7200\n",
            "Epoch 30/50\n",
            "1/1 [==============================] - 0s 23ms/step - loss: 0.3536 - accuracy: 0.8333 - val_loss: 0.4763 - val_accuracy: 0.7800\n",
            "Epoch 31/50\n",
            "1/1 [==============================] - 0s 25ms/step - loss: 0.3410 - accuracy: 0.8333 - val_loss: 0.4750 - val_accuracy: 0.7400\n",
            "Epoch 32/50\n",
            "1/1 [==============================] - 0s 22ms/step - loss: 0.3329 - accuracy: 0.8400 - val_loss: 0.4887 - val_accuracy: 0.7600\n",
            "Epoch 33/50\n",
            "1/1 [==============================] - 0s 24ms/step - loss: 0.3216 - accuracy: 0.8533 - val_loss: 0.4982 - val_accuracy: 0.7200\n",
            "Epoch 34/50\n",
            "1/1 [==============================] - 0s 28ms/step - loss: 0.3119 - accuracy: 0.8600 - val_loss: 0.4904 - val_accuracy: 0.7800\n",
            "Epoch 35/50\n",
            "1/1 [==============================] - 0s 29ms/step - loss: 0.3031 - accuracy: 0.8667 - val_loss: 0.4957 - val_accuracy: 0.7200\n",
            "Epoch 36/50\n",
            "1/1 [==============================] - 0s 29ms/step - loss: 0.2965 - accuracy: 0.8600 - val_loss: 0.5149 - val_accuracy: 0.7400\n",
            "Epoch 37/50\n",
            "1/1 [==============================] - 0s 24ms/step - loss: 0.2944 - accuracy: 0.8800 - val_loss: 0.5181 - val_accuracy: 0.7000\n",
            "Epoch 38/50\n",
            "1/1 [==============================] - 0s 21ms/step - loss: 0.2906 - accuracy: 0.8667 - val_loss: 0.5334 - val_accuracy: 0.7200\n",
            "Epoch 39/50\n",
            "1/1 [==============================] - 0s 26ms/step - loss: 0.2879 - accuracy: 0.8867 - val_loss: 0.5584 - val_accuracy: 0.7600\n",
            "Epoch 40/50\n",
            "1/1 [==============================] - 0s 29ms/step - loss: 0.2869 - accuracy: 0.8667 - val_loss: 0.5382 - val_accuracy: 0.7800\n",
            "Epoch 41/50\n",
            "1/1 [==============================] - 0s 21ms/step - loss: 0.2863 - accuracy: 0.8800 - val_loss: 0.5761 - val_accuracy: 0.8000\n",
            "Epoch 42/50\n",
            "1/1 [==============================] - 0s 26ms/step - loss: 0.2954 - accuracy: 0.8533 - val_loss: 0.5977 - val_accuracy: 0.7400\n",
            "Epoch 43/50\n",
            "1/1 [==============================] - 0s 24ms/step - loss: 0.3157 - accuracy: 0.8600 - val_loss: 0.5967 - val_accuracy: 0.7600\n",
            "Epoch 44/50\n",
            "1/1 [==============================] - 0s 26ms/step - loss: 0.2924 - accuracy: 0.8467 - val_loss: 0.6071 - val_accuracy: 0.7800\n",
            "Epoch 45/50\n",
            "1/1 [==============================] - 0s 26ms/step - loss: 0.2818 - accuracy: 0.8667 - val_loss: 0.6382 - val_accuracy: 0.7200\n",
            "Epoch 46/50\n",
            "1/1 [==============================] - 0s 26ms/step - loss: 0.3010 - accuracy: 0.8600 - val_loss: 0.6149 - val_accuracy: 0.7600\n",
            "Epoch 47/50\n",
            "1/1 [==============================] - 0s 28ms/step - loss: 0.2738 - accuracy: 0.8933 - val_loss: 0.6334 - val_accuracy: 0.7600\n",
            "Epoch 48/50\n",
            "1/1 [==============================] - 0s 30ms/step - loss: 0.2939 - accuracy: 0.8533 - val_loss: 0.6061 - val_accuracy: 0.7600\n",
            "Epoch 49/50\n",
            "1/1 [==============================] - 0s 33ms/step - loss: 0.2751 - accuracy: 0.8800 - val_loss: 0.6307 - val_accuracy: 0.7800\n",
            "Epoch 50/50\n",
            "1/1 [==============================] - 0s 30ms/step - loss: 0.2852 - accuracy: 0.8733 - val_loss: 0.6368 - val_accuracy: 0.7600\n"
          ]
        }
      ],
      "source": [
        "tf.random.set_seed(42)\n",
        "\n",
        "model = build_model()\n",
        "history = model.fit(X,y, validation_data=(Xval,yval), epochs=50, batch_size=150)"
      ]
    },
    {
      "cell_type": "code",
      "execution_count": null,
      "metadata": {
        "colab": {
          "base_uri": "https://localhost:8080/",
          "height": 295
        },
        "id": "HPEOXz5Bth0V",
        "outputId": "17ea4d10-5402-421f-9dad-dfd357d8cbb9"
      },
      "outputs": [
        {
          "data": {
            "image/png": "[encoded data removed]",
            "text/plain": [
              "<Figure size 432x288 with 1 Axes>"
            ]
          },
          "metadata": {
            "needs_background": "light"
          },
          "output_type": "display_data"
        }
      ],
      "source": [
        "#plot the learning curves\n",
        "plt.plot(history.history['loss'], label = 'loss')\n",
        "plt.plot(history.history['val_loss'], label = 'val_loss')\n",
        "plt.plot(history.history['accuracy'], label = 'acc')\n",
        "plt.plot(history.history['val_accuracy'], label = 'val_acc')\n",
        "plt.title('Loss, Accuracy vs Epochs')\n",
        "plt.xlabel(\"Epochs\")\n",
        "plt.ylabel(\"Accuracy\")\n",
        "plt.legend()\n",
        "plt.show()"
      ]
    },
    {
      "cell_type": "code",
      "execution_count": null,
      "metadata": {
        "colab": {
          "base_uri": "https://localhost:8080/"
        },
        "id": "6suERbwps0bg",
        "outputId": "b14945d1-1647-484d-e209-3dc3cb7be2ce"
      },
      "outputs": [
        {
          "name": "stdout",
          "output_type": "stream",
          "text": [
            "2/2 [==============================] - 0s 4ms/step - loss: 0.3423 - accuracy: 0.8200\n",
            "test_loss: 0.3423050343990326\n",
            "test_acc: 0.8199999928474426\n"
          ]
        }
      ],
      "source": [
        "# evaluate the model on the test set\n",
        "loss, acc = model.evaluate(Xtest, ytest)\n",
        "print('test_loss:', loss)\n",
        "print('test_acc:', acc)"
      ]
    },
    {
      "cell_type": "markdown",
      "metadata": {
        "id": "gdmupH5aVPab"
      },
      "source": [
        "#Base Class Callback"
      ]
    },
    {
      "cell_type": "code",
      "execution_count": null,
      "metadata": {
        "id": "PeCwL0YnVQ8Y"
      },
      "outputs": [],
      "source": [
        "from tensorflow.keras.callbacks import Callback\n",
        "\n",
        "class my_callback(Callback):\n",
        "  # Called at the beginning of training.\n",
        "  def on_train_begin(self, logs=None):\n",
        "    print(\"training start\")\n",
        "  # Called at the beginnning of a training batch \n",
        "  def on_train_batch_begin(self, batch, logs=None):\n",
        "    print(f\"Begin of batch:{batch}\")\n",
        "  # Called at the end of an epoch.\n",
        "  def on_epoch_end(self, epoch, logs=None):\n",
        "    print(f\"End of epoch:{epoch}\")"
      ]
    },
    {
      "cell_type": "code",
      "execution_count": null,
      "metadata": {
        "id": "EN0bZvnE6NJN"
      },
      "outputs": [],
      "source": [
        "tf.random.set_seed(42)\n",
        "\n",
        "model = build_model()\n",
        "history = model.fit(X,y, validation_data=(Xval,yval), epochs=50, batch_size=10, callbacks=[my_callback()], verbose = False)"
      ]
    },
    {
      "cell_type": "code",
      "execution_count": null,
      "metadata": {
        "id": "_i1NrtBABFJA"
      },
      "outputs": [],
      "source": [
        "class my_callback1(Callback):\n",
        "  # Called at the beginning of evaluation or validation.\n",
        "  def on_test_begin(self, logs=None):\n",
        "    print(\"testing start\")\n",
        "  # Called at the beginning of a batch in evaluate methods.\n",
        "  # Print the loss after each even batch in the test set\n",
        "  def on_test_batch_end(self, batch, logs=None):\n",
        "    if (batch%2)==0:\n",
        "      print(f\"End of batch:{batch} with {logs['loss']:.4f}\")"
      ]
    },
    {
      "cell_type": "code",
      "execution_count": null,
      "metadata": {
        "colab": {
          "base_uri": "https://localhost:8080/"
        },
        "id": "QX2YOMwK_21B",
        "outputId": "ad785960-e5c9-485b-e4cd-69666b004fea"
      },
      "outputs": [
        {
          "name": "stdout",
          "output_type": "stream",
          "text": [
            "testing start\n",
            "End of batch:0 with 0.5114\n",
            "test_loss: 0.3423050343990326\n",
            "test_acc: 0.8199999928474426\n"
          ]
        }
      ],
      "source": [
        "# evaluate the model on the test set using callback\n",
        "model.evaluate(Xtest, ytest, verbose=False, callbacks=[my_callback1()])\n",
        "print('test_loss:', loss)\n",
        "print('test_acc:', acc)"
      ]
    },
    {
      "cell_type": "code",
      "execution_count": null,
      "metadata": {
        "id": "pc7G4CYSBVNM"
      },
      "outputs": [],
      "source": [
        "class my_callback2(Callback):\n",
        "  # Called at the beginning of prediction.\n",
        "  def on_predict_begin(self, logs=None):\n",
        "    print(\"prediction start\")\n",
        "  # Called at the end of prediction.\n",
        "  def on_predict_end(self, logs=None):\n",
        "    print(\"prediction end\")"
      ]
    },
    {
      "cell_type": "code",
      "execution_count": null,
      "metadata": {
        "colab": {
          "base_uri": "https://localhost:8080/"
        },
        "id": "9kNvgzAq_2n9",
        "outputId": "b534a80b-741c-4727-9673-6d82b9a67ee6"
      },
      "outputs": [
        {
          "name": "stdout",
          "output_type": "stream",
          "text": [
            "prediction start\n",
            "prediction end\n"
          ]
        },
        {
          "data": {
            "text/plain": [
              "array([[0.09080061]], dtype=float32)"
            ]
          },
          "execution_count": 19,
          "metadata": {},
          "output_type": "execute_result"
        }
      ],
      "source": [
        "# make a predictionon the first example of the test set using callback\n",
        "model.predict(Xtest[0:1,:], verbose=False, callbacks=[my_callback2()])"
      ]
    },
    {
      "cell_type": "markdown",
      "metadata": {
        "id": "UpTrwiZSwEES"
      },
      "source": [
        "#Early Stopping"
      ]
    },
    {
      "cell_type": "code",
      "execution_count": null,
      "metadata": {
        "id": "YE8RE9z3wVPV"
      },
      "outputs": [],
      "source": [
        "from tensorflow.keras.callbacks import EarlyStopping\n",
        "\n",
        "early_stopping_cb = EarlyStopping(monitor='val_loss', patience=5, \n",
        "                                  min_delta = 0.001, restore_best_weights = True)"
      ]
    },
    {
      "cell_type": "code",
      "execution_count": null,
      "metadata": {
        "colab": {
          "base_uri": "https://localhost:8080/"
        },
        "id": "JnxOFybRwVMU",
        "outputId": "d4f4b165-5266-4f82-b12a-4899a1a1e3ef"
      },
      "outputs": [
        {
          "name": "stdout",
          "output_type": "stream",
          "text": [
            "Epoch 1/50\n",
            "1/1 [==============================] - 1s 538ms/step - loss: 0.6926 - accuracy: 0.5200 - val_loss: 0.6703 - val_accuracy: 0.5600\n",
            "Epoch 2/50\n",
            "1/1 [==============================] - 0s 25ms/step - loss: 0.6832 - accuracy: 0.5400 - val_loss: 0.6630 - val_accuracy: 0.5600\n",
            "Epoch 3/50\n",
            "1/1 [==============================] - 0s 25ms/step - loss: 0.6806 - accuracy: 0.5667 - val_loss: 0.6596 - val_accuracy: 0.5800\n",
            "Epoch 4/50\n",
            "1/1 [==============================] - 0s 23ms/step - loss: 0.6753 - accuracy: 0.5667 - val_loss: 0.6595 - val_accuracy: 0.6600\n",
            "Epoch 5/50\n",
            "1/1 [==============================] - 0s 22ms/step - loss: 0.6695 - accuracy: 0.6267 - val_loss: 0.6614 - val_accuracy: 0.7400\n",
            "Epoch 6/50\n",
            "1/1 [==============================] - 0s 25ms/step - loss: 0.6651 - accuracy: 0.6467 - val_loss: 0.6610 - val_accuracy: 0.7400\n",
            "Epoch 7/50\n",
            "1/1 [==============================] - 0s 26ms/step - loss: 0.6600 - accuracy: 0.6600 - val_loss: 0.6586 - val_accuracy: 0.6600\n",
            "Epoch 8/50\n",
            "1/1 [==============================] - 0s 23ms/step - loss: 0.6536 - accuracy: 0.7067 - val_loss: 0.6554 - val_accuracy: 0.5800\n",
            "Epoch 9/50\n",
            "1/1 [==============================] - 0s 26ms/step - loss: 0.6466 - accuracy: 0.6867 - val_loss: 0.6521 - val_accuracy: 0.5800\n",
            "Epoch 10/50\n",
            "1/1 [==============================] - 0s 24ms/step - loss: 0.6390 - accuracy: 0.6733 - val_loss: 0.6471 - val_accuracy: 0.5800\n",
            "Epoch 11/50\n",
            "1/1 [==============================] - 0s 25ms/step - loss: 0.6305 - accuracy: 0.6867 - val_loss: 0.6403 - val_accuracy: 0.6400\n",
            "Epoch 12/50\n",
            "1/1 [==============================] - 0s 23ms/step - loss: 0.6213 - accuracy: 0.6867 - val_loss: 0.6299 - val_accuracy: 0.6400\n",
            "Epoch 13/50\n",
            "1/1 [==============================] - 0s 20ms/step - loss: 0.6088 - accuracy: 0.7067 - val_loss: 0.6196 - val_accuracy: 0.6600\n",
            "Epoch 14/50\n",
            "1/1 [==============================] - 0s 25ms/step - loss: 0.5942 - accuracy: 0.7200 - val_loss: 0.6068 - val_accuracy: 0.7000\n",
            "Epoch 15/50\n",
            "1/1 [==============================] - 0s 40ms/step - loss: 0.5804 - accuracy: 0.7600 - val_loss: 0.5936 - val_accuracy: 0.7400\n",
            "Epoch 16/50\n",
            "1/1 [==============================] - 0s 26ms/step - loss: 0.5661 - accuracy: 0.7333 - val_loss: 0.5794 - val_accuracy: 0.7200\n",
            "Epoch 17/50\n",
            "1/1 [==============================] - 0s 29ms/step - loss: 0.5494 - accuracy: 0.7533 - val_loss: 0.5695 - val_accuracy: 0.7400\n",
            "Epoch 18/50\n",
            "1/1 [==============================] - 0s 24ms/step - loss: 0.5331 - accuracy: 0.7533 - val_loss: 0.5689 - val_accuracy: 0.7400\n",
            "Epoch 19/50\n",
            "1/1 [==============================] - 0s 24ms/step - loss: 0.5177 - accuracy: 0.7667 - val_loss: 0.5721 - val_accuracy: 0.7400\n",
            "Epoch 20/50\n",
            "1/1 [==============================] - 0s 24ms/step - loss: 0.5003 - accuracy: 0.7733 - val_loss: 0.5759 - val_accuracy: 0.6800\n",
            "Epoch 21/50\n",
            "1/1 [==============================] - 0s 29ms/step - loss: 0.4857 - accuracy: 0.8067 - val_loss: 0.5692 - val_accuracy: 0.7400\n",
            "Epoch 22/50\n",
            "1/1 [==============================] - 0s 20ms/step - loss: 0.4689 - accuracy: 0.8000 - val_loss: 0.5621 - val_accuracy: 0.7000\n",
            "Epoch 23/50\n",
            "1/1 [==============================] - 0s 22ms/step - loss: 0.4507 - accuracy: 0.8000 - val_loss: 0.5478 - val_accuracy: 0.7200\n",
            "Epoch 24/50\n",
            "1/1 [==============================] - 0s 22ms/step - loss: 0.4332 - accuracy: 0.8333 - val_loss: 0.5438 - val_accuracy: 0.7800\n",
            "Epoch 25/50\n",
            "1/1 [==============================] - 0s 23ms/step - loss: 0.4155 - accuracy: 0.8333 - val_loss: 0.5455 - val_accuracy: 0.7000\n",
            "Epoch 26/50\n",
            "1/1 [==============================] - 0s 40ms/step - loss: 0.4030 - accuracy: 0.8333 - val_loss: 0.5195 - val_accuracy: 0.8200\n",
            "Epoch 27/50\n",
            "1/1 [==============================] - 0s 20ms/step - loss: 0.3883 - accuracy: 0.8533 - val_loss: 0.4977 - val_accuracy: 0.7800\n",
            "Epoch 28/50\n",
            "1/1 [==============================] - 0s 21ms/step - loss: 0.3757 - accuracy: 0.8467 - val_loss: 0.4806 - val_accuracy: 0.8000\n",
            "Epoch 29/50\n",
            "1/1 [==============================] - 0s 25ms/step - loss: 0.3611 - accuracy: 0.8200 - val_loss: 0.4855 - val_accuracy: 0.7200\n",
            "Epoch 30/50\n",
            "1/1 [==============================] - 0s 22ms/step - loss: 0.3536 - accuracy: 0.8333 - val_loss: 0.4763 - val_accuracy: 0.7800\n",
            "Epoch 31/50\n",
            "1/1 [==============================] - 0s 25ms/step - loss: 0.3410 - accuracy: 0.8333 - val_loss: 0.4750 - val_accuracy: 0.7400\n",
            "Epoch 32/50\n",
            "1/1 [==============================] - 0s 22ms/step - loss: 0.3329 - accuracy: 0.8400 - val_loss: 0.4887 - val_accuracy: 0.7600\n",
            "Epoch 33/50\n",
            "1/1 [==============================] - 0s 24ms/step - loss: 0.3216 - accuracy: 0.8533 - val_loss: 0.4982 - val_accuracy: 0.7200\n",
            "Epoch 34/50\n",
            "1/1 [==============================] - 0s 22ms/step - loss: 0.3119 - accuracy: 0.8600 - val_loss: 0.4904 - val_accuracy: 0.7800\n",
            "Epoch 35/50\n",
            "1/1 [==============================] - 0s 31ms/step - loss: 0.3031 - accuracy: 0.8667 - val_loss: 0.4957 - val_accuracy: 0.7200\n",
            "Epoch 36/50\n",
            "1/1 [==============================] - 0s 23ms/step - loss: 0.2965 - accuracy: 0.8600 - val_loss: 0.5149 - val_accuracy: 0.7400\n"
          ]
        }
      ],
      "source": [
        "tf.random.set_seed(42)\n",
        "\n",
        "model = build_model()\n",
        "history = model.fit(X,y, validation_data=(Xval,yval), epochs=50, \n",
        "                    batch_size=150, callbacks=[early_stopping_cb])"
      ]
    },
    {
      "cell_type": "code",
      "execution_count": null,
      "metadata": {
        "colab": {
          "base_uri": "https://localhost:8080/"
        },
        "id": "B8nUm0EGlxQV",
        "outputId": "b3a113a1-d6b1-4103-e549-c778007cafe0"
      },
      "outputs": [
        {
          "name": "stdout",
          "output_type": "stream",
          "text": [
            "2/2 [==============================] - 0s 6ms/step - loss: 0.4750 - accuracy: 0.7400\n",
            "val_loss: 0.4749698340892792\n",
            "val_acc: 0.7400000095367432\n"
          ]
        }
      ],
      "source": [
        "# evaluate the model on the val set (restore_best_weights)\n",
        "loss_val, acc_val = model.evaluate(Xval, yval)\n",
        "print('val_loss:', loss_val)\n",
        "print('val_acc:', acc_val)"
      ]
    },
    {
      "cell_type": "code",
      "execution_count": null,
      "metadata": {
        "colab": {
          "base_uri": "https://localhost:8080/"
        },
        "id": "B5_DHAdk1q6U",
        "outputId": "48fb445f-3af3-453c-e0a9-33053a6c7370"
      },
      "outputs": [
        {
          "name": "stdout",
          "output_type": "stream",
          "text": [
            "2/2 [==============================] - 0s 7ms/step - loss: 0.3819 - accuracy: 0.8000\n",
            "test_loss: 0.381900817155838\n",
            "test_acc: 0.800000011920929\n"
          ]
        }
      ],
      "source": [
        "# evaluate the model on the test set (not restore_best_weights)\n",
        "# note: the performance on test set might not be too good since we have very small validation and test set (for experiment only)\n",
        "loss, acc = model.evaluate(Xtest, ytest)\n",
        "print('test_loss:', loss)\n",
        "print('test_acc:', acc)"
      ]
    },
    {
      "cell_type": "markdown",
      "metadata": {
        "id": "UScJ1jDcEUuf"
      },
      "source": [
        "# Save the model"
      ]
    },
    {
      "cell_type": "code",
      "execution_count": null,
      "metadata": {
        "id": "skMo9oHUASqv"
      },
      "outputs": [],
      "source": [
        "# save weights only\n",
        "model.save_weights('my_model')"
      ]
    },
    {
      "cell_type": "code",
      "execution_count": null,
      "metadata": {
        "colab": {
          "base_uri": "https://localhost:8080/",
          "height": 185
        },
        "id": "5Bi3WkmAAguR",
        "outputId": "2d58bf66-6a9d-4ea4-aec3-c9fc279431fe"
      },
      "outputs": [
        {
          "ename": "NameError",
          "evalue": "ignored",
          "output_type": "error",
          "traceback": [
            "\u001b[0;31m---------------------------------------------------------------------------\u001b[0m",
            "\u001b[0;31mNameError\u001b[0m                                 Traceback (most recent call last)",
            "\u001b[0;32m<ipython-input-24-9210fe420116>\u001b[0m in \u001b[0;36m<module>\u001b[0;34m()\u001b[0m\n\u001b[1;32m      1\u001b[0m \u001b[0;32mdel\u001b[0m \u001b[0mmodel\u001b[0m\u001b[0;34m\u001b[0m\u001b[0;34m\u001b[0m\u001b[0m\n\u001b[0;32m----> 2\u001b[0;31m \u001b[0mmodel\u001b[0m\u001b[0;34m\u001b[0m\u001b[0;34m\u001b[0m\u001b[0m\n\u001b[0m",
            "\u001b[0;31mNameError\u001b[0m: name 'model' is not defined"
          ]
        }
      ],
      "source": [
        "del model\n",
        "model"
      ]
    },
    {
      "cell_type": "code",
      "execution_count": null,
      "metadata": {
        "colab": {
          "base_uri": "https://localhost:8080/"
        },
        "id": "fPDLsX1rAlCh",
        "outputId": "0376fc94-bffc-4f11-ccd9-f5d929d3589b"
      },
      "outputs": [
        {
          "data": {
            "text/plain": [
              "[<tf.Variable 'Hidden1/kernel:0' shape=(2, 10) dtype=float32, numpy=\n",
              " array([[-0.14352503, -1.5406    , -0.2036868 , -1.7071185 , -0.07331898,\n",
              "          0.37195143,  0.9355364 ,  1.035599  , -0.09260904,  1.3429852 ],\n",
              "        [ 1.3601528 , -0.11323583,  2.0052977 ,  1.2803279 ,  1.7037355 ,\n",
              "         -1.5368676 , -1.4961278 , -1.4114877 ,  0.73831874,  1.4365636 ]],\n",
              "       dtype=float32)>,\n",
              " <tf.Variable 'Hidden1/bias:0' shape=(10,) dtype=float32, numpy=\n",
              " array([-0.34684926, -0.1265885 ,  0.53527737, -0.44916072,  0.3374906 ,\n",
              "        -0.3176059 , -0.25538018, -0.3452123 ,  0.08690438, -0.2157674 ],\n",
              "       dtype=float32)>,\n",
              " <tf.Variable 'Hidden2/kernel:0' shape=(10, 10) dtype=float32, numpy=\n",
              " array([[ 0.2861239 , -0.46765113,  0.10980675,  0.5746817 ,  0.74449867,\n",
              "          0.38128367, -0.3687378 , -0.334104  , -0.55701184, -0.19166979],\n",
              "        [-0.40525728,  0.9310833 ,  0.7231526 ,  0.9293515 ,  0.21830346,\n",
              "          0.5437345 , -0.6049353 , -0.50465715, -0.2369287 ,  0.42719525],\n",
              "        [-0.31455684, -0.5878111 , -0.93212324, -0.0743082 , -0.16322456,\n",
              "          0.48298177,  0.86716044, -0.12416131, -0.5308527 , -1.1313629 ],\n",
              "        [ 0.10799587, -0.3224762 , -0.7449796 ,  0.37742683,  0.6829999 ,\n",
              "          0.9905479 ,  0.16036396,  0.2531118 , -0.58407694,  0.01984309],\n",
              "        [-0.5401415 ,  0.16473526, -0.44223058, -0.00181141,  0.01877154,\n",
              "         -0.03410009,  0.49063364, -0.74700826,  0.49537835, -0.26066875],\n",
              "        [-0.31990156,  1.085786  ,  0.687702  , -0.3618355 , -0.312295  ,\n",
              "          0.05052104,  0.32975364, -0.29828924, -0.32595992,  0.13994002],\n",
              "        [ 0.2767761 ,  0.22045103,  0.55167204, -0.6209156 , -0.78653437,\n",
              "         -0.24055058, -0.21112305, -0.21249561,  0.07459967,  0.5795004 ],\n",
              "        [ 0.22643247,  0.98331016,  0.23274799,  0.3032104 , -0.47587144,\n",
              "         -0.8280223 ,  0.2421714 , -0.03027188, -0.2423376 ,  0.4019419 ],\n",
              "        [ 0.9418621 , -0.4416171 , -0.04374038, -0.15315217,  0.3427657 ,\n",
              "          0.06717014,  0.33669716,  0.25537193, -0.03873141, -0.615084  ],\n",
              "        [-1.4757766 ,  0.71076083,  1.2000256 ,  1.1964068 ,  0.91247654,\n",
              "         -0.15154088, -0.63723606, -0.38744304, -0.05265613,  0.12537637]],\n",
              "       dtype=float32)>,\n",
              " <tf.Variable 'Hidden2/bias:0' shape=(10,) dtype=float32, numpy=\n",
              " array([ 0.524083  , -0.2234884 , -0.50477874, -0.7326785 , -0.53639525,\n",
              "        -0.26390678,  0.6478396 ,  0.        , -0.12831134, -0.12107674],\n",
              "       dtype=float32)>,\n",
              " <tf.Variable 'Hidden3/kernel:0' shape=(10, 10) dtype=float32, numpy=\n",
              " array([[ 4.25198019e-01, -8.00175309e-01, -7.99527645e-01,\n",
              "          5.14708936e-01, -3.71042699e-01, -3.95623744e-01,\n",
              "          5.77804565e-01,  6.07209742e-01, -8.36318016e-01,\n",
              "          8.56999636e-01],\n",
              "        [-8.08583975e-01,  6.84829235e-01, -2.26858601e-01,\n",
              "         -5.15107453e-01,  1.16237247e+00, -3.71830106e-01,\n",
              "         -1.50984988e-01, -4.04463895e-02, -7.92092144e-01,\n",
              "         -2.74078667e-01],\n",
              "        [-3.42998989e-02, -1.13596119e-01,  4.48755454e-05,\n",
              "         -4.74027209e-02,  1.11664426e+00, -7.07006872e-01,\n",
              "         -3.01156461e-01, -4.29212332e-01, -5.07197618e-01,\n",
              "         -1.61999986e-01],\n",
              "        [-7.78105974e-01,  1.31056058e+00,  1.40065476e-02,\n",
              "          8.33044112e-01, -1.84865057e-01,  9.64704096e-01,\n",
              "          2.03628451e-01, -9.41794336e-01,  8.30628037e-01,\n",
              "          3.14243659e-02],\n",
              "        [-3.92937958e-01,  1.14815466e-01, -3.73337209e-01,\n",
              "         -7.94900894e-01, -6.22546852e-01,  9.76747513e-01,\n",
              "         -6.58954680e-02,  1.32999361e-01,  1.07022202e+00,\n",
              "         -2.25650281e-01],\n",
              "        [ 2.57044405e-01,  8.51113617e-01, -6.98120594e-01,\n",
              "         -2.18440980e-01, -2.92951673e-01,  1.63160503e-01,\n",
              "          5.19724250e-01,  1.07304633e-01,  4.72865134e-01,\n",
              "         -1.09635167e-01],\n",
              "        [ 7.19969332e-01, -1.32875547e-01,  4.34112027e-02,\n",
              "         -7.87540525e-02, -5.15940547e-01, -4.02321368e-02,\n",
              "          8.45946610e-01,  3.14569801e-01,  2.67069668e-01,\n",
              "          2.28233665e-01],\n",
              "        [-4.31112573e-02,  8.29628170e-01, -1.35807410e-01,\n",
              "          3.31668019e-01,  8.09065640e-01, -4.30468261e-01,\n",
              "         -1.13219656e-01,  3.91151637e-01, -4.72733885e-01,\n",
              "          6.53133988e-01],\n",
              "        [ 1.84725568e-01,  1.49478186e-02,  4.26630795e-01,\n",
              "          4.98525590e-01, -4.85045701e-01, -4.72925454e-02,\n",
              "         -8.54925886e-02,  3.66304070e-01,  8.23689252e-02,\n",
              "          5.64848781e-01],\n",
              "        [ 9.27377343e-01,  5.95463395e-01, -3.47836733e-01,\n",
              "          5.46233356e-01,  3.12470913e-01, -8.70112062e-01,\n",
              "         -6.03935361e-01, -2.31769413e-01, -2.98713773e-01,\n",
              "         -1.01423644e-01]], dtype=float32)>,\n",
              " <tf.Variable 'Hidden3/bias:0' shape=(10,) dtype=float32, numpy=\n",
              " array([ 0.84951323, -0.40060103, -0.23810235, -0.26397428, -0.25304514,\n",
              "        -0.62649536,  0.76096797,  0.77192724, -0.82400084,  0.63097316],\n",
              "       dtype=float32)>,\n",
              " <tf.Variable 'Output/kernel:0' shape=(10, 1) dtype=float32, numpy=\n",
              " array([[ 1.0289025 ],\n",
              "        [-1.0398868 ],\n",
              "        [-0.13331814],\n",
              "        [ 0.09018535],\n",
              "        [-0.8291638 ],\n",
              "        [-0.8871327 ],\n",
              "        [ 0.38716328],\n",
              "        [ 0.87591153],\n",
              "        [-0.84703165],\n",
              "        [ 0.8575552 ]], dtype=float32)>,\n",
              " <tf.Variable 'Output/bias:0' shape=(1,) dtype=float32, numpy=array([0.7023435], dtype=float32)>]"
            ]
          },
          "execution_count": 25,
          "metadata": {},
          "output_type": "execute_result"
        }
      ],
      "source": [
        "# rebuild the model\n",
        "model = build_model()\n",
        "model.load_weights('my_model')\n",
        "model.weights"
      ]
    },
    {
      "cell_type": "code",
      "execution_count": null,
      "metadata": {
        "colab": {
          "base_uri": "https://localhost:8080/"
        },
        "id": "hxKHYAYf9Z57",
        "outputId": "7eb1e74c-e7e9-4400-f36a-6df655779751"
      },
      "outputs": [
        {
          "name": "stderr",
          "output_type": "stream",
          "text": [
            "WARNING:absl:Function `_wrapped_model` contains input name(s) Hidden1_input with unsupported characters which will be renamed to hidden1_input in the SavedModel.\n"
          ]
        },
        {
          "name": "stdout",
          "output_type": "stream",
          "text": [
            "INFO:tensorflow:Assets written to: my_model/assets\n"
          ]
        },
        {
          "name": "stderr",
          "output_type": "stream",
          "text": [
            "INFO:tensorflow:Assets written to: my_model/assets\n"
          ]
        }
      ],
      "source": [
        "# manuall save the model\n",
        "model.save(\"my_model\")"
      ]
    },
    {
      "cell_type": "code",
      "execution_count": null,
      "metadata": {
        "colab": {
          "base_uri": "https://localhost:8080/",
          "height": 185
        },
        "id": "WHQcOXzl-WGA",
        "outputId": "5794c6ee-a5fc-4d6d-9fad-221d0ae3f262"
      },
      "outputs": [
        {
          "ename": "NameError",
          "evalue": "ignored",
          "output_type": "error",
          "traceback": [
            "\u001b[0;31m---------------------------------------------------------------------------\u001b[0m",
            "\u001b[0;31mNameError\u001b[0m                                 Traceback (most recent call last)",
            "\u001b[0;32m<ipython-input-98-9210fe420116>\u001b[0m in \u001b[0;36m<module>\u001b[0;34m()\u001b[0m\n\u001b[1;32m      1\u001b[0m \u001b[0;32mdel\u001b[0m \u001b[0mmodel\u001b[0m\u001b[0;34m\u001b[0m\u001b[0;34m\u001b[0m\u001b[0m\n\u001b[0;32m----> 2\u001b[0;31m \u001b[0mmodel\u001b[0m\u001b[0;34m\u001b[0m\u001b[0;34m\u001b[0m\u001b[0m\n\u001b[0m",
            "\u001b[0;31mNameError\u001b[0m: name 'model' is not defined"
          ]
        }
      ],
      "source": [
        "del model\n",
        "model"
      ]
    },
    {
      "cell_type": "code",
      "execution_count": null,
      "metadata": {
        "colab": {
          "base_uri": "https://localhost:8080/"
        },
        "id": "-Nvc6Yj0-SNI",
        "outputId": "252219c8-ed3b-4689-a7c6-a4cc5c33266c"
      },
      "outputs": [
        {
          "name": "stdout",
          "output_type": "stream",
          "text": [
            "Model: \"sequential_30\"\n",
            "_________________________________________________________________\n",
            "Layer (type)                 Output Shape              Param #   \n",
            "=================================================================\n",
            "Hidden1 (Dense)              (None, 10)                30        \n",
            "_________________________________________________________________\n",
            "Hidden2 (Dense)              (None, 10)                110       \n",
            "_________________________________________________________________\n",
            "Hidden3 (Dense)              (None, 10)                110       \n",
            "_________________________________________________________________\n",
            "Output (Dense)               (None, 1)                 11        \n",
            "=================================================================\n",
            "Total params: 261\n",
            "Trainable params: 261\n",
            "Non-trainable params: 0\n",
            "_________________________________________________________________\n"
          ]
        }
      ],
      "source": [
        "model = models.load_model('my_model')\n",
        "model.summary()"
      ]
    },
    {
      "cell_type": "code",
      "execution_count": null,
      "metadata": {
        "id": "7mi_G7iZFhRv"
      },
      "outputs": [],
      "source": [
        "# for deleting the folder\n",
        "!rm -r my_model"
      ]
    },
    {
      "cell_type": "code",
      "execution_count": null,
      "metadata": {
        "colab": {
          "base_uri": "https://localhost:8080/"
        },
        "id": "F7eqk31IFieA",
        "outputId": "c53284a2-55fe-4201-f904-e9fc9651e72d"
      },
      "outputs": [
        {
          "name": "stdout",
          "output_type": "stream",
          "text": [
            "Model: \"sequential_30\"\n",
            "_________________________________________________________________\n",
            "Layer (type)                 Output Shape              Param #   \n",
            "=================================================================\n",
            "Hidden1 (Dense)              (None, 10)                30        \n",
            "_________________________________________________________________\n",
            "Hidden2 (Dense)              (None, 10)                110       \n",
            "_________________________________________________________________\n",
            "Hidden3 (Dense)              (None, 10)                110       \n",
            "_________________________________________________________________\n",
            "Output (Dense)               (None, 1)                 11        \n",
            "=================================================================\n",
            "Total params: 261\n",
            "Trainable params: 261\n",
            "Non-trainable params: 0\n",
            "_________________________________________________________________\n"
          ]
        }
      ],
      "source": [
        "model.summary()"
      ]
    },
    {
      "cell_type": "code",
      "execution_count": null,
      "metadata": {
        "id": "VPa1wcNMFnQO"
      },
      "outputs": [],
      "source": [
        "model.save_weights('my_model.h5')"
      ]
    },
    {
      "cell_type": "code",
      "execution_count": null,
      "metadata": {
        "colab": {
          "base_uri": "https://localhost:8080/",
          "height": 185
        },
        "id": "e0I5r0CSF76P",
        "outputId": "c93d66c2-d5e7-4ea0-d2b9-e509013da495"
      },
      "outputs": [
        {
          "ename": "NameError",
          "evalue": "ignored",
          "output_type": "error",
          "traceback": [
            "\u001b[0;31m---------------------------------------------------------------------------\u001b[0m",
            "\u001b[0;31mNameError\u001b[0m                                 Traceback (most recent call last)",
            "\u001b[0;32m<ipython-input-104-9210fe420116>\u001b[0m in \u001b[0;36m<module>\u001b[0;34m()\u001b[0m\n\u001b[1;32m      1\u001b[0m \u001b[0;32mdel\u001b[0m \u001b[0mmodel\u001b[0m\u001b[0;34m\u001b[0m\u001b[0;34m\u001b[0m\u001b[0m\n\u001b[0;32m----> 2\u001b[0;31m \u001b[0mmodel\u001b[0m\u001b[0;34m\u001b[0m\u001b[0;34m\u001b[0m\u001b[0m\n\u001b[0m",
            "\u001b[0;31mNameError\u001b[0m: name 'model' is not defined"
          ]
        }
      ],
      "source": [
        "del model\n",
        "model"
      ]
    },
    {
      "cell_type": "code",
      "execution_count": null,
      "metadata": {
        "colab": {
          "base_uri": "https://localhost:8080/"
        },
        "id": "bn_JRBE4F5zo",
        "outputId": "a7d28d72-934e-4657-cdc8-d56f0727a254"
      },
      "outputs": [
        {
          "name": "stdout",
          "output_type": "stream",
          "text": [
            "Model: \"sequential_31\"\n",
            "_________________________________________________________________\n",
            "Layer (type)                 Output Shape              Param #   \n",
            "=================================================================\n",
            "Hidden1 (Dense)              (None, 10)                30        \n",
            "_________________________________________________________________\n",
            "Hidden2 (Dense)              (None, 10)                110       \n",
            "_________________________________________________________________\n",
            "Hidden3 (Dense)              (None, 10)                110       \n",
            "_________________________________________________________________\n",
            "Output (Dense)               (None, 1)                 11        \n",
            "=================================================================\n",
            "Total params: 261\n",
            "Trainable params: 261\n",
            "Non-trainable params: 0\n",
            "_________________________________________________________________\n"
          ]
        }
      ],
      "source": [
        "model = build_model()\n",
        "model.load_weights('my_model.h5')\n",
        "model.summary()"
      ]
    },
    {
      "cell_type": "code",
      "execution_count": null,
      "metadata": {
        "id": "ooiw4we8tEJM"
      },
      "outputs": [],
      "source": [
        "!rm -rf my_model"
      ]
    },
    {
      "cell_type": "markdown",
      "metadata": {
        "id": "ScBLbILc3fOU"
      },
      "source": [
        "#Model Checkpoint"
      ]
    },
    {
      "cell_type": "code",
      "execution_count": null,
      "metadata": {
        "id": "sV8lTpxy3iXO"
      },
      "outputs": [],
      "source": [
        "# save weights only\n",
        "from tensorflow.keras.callbacks import ModelCheckpoint\n",
        "model_checkpoint_cb = ModelCheckpoint('my_model', save_weights_only = True)\n",
        "#model_checkpoint_cb = ModelCheckpoint('my_model.h5', save_weights_only = True)"
      ]
    },
    {
      "cell_type": "code",
      "execution_count": null,
      "metadata": {
        "colab": {
          "base_uri": "https://localhost:8080/"
        },
        "id": "k6TbWKJc4Dxk",
        "outputId": "4788f353-0468-4754-c50a-9b007e9922a2"
      },
      "outputs": [
        {
          "name": "stdout",
          "output_type": "stream",
          "text": [
            "WARNING:tensorflow:Unresolved object in checkpoint: (root).optimizer.iter\n"
          ]
        },
        {
          "name": "stderr",
          "output_type": "stream",
          "text": [
            "WARNING:tensorflow:Unresolved object in checkpoint: (root).optimizer.iter\n"
          ]
        },
        {
          "name": "stdout",
          "output_type": "stream",
          "text": [
            "WARNING:tensorflow:Unresolved object in checkpoint: (root).optimizer.beta_1\n"
          ]
        },
        {
          "name": "stderr",
          "output_type": "stream",
          "text": [
            "WARNING:tensorflow:Unresolved object in checkpoint: (root).optimizer.beta_1\n"
          ]
        },
        {
          "name": "stdout",
          "output_type": "stream",
          "text": [
            "WARNING:tensorflow:Unresolved object in checkpoint: (root).optimizer.beta_2\n"
          ]
        },
        {
          "name": "stderr",
          "output_type": "stream",
          "text": [
            "WARNING:tensorflow:Unresolved object in checkpoint: (root).optimizer.beta_2\n"
          ]
        },
        {
          "name": "stdout",
          "output_type": "stream",
          "text": [
            "WARNING:tensorflow:Unresolved object in checkpoint: (root).optimizer.decay\n"
          ]
        },
        {
          "name": "stderr",
          "output_type": "stream",
          "text": [
            "WARNING:tensorflow:Unresolved object in checkpoint: (root).optimizer.decay\n"
          ]
        },
        {
          "name": "stdout",
          "output_type": "stream",
          "text": [
            "WARNING:tensorflow:Unresolved object in checkpoint: (root).optimizer.learning_rate\n"
          ]
        },
        {
          "name": "stderr",
          "output_type": "stream",
          "text": [
            "WARNING:tensorflow:Unresolved object in checkpoint: (root).optimizer.learning_rate\n"
          ]
        },
        {
          "name": "stdout",
          "output_type": "stream",
          "text": [
            "WARNING:tensorflow:A checkpoint was restored (e.g. tf.train.Checkpoint.restore or tf.keras.Model.load_weights) but not all checkpointed values were used. See above for specific issues. Use expect_partial() on the load status object, e.g. tf.train.Checkpoint.restore(...).expect_partial(), to silence these warnings, or use assert_consumed() to make the check explicit. See https://www.tensorflow.org/guide/checkpoint#loading_mechanics for details.\n"
          ]
        },
        {
          "name": "stderr",
          "output_type": "stream",
          "text": [
            "WARNING:tensorflow:A checkpoint was restored (e.g. tf.train.Checkpoint.restore or tf.keras.Model.load_weights) but not all checkpointed values were used. See above for specific issues. Use expect_partial() on the load status object, e.g. tf.train.Checkpoint.restore(...).expect_partial(), to silence these warnings, or use assert_consumed() to make the check explicit. See https://www.tensorflow.org/guide/checkpoint#loading_mechanics for details.\n"
          ]
        },
        {
          "name": "stdout",
          "output_type": "stream",
          "text": [
            "Epoch 1/50\n",
            "1/1 [==============================] - 1s 520ms/step - loss: 0.6926 - accuracy: 0.5200 - val_loss: 0.6703 - val_accuracy: 0.5600\n",
            "Epoch 2/50\n",
            "1/1 [==============================] - 0s 20ms/step - loss: 0.6832 - accuracy: 0.5400 - val_loss: 0.6630 - val_accuracy: 0.5600\n",
            "Epoch 3/50\n",
            "1/1 [==============================] - 0s 25ms/step - loss: 0.6806 - accuracy: 0.5667 - val_loss: 0.6596 - val_accuracy: 0.5800\n",
            "Epoch 4/50\n",
            "1/1 [==============================] - 0s 19ms/step - loss: 0.6753 - accuracy: 0.5667 - val_loss: 0.6595 - val_accuracy: 0.6600\n",
            "Epoch 5/50\n",
            "1/1 [==============================] - 0s 20ms/step - loss: 0.6695 - accuracy: 0.6267 - val_loss: 0.6614 - val_accuracy: 0.7400\n",
            "Epoch 6/50\n",
            "1/1 [==============================] - 0s 20ms/step - loss: 0.6651 - accuracy: 0.6467 - val_loss: 0.6610 - val_accuracy: 0.7400\n",
            "Epoch 7/50\n",
            "1/1 [==============================] - 0s 21ms/step - loss: 0.6600 - accuracy: 0.6600 - val_loss: 0.6586 - val_accuracy: 0.6600\n",
            "Epoch 8/50\n",
            "1/1 [==============================] - 0s 26ms/step - loss: 0.6536 - accuracy: 0.7067 - val_loss: 0.6554 - val_accuracy: 0.5800\n",
            "Epoch 9/50\n",
            "1/1 [==============================] - 0s 24ms/step - loss: 0.6466 - accuracy: 0.6867 - val_loss: 0.6521 - val_accuracy: 0.5800\n",
            "Epoch 10/50\n",
            "1/1 [==============================] - 0s 22ms/step - loss: 0.6390 - accuracy: 0.6733 - val_loss: 0.6471 - val_accuracy: 0.5800\n",
            "Epoch 11/50\n",
            "1/1 [==============================] - 0s 21ms/step - loss: 0.6305 - accuracy: 0.6867 - val_loss: 0.6403 - val_accuracy: 0.6400\n",
            "Epoch 12/50\n",
            "1/1 [==============================] - 0s 25ms/step - loss: 0.6213 - accuracy: 0.6867 - val_loss: 0.6299 - val_accuracy: 0.6400\n",
            "Epoch 13/50\n",
            "1/1 [==============================] - 0s 21ms/step - loss: 0.6088 - accuracy: 0.7067 - val_loss: 0.6196 - val_accuracy: 0.6600\n",
            "Epoch 14/50\n",
            "1/1 [==============================] - 0s 20ms/step - loss: 0.5942 - accuracy: 0.7200 - val_loss: 0.6068 - val_accuracy: 0.7000\n",
            "Epoch 15/50\n",
            "1/1 [==============================] - 0s 21ms/step - loss: 0.5804 - accuracy: 0.7600 - val_loss: 0.5936 - val_accuracy: 0.7400\n",
            "Epoch 16/50\n",
            "1/1 [==============================] - 0s 21ms/step - loss: 0.5661 - accuracy: 0.7333 - val_loss: 0.5794 - val_accuracy: 0.7200\n",
            "Epoch 17/50\n",
            "1/1 [==============================] - 0s 20ms/step - loss: 0.5494 - accuracy: 0.7533 - val_loss: 0.5695 - val_accuracy: 0.7400\n",
            "Epoch 18/50\n",
            "1/1 [==============================] - 0s 24ms/step - loss: 0.5331 - accuracy: 0.7533 - val_loss: 0.5689 - val_accuracy: 0.7400\n",
            "Epoch 19/50\n",
            "1/1 [==============================] - 0s 20ms/step - loss: 0.5177 - accuracy: 0.7667 - val_loss: 0.5721 - val_accuracy: 0.7400\n",
            "Epoch 20/50\n",
            "1/1 [==============================] - 0s 21ms/step - loss: 0.5003 - accuracy: 0.7733 - val_loss: 0.5759 - val_accuracy: 0.6800\n",
            "Epoch 21/50\n",
            "1/1 [==============================] - 0s 22ms/step - loss: 0.4857 - accuracy: 0.8067 - val_loss: 0.5692 - val_accuracy: 0.7400\n",
            "Epoch 22/50\n",
            "1/1 [==============================] - 0s 21ms/step - loss: 0.4689 - accuracy: 0.8000 - val_loss: 0.5621 - val_accuracy: 0.7000\n",
            "Epoch 23/50\n",
            "1/1 [==============================] - 0s 20ms/step - loss: 0.4507 - accuracy: 0.8000 - val_loss: 0.5478 - val_accuracy: 0.7200\n",
            "Epoch 24/50\n",
            "1/1 [==============================] - 0s 20ms/step - loss: 0.4332 - accuracy: 0.8333 - val_loss: 0.5438 - val_accuracy: 0.7800\n",
            "Epoch 25/50\n",
            "1/1 [==============================] - 0s 39ms/step - loss: 0.4155 - accuracy: 0.8333 - val_loss: 0.5455 - val_accuracy: 0.7000\n",
            "Epoch 26/50\n",
            "1/1 [==============================] - 0s 21ms/step - loss: 0.4030 - accuracy: 0.8333 - val_loss: 0.5195 - val_accuracy: 0.8200\n",
            "Epoch 27/50\n",
            "1/1 [==============================] - 0s 25ms/step - loss: 0.3883 - accuracy: 0.8533 - val_loss: 0.4977 - val_accuracy: 0.7800\n",
            "Epoch 28/50\n",
            "1/1 [==============================] - 0s 21ms/step - loss: 0.3757 - accuracy: 0.8467 - val_loss: 0.4806 - val_accuracy: 0.8000\n",
            "Epoch 29/50\n",
            "1/1 [==============================] - 0s 20ms/step - loss: 0.3611 - accuracy: 0.8200 - val_loss: 0.4855 - val_accuracy: 0.7200\n",
            "Epoch 30/50\n",
            "1/1 [==============================] - 0s 19ms/step - loss: 0.3536 - accuracy: 0.8333 - val_loss: 0.4763 - val_accuracy: 0.7800\n",
            "Epoch 31/50\n",
            "1/1 [==============================] - 0s 22ms/step - loss: 0.3410 - accuracy: 0.8333 - val_loss: 0.4750 - val_accuracy: 0.7400\n",
            "Epoch 32/50\n",
            "1/1 [==============================] - 0s 21ms/step - loss: 0.3329 - accuracy: 0.8400 - val_loss: 0.4887 - val_accuracy: 0.7600\n",
            "Epoch 33/50\n",
            "1/1 [==============================] - 0s 21ms/step - loss: 0.3216 - accuracy: 0.8533 - val_loss: 0.4982 - val_accuracy: 0.7200\n",
            "Epoch 34/50\n",
            "1/1 [==============================] - 0s 19ms/step - loss: 0.3119 - accuracy: 0.8600 - val_loss: 0.4904 - val_accuracy: 0.7800\n",
            "Epoch 35/50\n",
            "1/1 [==============================] - 0s 22ms/step - loss: 0.3031 - accuracy: 0.8667 - val_loss: 0.4957 - val_accuracy: 0.7200\n",
            "Epoch 36/50\n",
            "1/1 [==============================] - 0s 25ms/step - loss: 0.2965 - accuracy: 0.8600 - val_loss: 0.5149 - val_accuracy: 0.7400\n"
          ]
        }
      ],
      "source": [
        "tf.random.set_seed(42)\n",
        "\n",
        "model = build_model()\n",
        "history = model.fit(X,y, validation_data=(Xval,yval), epochs=50, batch_size=150, callbacks=[early_stopping_cb, model_checkpoint_cb])"
      ]
    },
    {
      "cell_type": "code",
      "execution_count": null,
      "metadata": {
        "colab": {
          "base_uri": "https://localhost:8080/"
        },
        "id": "Aa5livtJKI5D",
        "outputId": "83735ba9-de20-4b00-b571-cfc63f4693b7"
      },
      "outputs": [
        {
          "name": "stdout",
          "output_type": "stream",
          "text": [
            "Epoch 1/50\n",
            "1/1 [==============================] - 0s 490ms/step - loss: 0.6926 - accuracy: 0.5200 - val_loss: 0.6703 - val_accuracy: 0.5600\n"
          ]
        },
        {
          "name": "stderr",
          "output_type": "stream",
          "text": [
            "WARNING:absl:Function `_wrapped_model` contains input name(s) Hidden1_input with unsupported characters which will be renamed to hidden1_input in the SavedModel.\n"
          ]
        },
        {
          "name": "stdout",
          "output_type": "stream",
          "text": [
            "INFO:tensorflow:Assets written to: my_model/assets\n"
          ]
        },
        {
          "name": "stderr",
          "output_type": "stream",
          "text": [
            "INFO:tensorflow:Assets written to: my_model/assets\n"
          ]
        },
        {
          "name": "stdout",
          "output_type": "stream",
          "text": [
            "Epoch 2/50\n",
            "1/1 [==============================] - 0s 20ms/step - loss: 0.6832 - accuracy: 0.5400 - val_loss: 0.6630 - val_accuracy: 0.5600\n"
          ]
        },
        {
          "name": "stderr",
          "output_type": "stream",
          "text": [
            "WARNING:absl:Function `_wrapped_model` contains input name(s) Hidden1_input with unsupported characters which will be renamed to hidden1_input in the SavedModel.\n"
          ]
        },
        {
          "name": "stdout",
          "output_type": "stream",
          "text": [
            "INFO:tensorflow:Assets written to: my_model/assets\n"
          ]
        },
        {
          "name": "stderr",
          "output_type": "stream",
          "text": [
            "INFO:tensorflow:Assets written to: my_model/assets\n"
          ]
        },
        {
          "name": "stdout",
          "output_type": "stream",
          "text": [
            "Epoch 3/50\n",
            "1/1 [==============================] - 0s 21ms/step - loss: 0.6806 - accuracy: 0.5667 - val_loss: 0.6596 - val_accuracy: 0.5800\n"
          ]
        },
        {
          "name": "stderr",
          "output_type": "stream",
          "text": [
            "WARNING:absl:Function `_wrapped_model` contains input name(s) Hidden1_input with unsupported characters which will be renamed to hidden1_input in the SavedModel.\n"
          ]
        },
        {
          "name": "stdout",
          "output_type": "stream",
          "text": [
            "INFO:tensorflow:Assets written to: my_model/assets\n"
          ]
        },
        {
          "name": "stderr",
          "output_type": "stream",
          "text": [
            "INFO:tensorflow:Assets written to: my_model/assets\n"
          ]
        },
        {
          "name": "stdout",
          "output_type": "stream",
          "text": [
            "Epoch 4/50\n",
            "1/1 [==============================] - 0s 23ms/step - loss: 0.6753 - accuracy: 0.5667 - val_loss: 0.6595 - val_accuracy: 0.6600\n"
          ]
        },
        {
          "name": "stderr",
          "output_type": "stream",
          "text": [
            "WARNING:absl:Function `_wrapped_model` contains input name(s) Hidden1_input with unsupported characters which will be renamed to hidden1_input in the SavedModel.\n"
          ]
        },
        {
          "name": "stdout",
          "output_type": "stream",
          "text": [
            "INFO:tensorflow:Assets written to: my_model/assets\n"
          ]
        },
        {
          "name": "stderr",
          "output_type": "stream",
          "text": [
            "INFO:tensorflow:Assets written to: my_model/assets\n"
          ]
        },
        {
          "name": "stdout",
          "output_type": "stream",
          "text": [
            "Epoch 5/50\n",
            "1/1 [==============================] - 0s 19ms/step - loss: 0.6695 - accuracy: 0.6267 - val_loss: 0.6614 - val_accuracy: 0.7400\n"
          ]
        },
        {
          "name": "stderr",
          "output_type": "stream",
          "text": [
            "WARNING:absl:Function `_wrapped_model` contains input name(s) Hidden1_input with unsupported characters which will be renamed to hidden1_input in the SavedModel.\n"
          ]
        },
        {
          "name": "stdout",
          "output_type": "stream",
          "text": [
            "INFO:tensorflow:Assets written to: my_model/assets\n"
          ]
        },
        {
          "name": "stderr",
          "output_type": "stream",
          "text": [
            "INFO:tensorflow:Assets written to: my_model/assets\n"
          ]
        },
        {
          "name": "stdout",
          "output_type": "stream",
          "text": [
            "Epoch 6/50\n",
            "1/1 [==============================] - 0s 23ms/step - loss: 0.6651 - accuracy: 0.6467 - val_loss: 0.6610 - val_accuracy: 0.7400\n"
          ]
        },
        {
          "name": "stderr",
          "output_type": "stream",
          "text": [
            "WARNING:absl:Function `_wrapped_model` contains input name(s) Hidden1_input with unsupported characters which will be renamed to hidden1_input in the SavedModel.\n"
          ]
        },
        {
          "name": "stdout",
          "output_type": "stream",
          "text": [
            "INFO:tensorflow:Assets written to: my_model/assets\n"
          ]
        },
        {
          "name": "stderr",
          "output_type": "stream",
          "text": [
            "INFO:tensorflow:Assets written to: my_model/assets\n"
          ]
        },
        {
          "name": "stdout",
          "output_type": "stream",
          "text": [
            "Epoch 7/50\n",
            "1/1 [==============================] - 0s 22ms/step - loss: 0.6600 - accuracy: 0.6600 - val_loss: 0.6586 - val_accuracy: 0.6600\n"
          ]
        },
        {
          "name": "stderr",
          "output_type": "stream",
          "text": [
            "WARNING:absl:Function `_wrapped_model` contains input name(s) Hidden1_input with unsupported characters which will be renamed to hidden1_input in the SavedModel.\n"
          ]
        },
        {
          "name": "stdout",
          "output_type": "stream",
          "text": [
            "INFO:tensorflow:Assets written to: my_model/assets\n"
          ]
        },
        {
          "name": "stderr",
          "output_type": "stream",
          "text": [
            "INFO:tensorflow:Assets written to: my_model/assets\n"
          ]
        },
        {
          "name": "stdout",
          "output_type": "stream",
          "text": [
            "Epoch 8/50\n",
            "1/1 [==============================] - 0s 21ms/step - loss: 0.6536 - accuracy: 0.7067 - val_loss: 0.6554 - val_accuracy: 0.5800\n"
          ]
        },
        {
          "name": "stderr",
          "output_type": "stream",
          "text": [
            "WARNING:absl:Function `_wrapped_model` contains input name(s) Hidden1_input with unsupported characters which will be renamed to hidden1_input in the SavedModel.\n"
          ]
        },
        {
          "name": "stdout",
          "output_type": "stream",
          "text": [
            "INFO:tensorflow:Assets written to: my_model/assets\n"
          ]
        },
        {
          "name": "stderr",
          "output_type": "stream",
          "text": [
            "INFO:tensorflow:Assets written to: my_model/assets\n"
          ]
        },
        {
          "name": "stdout",
          "output_type": "stream",
          "text": [
            "Epoch 9/50\n",
            "1/1 [==============================] - 0s 22ms/step - loss: 0.6466 - accuracy: 0.6867 - val_loss: 0.6521 - val_accuracy: 0.5800\n"
          ]
        },
        {
          "name": "stderr",
          "output_type": "stream",
          "text": [
            "WARNING:absl:Function `_wrapped_model` contains input name(s) Hidden1_input with unsupported characters which will be renamed to hidden1_input in the SavedModel.\n"
          ]
        },
        {
          "name": "stdout",
          "output_type": "stream",
          "text": [
            "INFO:tensorflow:Assets written to: my_model/assets\n"
          ]
        },
        {
          "name": "stderr",
          "output_type": "stream",
          "text": [
            "INFO:tensorflow:Assets written to: my_model/assets\n"
          ]
        },
        {
          "name": "stdout",
          "output_type": "stream",
          "text": [
            "Epoch 10/50\n",
            "1/1 [==============================] - 0s 21ms/step - loss: 0.6390 - accuracy: 0.6733 - val_loss: 0.6471 - val_accuracy: 0.5800\n"
          ]
        },
        {
          "name": "stderr",
          "output_type": "stream",
          "text": [
            "WARNING:absl:Function `_wrapped_model` contains input name(s) Hidden1_input with unsupported characters which will be renamed to hidden1_input in the SavedModel.\n"
          ]
        },
        {
          "name": "stdout",
          "output_type": "stream",
          "text": [
            "INFO:tensorflow:Assets written to: my_model/assets\n"
          ]
        },
        {
          "name": "stderr",
          "output_type": "stream",
          "text": [
            "INFO:tensorflow:Assets written to: my_model/assets\n"
          ]
        },
        {
          "name": "stdout",
          "output_type": "stream",
          "text": [
            "Epoch 11/50\n",
            "1/1 [==============================] - 0s 22ms/step - loss: 0.6305 - accuracy: 0.6867 - val_loss: 0.6403 - val_accuracy: 0.6400\n"
          ]
        },
        {
          "name": "stderr",
          "output_type": "stream",
          "text": [
            "WARNING:absl:Function `_wrapped_model` contains input name(s) Hidden1_input with unsupported characters which will be renamed to hidden1_input in the SavedModel.\n"
          ]
        },
        {
          "name": "stdout",
          "output_type": "stream",
          "text": [
            "INFO:tensorflow:Assets written to: my_model/assets\n"
          ]
        },
        {
          "name": "stderr",
          "output_type": "stream",
          "text": [
            "INFO:tensorflow:Assets written to: my_model/assets\n"
          ]
        },
        {
          "name": "stdout",
          "output_type": "stream",
          "text": [
            "Epoch 12/50\n",
            "1/1 [==============================] - 0s 22ms/step - loss: 0.6213 - accuracy: 0.6867 - val_loss: 0.6299 - val_accuracy: 0.6400\n"
          ]
        },
        {
          "name": "stderr",
          "output_type": "stream",
          "text": [
            "WARNING:absl:Function `_wrapped_model` contains input name(s) Hidden1_input with unsupported characters which will be renamed to hidden1_input in the SavedModel.\n"
          ]
        },
        {
          "name": "stdout",
          "output_type": "stream",
          "text": [
            "INFO:tensorflow:Assets written to: my_model/assets\n"
          ]
        },
        {
          "name": "stderr",
          "output_type": "stream",
          "text": [
            "INFO:tensorflow:Assets written to: my_model/assets\n"
          ]
        },
        {
          "name": "stdout",
          "output_type": "stream",
          "text": [
            "Epoch 13/50\n",
            "1/1 [==============================] - 0s 21ms/step - loss: 0.6088 - accuracy: 0.7067 - val_loss: 0.6196 - val_accuracy: 0.6600\n"
          ]
        },
        {
          "name": "stderr",
          "output_type": "stream",
          "text": [
            "WARNING:absl:Function `_wrapped_model` contains input name(s) Hidden1_input with unsupported characters which will be renamed to hidden1_input in the SavedModel.\n"
          ]
        },
        {
          "name": "stdout",
          "output_type": "stream",
          "text": [
            "INFO:tensorflow:Assets written to: my_model/assets\n"
          ]
        },
        {
          "name": "stderr",
          "output_type": "stream",
          "text": [
            "INFO:tensorflow:Assets written to: my_model/assets\n"
          ]
        },
        {
          "name": "stdout",
          "output_type": "stream",
          "text": [
            "Epoch 14/50\n",
            "1/1 [==============================] - 0s 20ms/step - loss: 0.5942 - accuracy: 0.7200 - val_loss: 0.6068 - val_accuracy: 0.7000\n"
          ]
        },
        {
          "name": "stderr",
          "output_type": "stream",
          "text": [
            "WARNING:absl:Function `_wrapped_model` contains input name(s) Hidden1_input with unsupported characters which will be renamed to hidden1_input in the SavedModel.\n"
          ]
        },
        {
          "name": "stdout",
          "output_type": "stream",
          "text": [
            "INFO:tensorflow:Assets written to: my_model/assets\n"
          ]
        },
        {
          "name": "stderr",
          "output_type": "stream",
          "text": [
            "INFO:tensorflow:Assets written to: my_model/assets\n"
          ]
        },
        {
          "name": "stdout",
          "output_type": "stream",
          "text": [
            "Epoch 15/50\n",
            "1/1 [==============================] - 0s 21ms/step - loss: 0.5804 - accuracy: 0.7600 - val_loss: 0.5936 - val_accuracy: 0.7400\n"
          ]
        },
        {
          "name": "stderr",
          "output_type": "stream",
          "text": [
            "WARNING:absl:Function `_wrapped_model` contains input name(s) Hidden1_input with unsupported characters which will be renamed to hidden1_input in the SavedModel.\n"
          ]
        },
        {
          "name": "stdout",
          "output_type": "stream",
          "text": [
            "INFO:tensorflow:Assets written to: my_model/assets\n"
          ]
        },
        {
          "name": "stderr",
          "output_type": "stream",
          "text": [
            "INFO:tensorflow:Assets written to: my_model/assets\n"
          ]
        },
        {
          "name": "stdout",
          "output_type": "stream",
          "text": [
            "Epoch 16/50\n",
            "1/1 [==============================] - 0s 21ms/step - loss: 0.5661 - accuracy: 0.7333 - val_loss: 0.5794 - val_accuracy: 0.7200\n"
          ]
        },
        {
          "name": "stderr",
          "output_type": "stream",
          "text": [
            "WARNING:absl:Function `_wrapped_model` contains input name(s) Hidden1_input with unsupported characters which will be renamed to hidden1_input in the SavedModel.\n"
          ]
        },
        {
          "name": "stdout",
          "output_type": "stream",
          "text": [
            "INFO:tensorflow:Assets written to: my_model/assets\n"
          ]
        },
        {
          "name": "stderr",
          "output_type": "stream",
          "text": [
            "INFO:tensorflow:Assets written to: my_model/assets\n"
          ]
        },
        {
          "name": "stdout",
          "output_type": "stream",
          "text": [
            "Epoch 17/50\n",
            "1/1 [==============================] - 0s 20ms/step - loss: 0.5494 - accuracy: 0.7533 - val_loss: 0.5695 - val_accuracy: 0.7400\n"
          ]
        },
        {
          "name": "stderr",
          "output_type": "stream",
          "text": [
            "WARNING:absl:Function `_wrapped_model` contains input name(s) Hidden1_input with unsupported characters which will be renamed to hidden1_input in the SavedModel.\n"
          ]
        },
        {
          "name": "stdout",
          "output_type": "stream",
          "text": [
            "INFO:tensorflow:Assets written to: my_model/assets\n"
          ]
        },
        {
          "name": "stderr",
          "output_type": "stream",
          "text": [
            "INFO:tensorflow:Assets written to: my_model/assets\n"
          ]
        },
        {
          "name": "stdout",
          "output_type": "stream",
          "text": [
            "Epoch 18/50\n",
            "1/1 [==============================] - 0s 22ms/step - loss: 0.5331 - accuracy: 0.7533 - val_loss: 0.5689 - val_accuracy: 0.7400\n"
          ]
        },
        {
          "name": "stderr",
          "output_type": "stream",
          "text": [
            "WARNING:absl:Function `_wrapped_model` contains input name(s) Hidden1_input with unsupported characters which will be renamed to hidden1_input in the SavedModel.\n"
          ]
        },
        {
          "name": "stdout",
          "output_type": "stream",
          "text": [
            "INFO:tensorflow:Assets written to: my_model/assets\n"
          ]
        },
        {
          "name": "stderr",
          "output_type": "stream",
          "text": [
            "INFO:tensorflow:Assets written to: my_model/assets\n"
          ]
        },
        {
          "name": "stdout",
          "output_type": "stream",
          "text": [
            "Epoch 19/50\n",
            "1/1 [==============================] - 0s 28ms/step - loss: 0.5177 - accuracy: 0.7667 - val_loss: 0.5721 - val_accuracy: 0.7400\n"
          ]
        },
        {
          "name": "stderr",
          "output_type": "stream",
          "text": [
            "WARNING:absl:Function `_wrapped_model` contains input name(s) Hidden1_input with unsupported characters which will be renamed to hidden1_input in the SavedModel.\n"
          ]
        },
        {
          "name": "stdout",
          "output_type": "stream",
          "text": [
            "INFO:tensorflow:Assets written to: my_model/assets\n"
          ]
        },
        {
          "name": "stderr",
          "output_type": "stream",
          "text": [
            "INFO:tensorflow:Assets written to: my_model/assets\n"
          ]
        },
        {
          "name": "stdout",
          "output_type": "stream",
          "text": [
            "Epoch 20/50\n",
            "1/1 [==============================] - 0s 22ms/step - loss: 0.5003 - accuracy: 0.7733 - val_loss: 0.5759 - val_accuracy: 0.6800\n"
          ]
        },
        {
          "name": "stderr",
          "output_type": "stream",
          "text": [
            "WARNING:absl:Function `_wrapped_model` contains input name(s) Hidden1_input with unsupported characters which will be renamed to hidden1_input in the SavedModel.\n"
          ]
        },
        {
          "name": "stdout",
          "output_type": "stream",
          "text": [
            "INFO:tensorflow:Assets written to: my_model/assets\n"
          ]
        },
        {
          "name": "stderr",
          "output_type": "stream",
          "text": [
            "INFO:tensorflow:Assets written to: my_model/assets\n"
          ]
        },
        {
          "name": "stdout",
          "output_type": "stream",
          "text": [
            "Epoch 21/50\n",
            "1/1 [==============================] - 0s 22ms/step - loss: 0.4857 - accuracy: 0.8067 - val_loss: 0.5692 - val_accuracy: 0.7400\n"
          ]
        },
        {
          "name": "stderr",
          "output_type": "stream",
          "text": [
            "WARNING:absl:Function `_wrapped_model` contains input name(s) Hidden1_input with unsupported characters which will be renamed to hidden1_input in the SavedModel.\n"
          ]
        },
        {
          "name": "stdout",
          "output_type": "stream",
          "text": [
            "INFO:tensorflow:Assets written to: my_model/assets\n"
          ]
        },
        {
          "name": "stderr",
          "output_type": "stream",
          "text": [
            "INFO:tensorflow:Assets written to: my_model/assets\n"
          ]
        },
        {
          "name": "stdout",
          "output_type": "stream",
          "text": [
            "Epoch 22/50\n",
            "1/1 [==============================] - 0s 20ms/step - loss: 0.4689 - accuracy: 0.8000 - val_loss: 0.5621 - val_accuracy: 0.7000\n"
          ]
        },
        {
          "name": "stderr",
          "output_type": "stream",
          "text": [
            "WARNING:absl:Function `_wrapped_model` contains input name(s) Hidden1_input with unsupported characters which will be renamed to hidden1_input in the SavedModel.\n"
          ]
        },
        {
          "name": "stdout",
          "output_type": "stream",
          "text": [
            "INFO:tensorflow:Assets written to: my_model/assets\n"
          ]
        },
        {
          "name": "stderr",
          "output_type": "stream",
          "text": [
            "INFO:tensorflow:Assets written to: my_model/assets\n"
          ]
        },
        {
          "name": "stdout",
          "output_type": "stream",
          "text": [
            "Epoch 23/50\n",
            "1/1 [==============================] - 0s 21ms/step - loss: 0.4507 - accuracy: 0.8000 - val_loss: 0.5478 - val_accuracy: 0.7200\n"
          ]
        },
        {
          "name": "stderr",
          "output_type": "stream",
          "text": [
            "WARNING:absl:Function `_wrapped_model` contains input name(s) Hidden1_input with unsupported characters which will be renamed to hidden1_input in the SavedModel.\n"
          ]
        },
        {
          "name": "stdout",
          "output_type": "stream",
          "text": [
            "INFO:tensorflow:Assets written to: my_model/assets\n"
          ]
        },
        {
          "name": "stderr",
          "output_type": "stream",
          "text": [
            "INFO:tensorflow:Assets written to: my_model/assets\n"
          ]
        },
        {
          "name": "stdout",
          "output_type": "stream",
          "text": [
            "Epoch 24/50\n",
            "1/1 [==============================] - 0s 21ms/step - loss: 0.4332 - accuracy: 0.8333 - val_loss: 0.5438 - val_accuracy: 0.7800\n"
          ]
        },
        {
          "name": "stderr",
          "output_type": "stream",
          "text": [
            "WARNING:absl:Function `_wrapped_model` contains input name(s) Hidden1_input with unsupported characters which will be renamed to hidden1_input in the SavedModel.\n"
          ]
        },
        {
          "name": "stdout",
          "output_type": "stream",
          "text": [
            "INFO:tensorflow:Assets written to: my_model/assets\n"
          ]
        },
        {
          "name": "stderr",
          "output_type": "stream",
          "text": [
            "INFO:tensorflow:Assets written to: my_model/assets\n"
          ]
        },
        {
          "name": "stdout",
          "output_type": "stream",
          "text": [
            "Epoch 25/50\n",
            "1/1 [==============================] - 0s 40ms/step - loss: 0.4155 - accuracy: 0.8333 - val_loss: 0.5455 - val_accuracy: 0.7000\n"
          ]
        },
        {
          "name": "stderr",
          "output_type": "stream",
          "text": [
            "WARNING:absl:Function `_wrapped_model` contains input name(s) Hidden1_input with unsupported characters which will be renamed to hidden1_input in the SavedModel.\n"
          ]
        },
        {
          "name": "stdout",
          "output_type": "stream",
          "text": [
            "INFO:tensorflow:Assets written to: my_model/assets\n"
          ]
        },
        {
          "name": "stderr",
          "output_type": "stream",
          "text": [
            "INFO:tensorflow:Assets written to: my_model/assets\n"
          ]
        },
        {
          "name": "stdout",
          "output_type": "stream",
          "text": [
            "Epoch 26/50\n",
            "1/1 [==============================] - 0s 22ms/step - loss: 0.4030 - accuracy: 0.8333 - val_loss: 0.5195 - val_accuracy: 0.8200\n"
          ]
        },
        {
          "name": "stderr",
          "output_type": "stream",
          "text": [
            "WARNING:absl:Function `_wrapped_model` contains input name(s) Hidden1_input with unsupported characters which will be renamed to hidden1_input in the SavedModel.\n"
          ]
        },
        {
          "name": "stdout",
          "output_type": "stream",
          "text": [
            "INFO:tensorflow:Assets written to: my_model/assets\n"
          ]
        },
        {
          "name": "stderr",
          "output_type": "stream",
          "text": [
            "INFO:tensorflow:Assets written to: my_model/assets\n"
          ]
        },
        {
          "name": "stdout",
          "output_type": "stream",
          "text": [
            "Epoch 27/50\n",
            "1/1 [==============================] - 0s 21ms/step - loss: 0.3883 - accuracy: 0.8533 - val_loss: 0.4977 - val_accuracy: 0.7800\n"
          ]
        },
        {
          "name": "stderr",
          "output_type": "stream",
          "text": [
            "WARNING:absl:Function `_wrapped_model` contains input name(s) Hidden1_input with unsupported characters which will be renamed to hidden1_input in the SavedModel.\n"
          ]
        },
        {
          "name": "stdout",
          "output_type": "stream",
          "text": [
            "INFO:tensorflow:Assets written to: my_model/assets\n"
          ]
        },
        {
          "name": "stderr",
          "output_type": "stream",
          "text": [
            "INFO:tensorflow:Assets written to: my_model/assets\n"
          ]
        },
        {
          "name": "stdout",
          "output_type": "stream",
          "text": [
            "Epoch 28/50\n",
            "1/1 [==============================] - 0s 23ms/step - loss: 0.3757 - accuracy: 0.8467 - val_loss: 0.4806 - val_accuracy: 0.8000\n"
          ]
        },
        {
          "name": "stderr",
          "output_type": "stream",
          "text": [
            "WARNING:absl:Function `_wrapped_model` contains input name(s) Hidden1_input with unsupported characters which will be renamed to hidden1_input in the SavedModel.\n"
          ]
        },
        {
          "name": "stdout",
          "output_type": "stream",
          "text": [
            "INFO:tensorflow:Assets written to: my_model/assets\n"
          ]
        },
        {
          "name": "stderr",
          "output_type": "stream",
          "text": [
            "INFO:tensorflow:Assets written to: my_model/assets\n"
          ]
        },
        {
          "name": "stdout",
          "output_type": "stream",
          "text": [
            "Epoch 29/50\n",
            "1/1 [==============================] - 0s 21ms/step - loss: 0.3611 - accuracy: 0.8200 - val_loss: 0.4855 - val_accuracy: 0.7200\n"
          ]
        },
        {
          "name": "stderr",
          "output_type": "stream",
          "text": [
            "WARNING:absl:Function `_wrapped_model` contains input name(s) Hidden1_input with unsupported characters which will be renamed to hidden1_input in the SavedModel.\n"
          ]
        },
        {
          "name": "stdout",
          "output_type": "stream",
          "text": [
            "INFO:tensorflow:Assets written to: my_model/assets\n"
          ]
        },
        {
          "name": "stderr",
          "output_type": "stream",
          "text": [
            "INFO:tensorflow:Assets written to: my_model/assets\n"
          ]
        },
        {
          "name": "stdout",
          "output_type": "stream",
          "text": [
            "Epoch 30/50\n",
            "1/1 [==============================] - 0s 25ms/step - loss: 0.3536 - accuracy: 0.8333 - val_loss: 0.4763 - val_accuracy: 0.7800\n"
          ]
        },
        {
          "name": "stderr",
          "output_type": "stream",
          "text": [
            "WARNING:absl:Function `_wrapped_model` contains input name(s) Hidden1_input with unsupported characters which will be renamed to hidden1_input in the SavedModel.\n"
          ]
        },
        {
          "name": "stdout",
          "output_type": "stream",
          "text": [
            "INFO:tensorflow:Assets written to: my_model/assets\n"
          ]
        },
        {
          "name": "stderr",
          "output_type": "stream",
          "text": [
            "INFO:tensorflow:Assets written to: my_model/assets\n"
          ]
        },
        {
          "name": "stdout",
          "output_type": "stream",
          "text": [
            "Epoch 31/50\n",
            "1/1 [==============================] - 0s 26ms/step - loss: 0.3410 - accuracy: 0.8333 - val_loss: 0.4750 - val_accuracy: 0.7400\n"
          ]
        },
        {
          "name": "stderr",
          "output_type": "stream",
          "text": [
            "WARNING:absl:Function `_wrapped_model` contains input name(s) Hidden1_input with unsupported characters which will be renamed to hidden1_input in the SavedModel.\n"
          ]
        },
        {
          "name": "stdout",
          "output_type": "stream",
          "text": [
            "INFO:tensorflow:Assets written to: my_model/assets\n"
          ]
        },
        {
          "name": "stderr",
          "output_type": "stream",
          "text": [
            "INFO:tensorflow:Assets written to: my_model/assets\n"
          ]
        },
        {
          "name": "stdout",
          "output_type": "stream",
          "text": [
            "Epoch 32/50\n",
            "1/1 [==============================] - 0s 21ms/step - loss: 0.3329 - accuracy: 0.8400 - val_loss: 0.4887 - val_accuracy: 0.7600\n"
          ]
        },
        {
          "name": "stderr",
          "output_type": "stream",
          "text": [
            "WARNING:absl:Function `_wrapped_model` contains input name(s) Hidden1_input with unsupported characters which will be renamed to hidden1_input in the SavedModel.\n"
          ]
        },
        {
          "name": "stdout",
          "output_type": "stream",
          "text": [
            "INFO:tensorflow:Assets written to: my_model/assets\n"
          ]
        },
        {
          "name": "stderr",
          "output_type": "stream",
          "text": [
            "INFO:tensorflow:Assets written to: my_model/assets\n"
          ]
        },
        {
          "name": "stdout",
          "output_type": "stream",
          "text": [
            "Epoch 33/50\n",
            "1/1 [==============================] - 0s 24ms/step - loss: 0.3216 - accuracy: 0.8533 - val_loss: 0.4982 - val_accuracy: 0.7200\n"
          ]
        },
        {
          "name": "stderr",
          "output_type": "stream",
          "text": [
            "WARNING:absl:Function `_wrapped_model` contains input name(s) Hidden1_input with unsupported characters which will be renamed to hidden1_input in the SavedModel.\n"
          ]
        },
        {
          "name": "stdout",
          "output_type": "stream",
          "text": [
            "INFO:tensorflow:Assets written to: my_model/assets\n"
          ]
        },
        {
          "name": "stderr",
          "output_type": "stream",
          "text": [
            "INFO:tensorflow:Assets written to: my_model/assets\n"
          ]
        },
        {
          "name": "stdout",
          "output_type": "stream",
          "text": [
            "Epoch 34/50\n",
            "1/1 [==============================] - 0s 21ms/step - loss: 0.3119 - accuracy: 0.8600 - val_loss: 0.4904 - val_accuracy: 0.7800\n"
          ]
        },
        {
          "name": "stderr",
          "output_type": "stream",
          "text": [
            "WARNING:absl:Function `_wrapped_model` contains input name(s) Hidden1_input with unsupported characters which will be renamed to hidden1_input in the SavedModel.\n"
          ]
        },
        {
          "name": "stdout",
          "output_type": "stream",
          "text": [
            "INFO:tensorflow:Assets written to: my_model/assets\n"
          ]
        },
        {
          "name": "stderr",
          "output_type": "stream",
          "text": [
            "INFO:tensorflow:Assets written to: my_model/assets\n"
          ]
        },
        {
          "name": "stdout",
          "output_type": "stream",
          "text": [
            "Epoch 35/50\n",
            "1/1 [==============================] - 0s 22ms/step - loss: 0.3031 - accuracy: 0.8667 - val_loss: 0.4957 - val_accuracy: 0.7200\n"
          ]
        },
        {
          "name": "stderr",
          "output_type": "stream",
          "text": [
            "WARNING:absl:Function `_wrapped_model` contains input name(s) Hidden1_input with unsupported characters which will be renamed to hidden1_input in the SavedModel.\n"
          ]
        },
        {
          "name": "stdout",
          "output_type": "stream",
          "text": [
            "INFO:tensorflow:Assets written to: my_model/assets\n"
          ]
        },
        {
          "name": "stderr",
          "output_type": "stream",
          "text": [
            "INFO:tensorflow:Assets written to: my_model/assets\n"
          ]
        },
        {
          "name": "stdout",
          "output_type": "stream",
          "text": [
            "Epoch 36/50\n",
            "1/1 [==============================] - 0s 29ms/step - loss: 0.2965 - accuracy: 0.8600 - val_loss: 0.5149 - val_accuracy: 0.7400\n"
          ]
        },
        {
          "name": "stderr",
          "output_type": "stream",
          "text": [
            "WARNING:absl:Function `_wrapped_model` contains input name(s) Hidden1_input with unsupported characters which will be renamed to hidden1_input in the SavedModel.\n"
          ]
        },
        {
          "name": "stdout",
          "output_type": "stream",
          "text": [
            "INFO:tensorflow:Assets written to: my_model/assets\n"
          ]
        },
        {
          "name": "stderr",
          "output_type": "stream",
          "text": [
            "INFO:tensorflow:Assets written to: my_model/assets\n"
          ]
        }
      ],
      "source": [
        "# All model including architecture \n",
        "from tensorflow.keras.callbacks import ModelCheckpoint\n",
        "model_checkpoint_cb = ModelCheckpoint('my_model')\n",
        "#model_checkpoint_cb = ModelCheckpoint('my_model.h5')\n",
        "tf.random.set_seed(42)\n",
        "\n",
        "model = build_model()\n",
        "history = model.fit(X,y, validation_data=(Xval,yval), epochs=50, batch_size=150, callbacks=[early_stopping_cb, model_checkpoint_cb])"
      ]
    },
    {
      "cell_type": "markdown",
      "metadata": {
        "id": "6uM3P77nuXeK"
      },
      "source": [
        "# ลบไฟล์ทีมาจากการ save แบบ manual\n",
        "# ลบ directory และ ไฟล์ จากการ save\n",
        "## !rm -rf my_model "
      ]
    },
    {
      "cell_type": "code",
      "execution_count": null,
      "metadata": {
        "id": "HwyInt3gur0v"
      },
      "outputs": [],
      "source": [
        "!rm -rf my_model "
      ]
    },
    {
      "cell_type": "code",
      "execution_count": null,
      "metadata": {
        "colab": {
          "base_uri": "https://localhost:8080/"
        },
        "id": "3w8BpEDLgtCB",
        "outputId": "5aea468c-0f38-4712-933c-4c034ae44057"
      },
      "outputs": [
        {
          "name": "stdout",
          "output_type": "stream",
          "text": [
            "Epoch 1/50\n",
            "15/15 [==============================] - 1s 11ms/step - loss: 0.6966 - accuracy: 0.5533 - val_loss: 0.6678 - val_accuracy: 0.5800\n"
          ]
        },
        {
          "name": "stderr",
          "output_type": "stream",
          "text": [
            "WARNING:absl:Function `_wrapped_model` contains input name(s) Hidden1_input with unsupported characters which will be renamed to hidden1_input in the SavedModel.\n"
          ]
        },
        {
          "name": "stdout",
          "output_type": "stream",
          "text": [
            "INFO:tensorflow:Assets written to: checkpoint/my_model/assets\n"
          ]
        },
        {
          "name": "stderr",
          "output_type": "stream",
          "text": [
            "INFO:tensorflow:Assets written to: checkpoint/my_model/assets\n"
          ]
        },
        {
          "name": "stdout",
          "output_type": "stream",
          "text": [
            "Epoch 2/50\n",
            "15/15 [==============================] - 0s 3ms/step - loss: 0.6940 - accuracy: 0.5400 - val_loss: 0.6608 - val_accuracy: 0.6600\n",
            "Epoch 3/50\n",
            "15/15 [==============================] - 0s 3ms/step - loss: 0.6895 - accuracy: 0.5733 - val_loss: 0.7019 - val_accuracy: 0.4800\n"
          ]
        },
        {
          "name": "stderr",
          "output_type": "stream",
          "text": [
            "WARNING:absl:Function `_wrapped_model` contains input name(s) Hidden1_input with unsupported characters which will be renamed to hidden1_input in the SavedModel.\n"
          ]
        },
        {
          "name": "stdout",
          "output_type": "stream",
          "text": [
            "INFO:tensorflow:Assets written to: checkpoint/my_model/assets\n"
          ]
        },
        {
          "name": "stderr",
          "output_type": "stream",
          "text": [
            "INFO:tensorflow:Assets written to: checkpoint/my_model/assets\n"
          ]
        },
        {
          "name": "stdout",
          "output_type": "stream",
          "text": [
            "Epoch 4/50\n",
            "15/15 [==============================] - 0s 4ms/step - loss: 0.6722 - accuracy: 0.5467 - val_loss: 0.6577 - val_accuracy: 0.6000\n",
            "Epoch 5/50\n",
            "15/15 [==============================] - 0s 3ms/step - loss: 0.6619 - accuracy: 0.6333 - val_loss: 0.6591 - val_accuracy: 0.6400\n"
          ]
        },
        {
          "name": "stderr",
          "output_type": "stream",
          "text": [
            "WARNING:absl:Function `_wrapped_model` contains input name(s) Hidden1_input with unsupported characters which will be renamed to hidden1_input in the SavedModel.\n"
          ]
        },
        {
          "name": "stdout",
          "output_type": "stream",
          "text": [
            "INFO:tensorflow:Assets written to: checkpoint/my_model/assets\n"
          ]
        },
        {
          "name": "stderr",
          "output_type": "stream",
          "text": [
            "INFO:tensorflow:Assets written to: checkpoint/my_model/assets\n"
          ]
        },
        {
          "name": "stdout",
          "output_type": "stream",
          "text": [
            "Epoch 6/50\n",
            "15/15 [==============================] - 0s 4ms/step - loss: 0.6401 - accuracy: 0.6533 - val_loss: 0.6440 - val_accuracy: 0.6400\n"
          ]
        },
        {
          "name": "stderr",
          "output_type": "stream",
          "text": [
            "WARNING:absl:Function `_wrapped_model` contains input name(s) Hidden1_input with unsupported characters which will be renamed to hidden1_input in the SavedModel.\n"
          ]
        },
        {
          "name": "stdout",
          "output_type": "stream",
          "text": [
            "INFO:tensorflow:Assets written to: checkpoint/my_model/assets\n"
          ]
        },
        {
          "name": "stderr",
          "output_type": "stream",
          "text": [
            "INFO:tensorflow:Assets written to: checkpoint/my_model/assets\n"
          ]
        },
        {
          "name": "stdout",
          "output_type": "stream",
          "text": [
            "Epoch 7/50\n",
            "15/15 [==============================] - 0s 3ms/step - loss: 0.5902 - accuracy: 0.7067 - val_loss: 0.6031 - val_accuracy: 0.7200\n"
          ]
        },
        {
          "name": "stderr",
          "output_type": "stream",
          "text": [
            "WARNING:absl:Function `_wrapped_model` contains input name(s) Hidden1_input with unsupported characters which will be renamed to hidden1_input in the SavedModel.\n"
          ]
        },
        {
          "name": "stdout",
          "output_type": "stream",
          "text": [
            "INFO:tensorflow:Assets written to: checkpoint/my_model/assets\n"
          ]
        },
        {
          "name": "stderr",
          "output_type": "stream",
          "text": [
            "INFO:tensorflow:Assets written to: checkpoint/my_model/assets\n"
          ]
        },
        {
          "name": "stdout",
          "output_type": "stream",
          "text": [
            "Epoch 8/50\n",
            "15/15 [==============================] - 0s 3ms/step - loss: 0.5415 - accuracy: 0.7400 - val_loss: 0.5304 - val_accuracy: 0.7600\n"
          ]
        },
        {
          "name": "stderr",
          "output_type": "stream",
          "text": [
            "WARNING:absl:Function `_wrapped_model` contains input name(s) Hidden1_input with unsupported characters which will be renamed to hidden1_input in the SavedModel.\n"
          ]
        },
        {
          "name": "stdout",
          "output_type": "stream",
          "text": [
            "INFO:tensorflow:Assets written to: checkpoint/my_model/assets\n"
          ]
        },
        {
          "name": "stderr",
          "output_type": "stream",
          "text": [
            "INFO:tensorflow:Assets written to: checkpoint/my_model/assets\n"
          ]
        },
        {
          "name": "stdout",
          "output_type": "stream",
          "text": [
            "Epoch 9/50\n",
            "15/15 [==============================] - 0s 4ms/step - loss: 0.4942 - accuracy: 0.7800 - val_loss: 0.5269 - val_accuracy: 0.6800\n"
          ]
        },
        {
          "name": "stderr",
          "output_type": "stream",
          "text": [
            "WARNING:absl:Function `_wrapped_model` contains input name(s) Hidden1_input with unsupported characters which will be renamed to hidden1_input in the SavedModel.\n"
          ]
        },
        {
          "name": "stdout",
          "output_type": "stream",
          "text": [
            "INFO:tensorflow:Assets written to: checkpoint/my_model/assets\n"
          ]
        },
        {
          "name": "stderr",
          "output_type": "stream",
          "text": [
            "INFO:tensorflow:Assets written to: checkpoint/my_model/assets\n"
          ]
        },
        {
          "name": "stdout",
          "output_type": "stream",
          "text": [
            "Epoch 10/50\n",
            "15/15 [==============================] - 0s 3ms/step - loss: 0.4360 - accuracy: 0.8000 - val_loss: 0.5631 - val_accuracy: 0.6800\n"
          ]
        },
        {
          "name": "stderr",
          "output_type": "stream",
          "text": [
            "WARNING:absl:Function `_wrapped_model` contains input name(s) Hidden1_input with unsupported characters which will be renamed to hidden1_input in the SavedModel.\n"
          ]
        },
        {
          "name": "stdout",
          "output_type": "stream",
          "text": [
            "INFO:tensorflow:Assets written to: checkpoint/my_model/assets\n"
          ]
        },
        {
          "name": "stderr",
          "output_type": "stream",
          "text": [
            "INFO:tensorflow:Assets written to: checkpoint/my_model/assets\n"
          ]
        },
        {
          "name": "stdout",
          "output_type": "stream",
          "text": [
            "Epoch 11/50\n",
            "15/15 [==============================] - 0s 3ms/step - loss: 0.4343 - accuracy: 0.7933 - val_loss: 0.5636 - val_accuracy: 0.7200\n",
            "Epoch 12/50\n",
            "15/15 [==============================] - 0s 4ms/step - loss: 0.5188 - accuracy: 0.7000 - val_loss: 0.5075 - val_accuracy: 0.7600\n",
            "Epoch 13/50\n",
            "15/15 [==============================] - 0s 4ms/step - loss: 0.4691 - accuracy: 0.7800 - val_loss: 0.5719 - val_accuracy: 0.6400\n",
            "Epoch 14/50\n",
            "15/15 [==============================] - 0s 3ms/step - loss: 0.4153 - accuracy: 0.8000 - val_loss: 0.5513 - val_accuracy: 0.7000\n",
            "Epoch 15/50\n",
            "15/15 [==============================] - 0s 3ms/step - loss: 0.4498 - accuracy: 0.7800 - val_loss: 0.6379 - val_accuracy: 0.6400\n",
            "Epoch 16/50\n",
            "15/15 [==============================] - 0s 4ms/step - loss: 0.4506 - accuracy: 0.7600 - val_loss: 0.5227 - val_accuracy: 0.7400\n",
            "Epoch 17/50\n",
            "15/15 [==============================] - 0s 4ms/step - loss: 0.3968 - accuracy: 0.8200 - val_loss: 0.5413 - val_accuracy: 0.7400\n"
          ]
        },
        {
          "name": "stderr",
          "output_type": "stream",
          "text": [
            "WARNING:absl:Function `_wrapped_model` contains input name(s) Hidden1_input with unsupported characters which will be renamed to hidden1_input in the SavedModel.\n"
          ]
        },
        {
          "name": "stdout",
          "output_type": "stream",
          "text": [
            "INFO:tensorflow:Assets written to: checkpoint/my_model/assets\n"
          ]
        },
        {
          "name": "stderr",
          "output_type": "stream",
          "text": [
            "INFO:tensorflow:Assets written to: checkpoint/my_model/assets\n"
          ]
        },
        {
          "name": "stdout",
          "output_type": "stream",
          "text": [
            "Epoch 18/50\n",
            "15/15 [==============================] - 0s 4ms/step - loss: 0.3630 - accuracy: 0.8400 - val_loss: 0.5506 - val_accuracy: 0.7000\n"
          ]
        },
        {
          "name": "stderr",
          "output_type": "stream",
          "text": [
            "WARNING:absl:Function `_wrapped_model` contains input name(s) Hidden1_input with unsupported characters which will be renamed to hidden1_input in the SavedModel.\n"
          ]
        },
        {
          "name": "stdout",
          "output_type": "stream",
          "text": [
            "INFO:tensorflow:Assets written to: checkpoint/my_model/assets\n"
          ]
        },
        {
          "name": "stderr",
          "output_type": "stream",
          "text": [
            "INFO:tensorflow:Assets written to: checkpoint/my_model/assets\n"
          ]
        },
        {
          "name": "stdout",
          "output_type": "stream",
          "text": [
            "Epoch 19/50\n",
            "15/15 [==============================] - 0s 4ms/step - loss: 0.3793 - accuracy: 0.8000 - val_loss: 0.5122 - val_accuracy: 0.7800\n",
            "Epoch 20/50\n",
            "15/15 [==============================] - 0s 3ms/step - loss: 0.3627 - accuracy: 0.8067 - val_loss: 0.5823 - val_accuracy: 0.7400\n",
            "Epoch 21/50\n",
            "15/15 [==============================] - 0s 4ms/step - loss: 0.3625 - accuracy: 0.8200 - val_loss: 0.5555 - val_accuracy: 0.7200\n",
            "Epoch 22/50\n",
            "15/15 [==============================] - 0s 3ms/step - loss: 0.3886 - accuracy: 0.8267 - val_loss: 0.5062 - val_accuracy: 0.7200\n",
            "Epoch 23/50\n",
            "15/15 [==============================] - 0s 3ms/step - loss: 0.3587 - accuracy: 0.8400 - val_loss: 0.5317 - val_accuracy: 0.7600\n",
            "Epoch 24/50\n",
            "15/15 [==============================] - 0s 3ms/step - loss: 0.3706 - accuracy: 0.8333 - val_loss: 0.5397 - val_accuracy: 0.7400\n",
            "Epoch 25/50\n",
            "15/15 [==============================] - 0s 3ms/step - loss: 0.3248 - accuracy: 0.8267 - val_loss: 0.5728 - val_accuracy: 0.7000\n",
            "Epoch 26/50\n",
            "15/15 [==============================] - 0s 4ms/step - loss: 0.3630 - accuracy: 0.8133 - val_loss: 0.5282 - val_accuracy: 0.7200\n",
            "Epoch 27/50\n",
            "15/15 [==============================] - 0s 3ms/step - loss: 0.3713 - accuracy: 0.8200 - val_loss: 0.5360 - val_accuracy: 0.7400\n",
            "Epoch 28/50\n",
            "15/15 [==============================] - 0s 4ms/step - loss: 0.3825 - accuracy: 0.8133 - val_loss: 0.5109 - val_accuracy: 0.7800\n",
            "Epoch 29/50\n",
            "15/15 [==============================] - 0s 3ms/step - loss: 0.3562 - accuracy: 0.8267 - val_loss: 0.5211 - val_accuracy: 0.7400\n",
            "Epoch 30/50\n",
            "15/15 [==============================] - 0s 4ms/step - loss: 0.3616 - accuracy: 0.8467 - val_loss: 0.5735 - val_accuracy: 0.7400\n"
          ]
        },
        {
          "name": "stderr",
          "output_type": "stream",
          "text": [
            "WARNING:absl:Function `_wrapped_model` contains input name(s) Hidden1_input with unsupported characters which will be renamed to hidden1_input in the SavedModel.\n"
          ]
        },
        {
          "name": "stdout",
          "output_type": "stream",
          "text": [
            "INFO:tensorflow:Assets written to: checkpoint/my_model/assets\n"
          ]
        },
        {
          "name": "stderr",
          "output_type": "stream",
          "text": [
            "INFO:tensorflow:Assets written to: checkpoint/my_model/assets\n"
          ]
        },
        {
          "name": "stdout",
          "output_type": "stream",
          "text": [
            "Epoch 31/50\n",
            "15/15 [==============================] - 0s 3ms/step - loss: 0.3488 - accuracy: 0.8400 - val_loss: 0.8526 - val_accuracy: 0.7000\n",
            "Epoch 32/50\n",
            "15/15 [==============================] - 0s 3ms/step - loss: 0.5533 - accuracy: 0.7533 - val_loss: 0.5762 - val_accuracy: 0.7600\n",
            "Epoch 33/50\n",
            "15/15 [==============================] - 0s 3ms/step - loss: 0.3810 - accuracy: 0.8267 - val_loss: 0.5269 - val_accuracy: 0.7200\n",
            "Epoch 34/50\n",
            "15/15 [==============================] - 0s 4ms/step - loss: 0.3327 - accuracy: 0.8400 - val_loss: 0.5436 - val_accuracy: 0.7600\n",
            "Epoch 35/50\n",
            "15/15 [==============================] - 0s 4ms/step - loss: 0.3251 - accuracy: 0.8400 - val_loss: 0.6281 - val_accuracy: 0.7600\n",
            "Epoch 36/50\n",
            "15/15 [==============================] - 0s 4ms/step - loss: 0.3623 - accuracy: 0.8067 - val_loss: 0.5228 - val_accuracy: 0.7400\n",
            "Epoch 37/50\n",
            "15/15 [==============================] - 0s 4ms/step - loss: 0.3634 - accuracy: 0.8333 - val_loss: 0.6406 - val_accuracy: 0.6800\n",
            "Epoch 38/50\n",
            "15/15 [==============================] - 0s 4ms/step - loss: 0.4341 - accuracy: 0.7800 - val_loss: 0.5779 - val_accuracy: 0.7400\n",
            "Epoch 39/50\n",
            "15/15 [==============================] - 0s 4ms/step - loss: 0.3379 - accuracy: 0.8133 - val_loss: 0.5040 - val_accuracy: 0.7400\n",
            "Epoch 40/50\n",
            "15/15 [==============================] - 0s 3ms/step - loss: 0.3178 - accuracy: 0.8600 - val_loss: 0.5835 - val_accuracy: 0.7400\n"
          ]
        },
        {
          "name": "stderr",
          "output_type": "stream",
          "text": [
            "WARNING:absl:Function `_wrapped_model` contains input name(s) Hidden1_input with unsupported characters which will be renamed to hidden1_input in the SavedModel.\n"
          ]
        },
        {
          "name": "stdout",
          "output_type": "stream",
          "text": [
            "INFO:tensorflow:Assets written to: checkpoint/my_model/assets\n"
          ]
        },
        {
          "name": "stderr",
          "output_type": "stream",
          "text": [
            "INFO:tensorflow:Assets written to: checkpoint/my_model/assets\n"
          ]
        },
        {
          "name": "stdout",
          "output_type": "stream",
          "text": [
            "Epoch 41/50\n",
            "15/15 [==============================] - 0s 4ms/step - loss: 0.3715 - accuracy: 0.8200 - val_loss: 0.6466 - val_accuracy: 0.7800\n",
            "Epoch 42/50\n",
            "15/15 [==============================] - 0s 3ms/step - loss: 0.3641 - accuracy: 0.8200 - val_loss: 0.5977 - val_accuracy: 0.7200\n",
            "Epoch 43/50\n",
            "15/15 [==============================] - 0s 3ms/step - loss: 0.3355 - accuracy: 0.8333 - val_loss: 0.5092 - val_accuracy: 0.7800\n",
            "Epoch 44/50\n",
            "15/15 [==============================] - 0s 3ms/step - loss: 0.3302 - accuracy: 0.8267 - val_loss: 0.6031 - val_accuracy: 0.6800\n",
            "Epoch 45/50\n",
            "15/15 [==============================] - 0s 4ms/step - loss: 0.3268 - accuracy: 0.8400 - val_loss: 0.5264 - val_accuracy: 0.7600\n",
            "Epoch 46/50\n",
            "15/15 [==============================] - 0s 5ms/step - loss: 0.3340 - accuracy: 0.8467 - val_loss: 0.5600 - val_accuracy: 0.7600\n",
            "Epoch 47/50\n",
            "15/15 [==============================] - 0s 4ms/step - loss: 0.3312 - accuracy: 0.8400 - val_loss: 0.5796 - val_accuracy: 0.7200\n",
            "Epoch 48/50\n",
            "15/15 [==============================] - 0s 3ms/step - loss: 0.3039 - accuracy: 0.8533 - val_loss: 0.6924 - val_accuracy: 0.7000\n",
            "Epoch 49/50\n",
            "15/15 [==============================] - 0s 3ms/step - loss: 0.3409 - accuracy: 0.8400 - val_loss: 0.5677 - val_accuracy: 0.7400\n",
            "Epoch 50/50\n",
            "15/15 [==============================] - 0s 4ms/step - loss: 0.3359 - accuracy: 0.8400 - val_loss: 0.6044 - val_accuracy: 0.7400\n"
          ]
        }
      ],
      "source": [
        "# more saving criteria - save_best_only\n",
        "from tensorflow.keras.callbacks import ModelCheckpoint\n",
        "checkpoint_path = 'checkpoint/my_model'\n",
        "model_checkpoint_cb = ModelCheckpoint(checkpoint_path, save_weight_only=True, \n",
        "                                      save_best_only=True, monitor='accuracy', mode='max')\n",
        "\n",
        "tf.random.set_seed(42)\n",
        "model = build_model()\n",
        "history = model.fit(X,y, validation_data=(Xval,yval), epochs=50, batch_size=10, \n",
        "                    callbacks=[model_checkpoint_cb])"
      ]
    },
    {
      "cell_type": "code",
      "execution_count": null,
      "metadata": {
        "id": "ZRfH9itoqIiO"
      },
      "outputs": [],
      "source": [
        "rm -r checkpoint"
      ]
    },
    {
      "cell_type": "code",
      "execution_count": null,
      "metadata": {
        "colab": {
          "base_uri": "https://localhost:8080/"
        },
        "id": "Q1qEqQjIKa56",
        "outputId": "994596e6-5d4e-462e-8da3-3ebfb30a2269"
      },
      "outputs": [
        {
          "name": "stdout",
          "output_type": "stream",
          "text": [
            "Epoch 1/50\n",
            "15/15 [==============================] - 1s 11ms/step - loss: 0.6966 - accuracy: 0.5533 - val_loss: 0.6678 - val_accuracy: 0.5800\n",
            "Epoch 2/50\n",
            "15/15 [==============================] - 0s 3ms/step - loss: 0.6940 - accuracy: 0.5400 - val_loss: 0.6608 - val_accuracy: 0.6600\n",
            "Epoch 3/50\n",
            "15/15 [==============================] - 0s 3ms/step - loss: 0.6895 - accuracy: 0.5733 - val_loss: 0.7019 - val_accuracy: 0.4800\n",
            "Epoch 4/50\n",
            "15/15 [==============================] - 0s 3ms/step - loss: 0.6722 - accuracy: 0.5467 - val_loss: 0.6577 - val_accuracy: 0.6000\n",
            "Epoch 5/50\n",
            " 1/15 [=>............................] - ETA: 0s - loss: 0.6234 - accuracy: 0.7000"
          ]
        },
        {
          "name": "stderr",
          "output_type": "stream",
          "text": [
            "WARNING:absl:Function `_wrapped_model` contains input name(s) Hidden1_input with unsupported characters which will be renamed to hidden1_input in the SavedModel.\n"
          ]
        },
        {
          "name": "stdout",
          "output_type": "stream",
          "text": [
            "INFO:tensorflow:Assets written to: checkpoint/my_model/assets\n"
          ]
        },
        {
          "name": "stderr",
          "output_type": "stream",
          "text": [
            "INFO:tensorflow:Assets written to: checkpoint/my_model/assets\n"
          ]
        },
        {
          "name": "stdout",
          "output_type": "stream",
          "text": [
            "15/15 [==============================] - 1s 53ms/step - loss: 0.6619 - accuracy: 0.6333 - val_loss: 0.6591 - val_accuracy: 0.6400\n",
            "Epoch 6/50\n",
            "15/15 [==============================] - 0s 3ms/step - loss: 0.6401 - accuracy: 0.6533 - val_loss: 0.6440 - val_accuracy: 0.6400\n",
            "Epoch 7/50\n",
            "15/15 [==============================] - 0s 4ms/step - loss: 0.5902 - accuracy: 0.7067 - val_loss: 0.6031 - val_accuracy: 0.7200\n",
            "Epoch 8/50\n",
            "15/15 [==============================] - 0s 3ms/step - loss: 0.5415 - accuracy: 0.7400 - val_loss: 0.5304 - val_accuracy: 0.7600\n",
            "Epoch 9/50\n",
            "15/15 [==============================] - 0s 3ms/step - loss: 0.4942 - accuracy: 0.7800 - val_loss: 0.5269 - val_accuracy: 0.6800\n",
            "Epoch 10/50\n",
            " 1/15 [=>............................] - ETA: 0s - loss: 0.3714 - accuracy: 0.8000"
          ]
        },
        {
          "name": "stderr",
          "output_type": "stream",
          "text": [
            "WARNING:absl:Function `_wrapped_model` contains input name(s) Hidden1_input with unsupported characters which will be renamed to hidden1_input in the SavedModel.\n"
          ]
        },
        {
          "name": "stdout",
          "output_type": "stream",
          "text": [
            "INFO:tensorflow:Assets written to: checkpoint/my_model/assets\n"
          ]
        },
        {
          "name": "stderr",
          "output_type": "stream",
          "text": [
            "INFO:tensorflow:Assets written to: checkpoint/my_model/assets\n"
          ]
        },
        {
          "name": "stdout",
          "output_type": "stream",
          "text": [
            "15/15 [==============================] - 1s 70ms/step - loss: 0.4360 - accuracy: 0.8000 - val_loss: 0.5631 - val_accuracy: 0.6800\n",
            "Epoch 11/50\n",
            "15/15 [==============================] - 0s 4ms/step - loss: 0.4343 - accuracy: 0.7933 - val_loss: 0.5636 - val_accuracy: 0.7200\n",
            "Epoch 12/50\n",
            "15/15 [==============================] - 0s 4ms/step - loss: 0.5188 - accuracy: 0.7000 - val_loss: 0.5075 - val_accuracy: 0.7600\n",
            "Epoch 13/50\n",
            "15/15 [==============================] - 0s 4ms/step - loss: 0.4691 - accuracy: 0.7800 - val_loss: 0.5719 - val_accuracy: 0.6400\n",
            "Epoch 14/50\n",
            "15/15 [==============================] - 0s 3ms/step - loss: 0.4153 - accuracy: 0.8000 - val_loss: 0.5513 - val_accuracy: 0.7000\n",
            "Epoch 15/50\n",
            " 1/15 [=>............................] - ETA: 0s - loss: 0.2437 - accuracy: 0.9000"
          ]
        },
        {
          "name": "stderr",
          "output_type": "stream",
          "text": [
            "WARNING:absl:Function `_wrapped_model` contains input name(s) Hidden1_input with unsupported characters which will be renamed to hidden1_input in the SavedModel.\n"
          ]
        },
        {
          "name": "stdout",
          "output_type": "stream",
          "text": [
            "INFO:tensorflow:Assets written to: checkpoint/my_model/assets\n"
          ]
        },
        {
          "name": "stderr",
          "output_type": "stream",
          "text": [
            "INFO:tensorflow:Assets written to: checkpoint/my_model/assets\n"
          ]
        },
        {
          "name": "stdout",
          "output_type": "stream",
          "text": [
            "15/15 [==============================] - 1s 54ms/step - loss: 0.4498 - accuracy: 0.7800 - val_loss: 0.6379 - val_accuracy: 0.6400\n",
            "Epoch 16/50\n",
            "15/15 [==============================] - 0s 4ms/step - loss: 0.4506 - accuracy: 0.7600 - val_loss: 0.5227 - val_accuracy: 0.7400\n",
            "Epoch 17/50\n",
            "15/15 [==============================] - 0s 4ms/step - loss: 0.3968 - accuracy: 0.8200 - val_loss: 0.5413 - val_accuracy: 0.7400\n",
            "Epoch 18/50\n",
            "15/15 [==============================] - 0s 3ms/step - loss: 0.3630 - accuracy: 0.8400 - val_loss: 0.5506 - val_accuracy: 0.7000\n",
            "Epoch 19/50\n",
            "15/15 [==============================] - 0s 3ms/step - loss: 0.3793 - accuracy: 0.8000 - val_loss: 0.5122 - val_accuracy: 0.7800\n",
            "Epoch 20/50\n",
            " 1/15 [=>............................] - ETA: 0s - loss: 0.2644 - accuracy: 0.9000"
          ]
        },
        {
          "name": "stderr",
          "output_type": "stream",
          "text": [
            "WARNING:absl:Function `_wrapped_model` contains input name(s) Hidden1_input with unsupported characters which will be renamed to hidden1_input in the SavedModel.\n"
          ]
        },
        {
          "name": "stdout",
          "output_type": "stream",
          "text": [
            "INFO:tensorflow:Assets written to: checkpoint/my_model/assets\n"
          ]
        },
        {
          "name": "stderr",
          "output_type": "stream",
          "text": [
            "INFO:tensorflow:Assets written to: checkpoint/my_model/assets\n"
          ]
        },
        {
          "name": "stdout",
          "output_type": "stream",
          "text": [
            "15/15 [==============================] - 1s 57ms/step - loss: 0.3627 - accuracy: 0.8067 - val_loss: 0.5823 - val_accuracy: 0.7400\n",
            "Epoch 21/50\n",
            "15/15 [==============================] - 0s 3ms/step - loss: 0.3625 - accuracy: 0.8200 - val_loss: 0.5555 - val_accuracy: 0.7200\n",
            "Epoch 22/50\n",
            "15/15 [==============================] - 0s 4ms/step - loss: 0.3886 - accuracy: 0.8267 - val_loss: 0.5062 - val_accuracy: 0.7200\n",
            "Epoch 23/50\n",
            "15/15 [==============================] - 0s 3ms/step - loss: 0.3587 - accuracy: 0.8400 - val_loss: 0.5317 - val_accuracy: 0.7600\n",
            "Epoch 24/50\n",
            "15/15 [==============================] - 0s 4ms/step - loss: 0.3706 - accuracy: 0.8333 - val_loss: 0.5397 - val_accuracy: 0.7400\n",
            "Epoch 25/50\n",
            " 1/15 [=>............................] - ETA: 0s - loss: 0.1945 - accuracy: 0.9000"
          ]
        },
        {
          "name": "stderr",
          "output_type": "stream",
          "text": [
            "WARNING:absl:Function `_wrapped_model` contains input name(s) Hidden1_input with unsupported characters which will be renamed to hidden1_input in the SavedModel.\n"
          ]
        },
        {
          "name": "stdout",
          "output_type": "stream",
          "text": [
            "INFO:tensorflow:Assets written to: checkpoint/my_model/assets\n"
          ]
        },
        {
          "name": "stderr",
          "output_type": "stream",
          "text": [
            "INFO:tensorflow:Assets written to: checkpoint/my_model/assets\n"
          ]
        },
        {
          "name": "stdout",
          "output_type": "stream",
          "text": [
            "15/15 [==============================] - 1s 54ms/step - loss: 0.3248 - accuracy: 0.8267 - val_loss: 0.5728 - val_accuracy: 0.7000\n",
            "Epoch 26/50\n",
            "15/15 [==============================] - 0s 4ms/step - loss: 0.3630 - accuracy: 0.8133 - val_loss: 0.5282 - val_accuracy: 0.7200\n",
            "Epoch 27/50\n",
            "15/15 [==============================] - 0s 4ms/step - loss: 0.3713 - accuracy: 0.8200 - val_loss: 0.5360 - val_accuracy: 0.7400\n",
            "Epoch 28/50\n",
            "15/15 [==============================] - 0s 4ms/step - loss: 0.3825 - accuracy: 0.8133 - val_loss: 0.5109 - val_accuracy: 0.7800\n",
            "Epoch 29/50\n",
            "15/15 [==============================] - 0s 3ms/step - loss: 0.3562 - accuracy: 0.8267 - val_loss: 0.5211 - val_accuracy: 0.7400\n",
            "Epoch 30/50\n",
            " 1/15 [=>............................] - ETA: 0s - loss: 0.2831 - accuracy: 0.8000"
          ]
        },
        {
          "name": "stderr",
          "output_type": "stream",
          "text": [
            "WARNING:absl:Function `_wrapped_model` contains input name(s) Hidden1_input with unsupported characters which will be renamed to hidden1_input in the SavedModel.\n"
          ]
        },
        {
          "name": "stdout",
          "output_type": "stream",
          "text": [
            "INFO:tensorflow:Assets written to: checkpoint/my_model/assets\n"
          ]
        },
        {
          "name": "stderr",
          "output_type": "stream",
          "text": [
            "INFO:tensorflow:Assets written to: checkpoint/my_model/assets\n"
          ]
        },
        {
          "name": "stdout",
          "output_type": "stream",
          "text": [
            "15/15 [==============================] - 1s 52ms/step - loss: 0.3616 - accuracy: 0.8467 - val_loss: 0.5735 - val_accuracy: 0.7400\n",
            "Epoch 31/50\n",
            "15/15 [==============================] - 0s 3ms/step - loss: 0.3488 - accuracy: 0.8400 - val_loss: 0.8526 - val_accuracy: 0.7000\n",
            "Epoch 32/50\n",
            "15/15 [==============================] - 0s 4ms/step - loss: 0.5533 - accuracy: 0.7533 - val_loss: 0.5762 - val_accuracy: 0.7600\n",
            "Epoch 33/50\n",
            "15/15 [==============================] - 0s 4ms/step - loss: 0.3810 - accuracy: 0.8267 - val_loss: 0.5269 - val_accuracy: 0.7200\n",
            "Epoch 34/50\n",
            "15/15 [==============================] - 0s 3ms/step - loss: 0.3327 - accuracy: 0.8400 - val_loss: 0.5436 - val_accuracy: 0.7600\n",
            "Epoch 35/50\n",
            " 1/15 [=>............................] - ETA: 0s - loss: 0.2304 - accuracy: 0.9000"
          ]
        },
        {
          "name": "stderr",
          "output_type": "stream",
          "text": [
            "WARNING:absl:Function `_wrapped_model` contains input name(s) Hidden1_input with unsupported characters which will be renamed to hidden1_input in the SavedModel.\n"
          ]
        },
        {
          "name": "stdout",
          "output_type": "stream",
          "text": [
            "INFO:tensorflow:Assets written to: checkpoint/my_model/assets\n"
          ]
        },
        {
          "name": "stderr",
          "output_type": "stream",
          "text": [
            "INFO:tensorflow:Assets written to: checkpoint/my_model/assets\n"
          ]
        },
        {
          "name": "stdout",
          "output_type": "stream",
          "text": [
            "15/15 [==============================] - 1s 54ms/step - loss: 0.3251 - accuracy: 0.8400 - val_loss: 0.6281 - val_accuracy: 0.7600\n",
            "Epoch 36/50\n",
            "15/15 [==============================] - 0s 4ms/step - loss: 0.3623 - accuracy: 0.8067 - val_loss: 0.5228 - val_accuracy: 0.7400\n",
            "Epoch 37/50\n",
            "15/15 [==============================] - 0s 4ms/step - loss: 0.3634 - accuracy: 0.8333 - val_loss: 0.6406 - val_accuracy: 0.6800\n",
            "Epoch 38/50\n",
            "15/15 [==============================] - 0s 3ms/step - loss: 0.4341 - accuracy: 0.7800 - val_loss: 0.5779 - val_accuracy: 0.7400\n",
            "Epoch 39/50\n",
            "15/15 [==============================] - 0s 3ms/step - loss: 0.3379 - accuracy: 0.8133 - val_loss: 0.5040 - val_accuracy: 0.7400\n",
            "Epoch 40/50\n",
            " 1/15 [=>............................] - ETA: 0s - loss: 0.2922 - accuracy: 0.9000"
          ]
        },
        {
          "name": "stderr",
          "output_type": "stream",
          "text": [
            "WARNING:absl:Function `_wrapped_model` contains input name(s) Hidden1_input with unsupported characters which will be renamed to hidden1_input in the SavedModel.\n"
          ]
        },
        {
          "name": "stdout",
          "output_type": "stream",
          "text": [
            "INFO:tensorflow:Assets written to: checkpoint/my_model/assets\n"
          ]
        },
        {
          "name": "stderr",
          "output_type": "stream",
          "text": [
            "INFO:tensorflow:Assets written to: checkpoint/my_model/assets\n"
          ]
        },
        {
          "name": "stdout",
          "output_type": "stream",
          "text": [
            "15/15 [==============================] - 1s 52ms/step - loss: 0.3178 - accuracy: 0.8600 - val_loss: 0.5835 - val_accuracy: 0.7400\n",
            "Epoch 41/50\n",
            "15/15 [==============================] - 0s 4ms/step - loss: 0.3715 - accuracy: 0.8200 - val_loss: 0.6466 - val_accuracy: 0.7800\n",
            "Epoch 42/50\n",
            "15/15 [==============================] - 0s 4ms/step - loss: 0.3641 - accuracy: 0.8200 - val_loss: 0.5977 - val_accuracy: 0.7200\n",
            "Epoch 43/50\n",
            "15/15 [==============================] - 0s 3ms/step - loss: 0.3355 - accuracy: 0.8333 - val_loss: 0.5092 - val_accuracy: 0.7800\n",
            "Epoch 44/50\n",
            "15/15 [==============================] - 0s 4ms/step - loss: 0.3302 - accuracy: 0.8267 - val_loss: 0.6031 - val_accuracy: 0.6800\n",
            "Epoch 45/50\n",
            " 1/15 [=>............................] - ETA: 0s - loss: 0.2241 - accuracy: 0.9000"
          ]
        },
        {
          "name": "stderr",
          "output_type": "stream",
          "text": [
            "WARNING:absl:Function `_wrapped_model` contains input name(s) Hidden1_input with unsupported characters which will be renamed to hidden1_input in the SavedModel.\n"
          ]
        },
        {
          "name": "stdout",
          "output_type": "stream",
          "text": [
            "INFO:tensorflow:Assets written to: checkpoint/my_model/assets\n"
          ]
        },
        {
          "name": "stderr",
          "output_type": "stream",
          "text": [
            "INFO:tensorflow:Assets written to: checkpoint/my_model/assets\n"
          ]
        },
        {
          "name": "stdout",
          "output_type": "stream",
          "text": [
            "15/15 [==============================] - 1s 52ms/step - loss: 0.3268 - accuracy: 0.8400 - val_loss: 0.5264 - val_accuracy: 0.7600\n",
            "Epoch 46/50\n",
            "15/15 [==============================] - 0s 4ms/step - loss: 0.3340 - accuracy: 0.8467 - val_loss: 0.5600 - val_accuracy: 0.7600\n",
            "Epoch 47/50\n",
            "15/15 [==============================] - 0s 4ms/step - loss: 0.3312 - accuracy: 0.8400 - val_loss: 0.5796 - val_accuracy: 0.7200\n",
            "Epoch 48/50\n",
            "15/15 [==============================] - 0s 4ms/step - loss: 0.3039 - accuracy: 0.8533 - val_loss: 0.6924 - val_accuracy: 0.7000\n",
            "Epoch 49/50\n",
            "15/15 [==============================] - 0s 3ms/step - loss: 0.3409 - accuracy: 0.8400 - val_loss: 0.5677 - val_accuracy: 0.7400\n",
            "Epoch 50/50\n",
            " 1/15 [=>............................] - ETA: 0s - loss: 0.4907 - accuracy: 0.8000"
          ]
        },
        {
          "name": "stderr",
          "output_type": "stream",
          "text": [
            "WARNING:absl:Function `_wrapped_model` contains input name(s) Hidden1_input with unsupported characters which will be renamed to hidden1_input in the SavedModel.\n"
          ]
        },
        {
          "name": "stdout",
          "output_type": "stream",
          "text": [
            "INFO:tensorflow:Assets written to: checkpoint/my_model/assets\n"
          ]
        },
        {
          "name": "stderr",
          "output_type": "stream",
          "text": [
            "INFO:tensorflow:Assets written to: checkpoint/my_model/assets\n"
          ]
        },
        {
          "name": "stdout",
          "output_type": "stream",
          "text": [
            "\b\b\b\b\b\b\b\b\b\b\b\b\b\b\b\b\b\b\b\b\b\b\b\b\b\b\b\b\b\b\b\b\b\b\b\b\b\b\b\b\b\b\b\b\b\b\b\b\b\b\b\b\b\b\b\b\b\b\b\b\b\b\b\b\b\b\b\b\b\b\b\b\b\b\b\b\b\b\b\b\b\b\r15/15 [==============================] - 1s 68ms/step - loss: 0.3359 - accuracy: 0.8400 - val_loss: 0.6044 - val_accuracy: 0.7400\n"
          ]
        }
      ],
      "source": [
        "# more saving criteria - save_freq\n",
        "from tensorflow.keras.callbacks import ModelCheckpoint\n",
        "checkpoint_path = 'checkpoint/my_model'\n",
        "#checkpoint_path = 'checkpoint/my_model.{epoch}.{batch}'\n",
        "model_checkpoint_cb = ModelCheckpoint(checkpoint_path, save_weight_only=True, \n",
        "                                      monitor='val_accuracy', mode='max', save_freq=75)\n",
        "\n",
        "tf.random.set_seed(42)\n",
        "model = build_model()\n",
        "history = model.fit(X,y, validation_data=(Xval,yval), epochs=50, batch_size=10, \n",
        "                    callbacks=[model_checkpoint_cb])"
      ]
    },
    {
      "cell_type": "code",
      "execution_count": null,
      "metadata": {
        "colab": {
          "base_uri": "https://localhost:8080/"
        },
        "id": "pUuIohZbyFH1",
        "outputId": "f1477c82-2f24-408b-d6ed-0d4be847f228"
      },
      "outputs": [
        {
          "name": "stdout",
          "output_type": "stream",
          "text": [
            "total 128K\n",
            "drwxr-xr-x 2 root root 4.0K Sep 19 14:34 assets\n",
            "-rw-r--r-- 1 root root  10K Sep 19 14:34 keras_metadata.pb\n",
            "-rw-r--r-- 1 root root 107K Sep 19 14:34 saved_model.pb\n",
            "drwxr-xr-x 2 root root 4.0K Sep 19 14:34 variables\n"
          ]
        }
      ],
      "source": [
        "!ls -lh checkpoint/my_model"
      ]
    },
    {
      "cell_type": "code",
      "execution_count": null,
      "metadata": {
        "id": "n-Ip1uE1fTtE"
      },
      "outputs": [],
      "source": [
        "rm -r checkpoint"
      ]
    },
    {
      "cell_type": "code",
      "execution_count": null,
      "metadata": {
        "colab": {
          "base_uri": "https://localhost:8080/"
        },
        "id": "DRVjCraxfek7",
        "outputId": "a570e83d-0db4-42cc-cec9-890c6817950d"
      },
      "outputs": [
        {
          "name": "stdout",
          "output_type": "stream",
          "text": [
            "Epoch 1/50\n",
            "15/15 [==============================] - 1s 11ms/step - loss: 0.6966 - accuracy: 0.5533 - val_loss: 0.6678 - val_accuracy: 0.5800\n",
            "Epoch 2/50\n",
            "15/15 [==============================] - 0s 3ms/step - loss: 0.6940 - accuracy: 0.5400 - val_loss: 0.6608 - val_accuracy: 0.6600\n",
            "Epoch 3/50\n",
            "15/15 [==============================] - 0s 3ms/step - loss: 0.6895 - accuracy: 0.5733 - val_loss: 0.7019 - val_accuracy: 0.4800\n",
            "Epoch 4/50\n",
            "15/15 [==============================] - 0s 4ms/step - loss: 0.6722 - accuracy: 0.5467 - val_loss: 0.6577 - val_accuracy: 0.6000\n",
            "Epoch 5/50\n",
            " 1/15 [=>............................] - ETA: 0s - loss: 0.6234 - accuracy: 0.7000"
          ]
        },
        {
          "name": "stderr",
          "output_type": "stream",
          "text": [
            "WARNING:absl:Function `_wrapped_model` contains input name(s) Hidden1_input with unsupported characters which will be renamed to hidden1_input in the SavedModel.\n"
          ]
        },
        {
          "name": "stdout",
          "output_type": "stream",
          "text": [
            "INFO:tensorflow:Assets written to: checkpoint/my_model.5.15/assets\n"
          ]
        },
        {
          "name": "stderr",
          "output_type": "stream",
          "text": [
            "INFO:tensorflow:Assets written to: checkpoint/my_model.5.15/assets\n"
          ]
        },
        {
          "name": "stdout",
          "output_type": "stream",
          "text": [
            "15/15 [==============================] - 1s 54ms/step - loss: 0.6619 - accuracy: 0.6333 - val_loss: 0.6591 - val_accuracy: 0.6400\n",
            "Epoch 6/50\n",
            "15/15 [==============================] - 0s 4ms/step - loss: 0.6401 - accuracy: 0.6533 - val_loss: 0.6440 - val_accuracy: 0.6400\n",
            "Epoch 7/50\n",
            "15/15 [==============================] - 0s 3ms/step - loss: 0.5902 - accuracy: 0.7067 - val_loss: 0.6031 - val_accuracy: 0.7200\n",
            "Epoch 8/50\n",
            "15/15 [==============================] - 0s 3ms/step - loss: 0.5415 - accuracy: 0.7400 - val_loss: 0.5304 - val_accuracy: 0.7600\n",
            "Epoch 9/50\n",
            "15/15 [==============================] - 0s 4ms/step - loss: 0.4942 - accuracy: 0.7800 - val_loss: 0.5269 - val_accuracy: 0.6800\n",
            "Epoch 10/50\n",
            " 1/15 [=>............................] - ETA: 0s - loss: 0.3714 - accuracy: 0.8000"
          ]
        },
        {
          "name": "stderr",
          "output_type": "stream",
          "text": [
            "WARNING:absl:Function `_wrapped_model` contains input name(s) Hidden1_input with unsupported characters which will be renamed to hidden1_input in the SavedModel.\n"
          ]
        },
        {
          "name": "stdout",
          "output_type": "stream",
          "text": [
            "INFO:tensorflow:Assets written to: checkpoint/my_model.10.15/assets\n"
          ]
        },
        {
          "name": "stderr",
          "output_type": "stream",
          "text": [
            "INFO:tensorflow:Assets written to: checkpoint/my_model.10.15/assets\n"
          ]
        },
        {
          "name": "stdout",
          "output_type": "stream",
          "text": [
            "15/15 [==============================] - 1s 53ms/step - loss: 0.4360 - accuracy: 0.8000 - val_loss: 0.5631 - val_accuracy: 0.6800\n",
            "Epoch 11/50\n",
            "15/15 [==============================] - 0s 3ms/step - loss: 0.4343 - accuracy: 0.7933 - val_loss: 0.5636 - val_accuracy: 0.7200\n",
            "Epoch 12/50\n",
            "15/15 [==============================] - 0s 4ms/step - loss: 0.5188 - accuracy: 0.7000 - val_loss: 0.5075 - val_accuracy: 0.7600\n",
            "Epoch 13/50\n",
            "15/15 [==============================] - 0s 4ms/step - loss: 0.4691 - accuracy: 0.7800 - val_loss: 0.5719 - val_accuracy: 0.6400\n",
            "Epoch 14/50\n",
            "15/15 [==============================] - 0s 4ms/step - loss: 0.4153 - accuracy: 0.8000 - val_loss: 0.5513 - val_accuracy: 0.7000\n",
            "Epoch 15/50\n",
            " 1/15 [=>............................] - ETA: 0s - loss: 0.2437 - accuracy: 0.9000"
          ]
        },
        {
          "name": "stderr",
          "output_type": "stream",
          "text": [
            "WARNING:absl:Function `_wrapped_model` contains input name(s) Hidden1_input with unsupported characters which will be renamed to hidden1_input in the SavedModel.\n"
          ]
        },
        {
          "name": "stdout",
          "output_type": "stream",
          "text": [
            "INFO:tensorflow:Assets written to: checkpoint/my_model.15.15/assets\n"
          ]
        },
        {
          "name": "stderr",
          "output_type": "stream",
          "text": [
            "INFO:tensorflow:Assets written to: checkpoint/my_model.15.15/assets\n"
          ]
        },
        {
          "name": "stdout",
          "output_type": "stream",
          "text": [
            "15/15 [==============================] - 1s 55ms/step - loss: 0.4498 - accuracy: 0.7800 - val_loss: 0.6379 - val_accuracy: 0.6400\n",
            "Epoch 16/50\n",
            "15/15 [==============================] - 0s 3ms/step - loss: 0.4506 - accuracy: 0.7600 - val_loss: 0.5227 - val_accuracy: 0.7400\n",
            "Epoch 17/50\n",
            "15/15 [==============================] - 0s 3ms/step - loss: 0.3968 - accuracy: 0.8200 - val_loss: 0.5413 - val_accuracy: 0.7400\n",
            "Epoch 18/50\n",
            "15/15 [==============================] - 0s 4ms/step - loss: 0.3630 - accuracy: 0.8400 - val_loss: 0.5506 - val_accuracy: 0.7000\n",
            "Epoch 19/50\n",
            "15/15 [==============================] - 0s 3ms/step - loss: 0.3793 - accuracy: 0.8000 - val_loss: 0.5122 - val_accuracy: 0.7800\n",
            "Epoch 20/50\n",
            " 1/15 [=>............................] - ETA: 0s - loss: 0.2644 - accuracy: 0.9000"
          ]
        },
        {
          "name": "stderr",
          "output_type": "stream",
          "text": [
            "WARNING:absl:Function `_wrapped_model` contains input name(s) Hidden1_input with unsupported characters which will be renamed to hidden1_input in the SavedModel.\n"
          ]
        },
        {
          "name": "stdout",
          "output_type": "stream",
          "text": [
            "INFO:tensorflow:Assets written to: checkpoint/my_model.20.15/assets\n"
          ]
        },
        {
          "name": "stderr",
          "output_type": "stream",
          "text": [
            "INFO:tensorflow:Assets written to: checkpoint/my_model.20.15/assets\n"
          ]
        },
        {
          "name": "stdout",
          "output_type": "stream",
          "text": [
            "15/15 [==============================] - 1s 53ms/step - loss: 0.3627 - accuracy: 0.8067 - val_loss: 0.5823 - val_accuracy: 0.7400\n",
            "Epoch 21/50\n",
            "15/15 [==============================] - 0s 4ms/step - loss: 0.3625 - accuracy: 0.8200 - val_loss: 0.5555 - val_accuracy: 0.7200\n",
            "Epoch 22/50\n",
            "15/15 [==============================] - 0s 3ms/step - loss: 0.3886 - accuracy: 0.8267 - val_loss: 0.5062 - val_accuracy: 0.7200\n",
            "Epoch 23/50\n",
            "15/15 [==============================] - 0s 4ms/step - loss: 0.3587 - accuracy: 0.8400 - val_loss: 0.5317 - val_accuracy: 0.7600\n",
            "Epoch 24/50\n",
            "15/15 [==============================] - 0s 3ms/step - loss: 0.3706 - accuracy: 0.8333 - val_loss: 0.5397 - val_accuracy: 0.7400\n",
            "Epoch 25/50\n",
            " 1/15 [=>............................] - ETA: 0s - loss: 0.1945 - accuracy: 0.9000"
          ]
        },
        {
          "name": "stderr",
          "output_type": "stream",
          "text": [
            "WARNING:absl:Function `_wrapped_model` contains input name(s) Hidden1_input with unsupported characters which will be renamed to hidden1_input in the SavedModel.\n"
          ]
        },
        {
          "name": "stdout",
          "output_type": "stream",
          "text": [
            "INFO:tensorflow:Assets written to: checkpoint/my_model.25.15/assets\n"
          ]
        },
        {
          "name": "stderr",
          "output_type": "stream",
          "text": [
            "INFO:tensorflow:Assets written to: checkpoint/my_model.25.15/assets\n"
          ]
        },
        {
          "name": "stdout",
          "output_type": "stream",
          "text": [
            "15/15 [==============================] - 1s 54ms/step - loss: 0.3248 - accuracy: 0.8267 - val_loss: 0.5728 - val_accuracy: 0.7000\n",
            "Epoch 26/50\n",
            "15/15 [==============================] - 0s 4ms/step - loss: 0.3630 - accuracy: 0.8133 - val_loss: 0.5282 - val_accuracy: 0.7200\n",
            "Epoch 27/50\n",
            "15/15 [==============================] - 0s 3ms/step - loss: 0.3713 - accuracy: 0.8200 - val_loss: 0.5360 - val_accuracy: 0.7400\n",
            "Epoch 28/50\n",
            "15/15 [==============================] - 0s 3ms/step - loss: 0.3825 - accuracy: 0.8133 - val_loss: 0.5109 - val_accuracy: 0.7800\n",
            "Epoch 29/50\n",
            "15/15 [==============================] - 0s 3ms/step - loss: 0.3562 - accuracy: 0.8267 - val_loss: 0.5211 - val_accuracy: 0.7400\n",
            "Epoch 30/50\n",
            " 1/15 [=>............................] - ETA: 0s - loss: 0.2831 - accuracy: 0.8000"
          ]
        },
        {
          "name": "stderr",
          "output_type": "stream",
          "text": [
            "WARNING:absl:Function `_wrapped_model` contains input name(s) Hidden1_input with unsupported characters which will be renamed to hidden1_input in the SavedModel.\n"
          ]
        },
        {
          "name": "stdout",
          "output_type": "stream",
          "text": [
            "INFO:tensorflow:Assets written to: checkpoint/my_model.30.15/assets\n"
          ]
        },
        {
          "name": "stderr",
          "output_type": "stream",
          "text": [
            "INFO:tensorflow:Assets written to: checkpoint/my_model.30.15/assets\n"
          ]
        },
        {
          "name": "stdout",
          "output_type": "stream",
          "text": [
            "15/15 [==============================] - 1s 69ms/step - loss: 0.3616 - accuracy: 0.8467 - val_loss: 0.5735 - val_accuracy: 0.7400\n",
            "Epoch 31/50\n",
            "15/15 [==============================] - 0s 4ms/step - loss: 0.3488 - accuracy: 0.8400 - val_loss: 0.8526 - val_accuracy: 0.7000\n",
            "Epoch 32/50\n",
            "15/15 [==============================] - 0s 4ms/step - loss: 0.5533 - accuracy: 0.7533 - val_loss: 0.5762 - val_accuracy: 0.7600\n",
            "Epoch 33/50\n",
            "15/15 [==============================] - 0s 3ms/step - loss: 0.3810 - accuracy: 0.8267 - val_loss: 0.5269 - val_accuracy: 0.7200\n",
            "Epoch 34/50\n",
            "15/15 [==============================] - 0s 3ms/step - loss: 0.3327 - accuracy: 0.8400 - val_loss: 0.5436 - val_accuracy: 0.7600\n",
            "Epoch 35/50\n",
            " 1/15 [=>............................] - ETA: 0s - loss: 0.2304 - accuracy: 0.9000"
          ]
        },
        {
          "name": "stderr",
          "output_type": "stream",
          "text": [
            "WARNING:absl:Function `_wrapped_model` contains input name(s) Hidden1_input with unsupported characters which will be renamed to hidden1_input in the SavedModel.\n"
          ]
        },
        {
          "name": "stdout",
          "output_type": "stream",
          "text": [
            "INFO:tensorflow:Assets written to: checkpoint/my_model.35.15/assets\n"
          ]
        },
        {
          "name": "stderr",
          "output_type": "stream",
          "text": [
            "INFO:tensorflow:Assets written to: checkpoint/my_model.35.15/assets\n"
          ]
        },
        {
          "name": "stdout",
          "output_type": "stream",
          "text": [
            "15/15 [==============================] - 1s 54ms/step - loss: 0.3251 - accuracy: 0.8400 - val_loss: 0.6281 - val_accuracy: 0.7600\n",
            "Epoch 36/50\n",
            "15/15 [==============================] - 0s 4ms/step - loss: 0.3623 - accuracy: 0.8067 - val_loss: 0.5228 - val_accuracy: 0.7400\n",
            "Epoch 37/50\n",
            "15/15 [==============================] - 0s 3ms/step - loss: 0.3634 - accuracy: 0.8333 - val_loss: 0.6406 - val_accuracy: 0.6800\n",
            "Epoch 38/50\n",
            "15/15 [==============================] - 0s 3ms/step - loss: 0.4341 - accuracy: 0.7800 - val_loss: 0.5779 - val_accuracy: 0.7400\n",
            "Epoch 39/50\n",
            "15/15 [==============================] - 0s 4ms/step - loss: 0.3379 - accuracy: 0.8133 - val_loss: 0.5040 - val_accuracy: 0.7400\n",
            "Epoch 40/50\n",
            " 1/15 [=>............................] - ETA: 0s - loss: 0.2922 - accuracy: 0.9000"
          ]
        },
        {
          "name": "stderr",
          "output_type": "stream",
          "text": [
            "WARNING:absl:Function `_wrapped_model` contains input name(s) Hidden1_input with unsupported characters which will be renamed to hidden1_input in the SavedModel.\n"
          ]
        },
        {
          "name": "stdout",
          "output_type": "stream",
          "text": [
            "INFO:tensorflow:Assets written to: checkpoint/my_model.40.15/assets\n"
          ]
        },
        {
          "name": "stderr",
          "output_type": "stream",
          "text": [
            "INFO:tensorflow:Assets written to: checkpoint/my_model.40.15/assets\n"
          ]
        },
        {
          "name": "stdout",
          "output_type": "stream",
          "text": [
            "15/15 [==============================] - 1s 55ms/step - loss: 0.3178 - accuracy: 0.8600 - val_loss: 0.5835 - val_accuracy: 0.7400\n",
            "Epoch 41/50\n",
            "15/15 [==============================] - 0s 4ms/step - loss: 0.3715 - accuracy: 0.8200 - val_loss: 0.6466 - val_accuracy: 0.7800\n",
            "Epoch 42/50\n",
            "15/15 [==============================] - 0s 4ms/step - loss: 0.3641 - accuracy: 0.8200 - val_loss: 0.5977 - val_accuracy: 0.7200\n",
            "Epoch 43/50\n",
            "15/15 [==============================] - 0s 3ms/step - loss: 0.3355 - accuracy: 0.8333 - val_loss: 0.5092 - val_accuracy: 0.7800\n",
            "Epoch 44/50\n",
            "15/15 [==============================] - 0s 3ms/step - loss: 0.3302 - accuracy: 0.8267 - val_loss: 0.6031 - val_accuracy: 0.6800\n",
            "Epoch 45/50\n",
            " 1/15 [=>............................] - ETA: 0s - loss: 0.2241 - accuracy: 0.9000"
          ]
        },
        {
          "name": "stderr",
          "output_type": "stream",
          "text": [
            "WARNING:absl:Function `_wrapped_model` contains input name(s) Hidden1_input with unsupported characters which will be renamed to hidden1_input in the SavedModel.\n"
          ]
        },
        {
          "name": "stdout",
          "output_type": "stream",
          "text": [
            "INFO:tensorflow:Assets written to: checkpoint/my_model.45.15/assets\n"
          ]
        },
        {
          "name": "stderr",
          "output_type": "stream",
          "text": [
            "INFO:tensorflow:Assets written to: checkpoint/my_model.45.15/assets\n"
          ]
        },
        {
          "name": "stdout",
          "output_type": "stream",
          "text": [
            "15/15 [==============================] - 1s 54ms/step - loss: 0.3268 - accuracy: 0.8400 - val_loss: 0.5264 - val_accuracy: 0.7600\n",
            "Epoch 46/50\n",
            "15/15 [==============================] - 0s 4ms/step - loss: 0.3340 - accuracy: 0.8467 - val_loss: 0.5600 - val_accuracy: 0.7600\n",
            "Epoch 47/50\n",
            "15/15 [==============================] - 0s 3ms/step - loss: 0.3312 - accuracy: 0.8400 - val_loss: 0.5796 - val_accuracy: 0.7200\n",
            "Epoch 48/50\n",
            "15/15 [==============================] - 0s 4ms/step - loss: 0.3039 - accuracy: 0.8533 - val_loss: 0.6924 - val_accuracy: 0.7000\n",
            "Epoch 49/50\n",
            "15/15 [==============================] - 0s 3ms/step - loss: 0.3409 - accuracy: 0.8400 - val_loss: 0.5677 - val_accuracy: 0.7400\n",
            "Epoch 50/50\n",
            " 1/15 [=>............................] - ETA: 0s - loss: 0.4907 - accuracy: 0.8000"
          ]
        },
        {
          "name": "stderr",
          "output_type": "stream",
          "text": [
            "WARNING:absl:Function `_wrapped_model` contains input name(s) Hidden1_input with unsupported characters which will be renamed to hidden1_input in the SavedModel.\n"
          ]
        },
        {
          "name": "stdout",
          "output_type": "stream",
          "text": [
            "INFO:tensorflow:Assets written to: checkpoint/my_model.50.15/assets\n"
          ]
        },
        {
          "name": "stderr",
          "output_type": "stream",
          "text": [
            "INFO:tensorflow:Assets written to: checkpoint/my_model.50.15/assets\n"
          ]
        },
        {
          "name": "stdout",
          "output_type": "stream",
          "text": [
            "\b\b\b\b\b\b\b\b\b\b\b\b\b\b\b\b\b\b\b\b\b\b\b\b\b\b\b\b\b\b\b\b\b\b\b\b\b\b\b\b\b\b\b\b\b\b\b\b\b\b\b\b\b\b\b\b\b\b\b\b\b\b\b\b\b\b\b\b\b\b\b\b\b\b\b\b\b\b\b\b\b\b\r15/15 [==============================] - 1s 51ms/step - loss: 0.3359 - accuracy: 0.8400 - val_loss: 0.6044 - val_accuracy: 0.7400\n"
          ]
        }
      ],
      "source": [
        "# more saving criteria - not overwritten files saved\n",
        "from tensorflow.keras.callbacks import ModelCheckpoint\n",
        "#checkpoint_path = 'checkpoint/my_model'\n",
        "checkpoint_path = 'checkpoint/my_model.{epoch}.{batch}'\n",
        "model_checkpoint_cb = ModelCheckpoint(checkpoint_path, save_weight_only=True, \n",
        "                                      monitor='val_accuracy', mode='max', save_freq=75)\n",
        "\n",
        "tf.random.set_seed(42)\n",
        "model = build_model()\n",
        "history = model.fit(X,y, validation_data=(Xval,yval), epochs=50, batch_size=10, \n",
        "                    callbacks=[model_checkpoint_cb])"
      ]
    },
    {
      "cell_type": "markdown",
      "metadata": {
        "id": "GP4vpZCwQuLW"
      },
      "source": [
        "#Learning Rate Scheduler Callback"
      ]
    },
    {
      "cell_type": "markdown",
      "metadata": {
        "id": "dwUN2XF5VlOH"
      },
      "source": [
        "![image.png](data:image/png;base64,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)"
      ]
    },
    {
      "cell_type": "code",
      "execution_count": null,
      "metadata": {
        "id": "aLitu7R5QtZ3"
      },
      "outputs": [],
      "source": [
        "# Define the learning rate schedule function\n",
        "\n",
        "def lr_function(epoch, lr=0.01, decay_rate=0.9, decay_steps=10):\n",
        "  # compute the learning rate for the current epoch\n",
        "  exp = np.floor((1 + epoch) / decay_steps)\n",
        "  alpha = lr * (decay_rate ** exp)\n",
        "  # return the learning rate\n",
        "  return float(alpha)\n",
        "  "
      ]
    },
    {
      "cell_type": "code",
      "execution_count": null,
      "metadata": {
        "colab": {
          "base_uri": "https://localhost:8080/"
        },
        "id": "qQTPnplhQ0Wb",
        "outputId": "1de148d9-b896-48f9-920a-1e8ade3229ff"
      },
      "outputs": [
        {
          "name": "stdout",
          "output_type": "stream",
          "text": [
            "Epoch 1/50\n",
            "15/15 [==============================] - 1s 12ms/step - loss: 0.6966 - accuracy: 0.5533 - val_loss: 0.6678 - val_accuracy: 0.5800\n",
            "Epoch 2/50\n",
            "15/15 [==============================] - 0s 4ms/step - loss: 0.6940 - accuracy: 0.5400 - val_loss: 0.6608 - val_accuracy: 0.6600\n",
            "Epoch 3/50\n",
            "15/15 [==============================] - 0s 3ms/step - loss: 0.6895 - accuracy: 0.5733 - val_loss: 0.7019 - val_accuracy: 0.4800\n",
            "Epoch 4/50\n",
            "15/15 [==============================] - 0s 3ms/step - loss: 0.6722 - accuracy: 0.5467 - val_loss: 0.6577 - val_accuracy: 0.6000\n",
            "Epoch 5/50\n",
            "15/15 [==============================] - 0s 2ms/step - loss: 0.6619 - accuracy: 0.6333 - val_loss: 0.6591 - val_accuracy: 0.6400\n",
            "Epoch 6/50\n",
            "15/15 [==============================] - 0s 3ms/step - loss: 0.6401 - accuracy: 0.6533 - val_loss: 0.6440 - val_accuracy: 0.6400\n",
            "Epoch 7/50\n",
            "15/15 [==============================] - 0s 4ms/step - loss: 0.5902 - accuracy: 0.7067 - val_loss: 0.6031 - val_accuracy: 0.7200\n",
            "Epoch 8/50\n",
            "15/15 [==============================] - 0s 4ms/step - loss: 0.5415 - accuracy: 0.7400 - val_loss: 0.5304 - val_accuracy: 0.7600\n",
            "Epoch 9/50\n",
            "15/15 [==============================] - 0s 4ms/step - loss: 0.4942 - accuracy: 0.7800 - val_loss: 0.5269 - val_accuracy: 0.6800\n",
            "Epoch 10/50\n",
            "15/15 [==============================] - 0s 3ms/step - loss: 0.4360 - accuracy: 0.8000 - val_loss: 0.5631 - val_accuracy: 0.6800\n",
            "Epoch 11/50\n",
            "15/15 [==============================] - 0s 3ms/step - loss: 0.4343 - accuracy: 0.7933 - val_loss: 0.5636 - val_accuracy: 0.7200\n",
            "Epoch 12/50\n",
            "15/15 [==============================] - 0s 4ms/step - loss: 0.5188 - accuracy: 0.7000 - val_loss: 0.5075 - val_accuracy: 0.7600\n",
            "Epoch 13/50\n",
            "15/15 [==============================] - 0s 4ms/step - loss: 0.4691 - accuracy: 0.7800 - val_loss: 0.5719 - val_accuracy: 0.6400\n",
            "Epoch 14/50\n",
            "15/15 [==============================] - 0s 3ms/step - loss: 0.4153 - accuracy: 0.8000 - val_loss: 0.5513 - val_accuracy: 0.7000\n",
            "Epoch 15/50\n",
            "15/15 [==============================] - 0s 3ms/step - loss: 0.4498 - accuracy: 0.7800 - val_loss: 0.6379 - val_accuracy: 0.6400\n",
            "Epoch 16/50\n",
            "15/15 [==============================] - 0s 3ms/step - loss: 0.4506 - accuracy: 0.7600 - val_loss: 0.5227 - val_accuracy: 0.7400\n",
            "Epoch 17/50\n",
            "15/15 [==============================] - 0s 3ms/step - loss: 0.3968 - accuracy: 0.8200 - val_loss: 0.5413 - val_accuracy: 0.7400\n",
            "Epoch 18/50\n",
            "15/15 [==============================] - 0s 3ms/step - loss: 0.3630 - accuracy: 0.8400 - val_loss: 0.5506 - val_accuracy: 0.7000\n",
            "Epoch 19/50\n",
            "15/15 [==============================] - 0s 4ms/step - loss: 0.3793 - accuracy: 0.8000 - val_loss: 0.5122 - val_accuracy: 0.7800\n",
            "Epoch 20/50\n",
            "15/15 [==============================] - 0s 3ms/step - loss: 0.3627 - accuracy: 0.8067 - val_loss: 0.5823 - val_accuracy: 0.7400\n",
            "Epoch 21/50\n",
            "15/15 [==============================] - 0s 3ms/step - loss: 0.3625 - accuracy: 0.8200 - val_loss: 0.5555 - val_accuracy: 0.7200\n",
            "Epoch 22/50\n",
            "15/15 [==============================] - 0s 4ms/step - loss: 0.3886 - accuracy: 0.8267 - val_loss: 0.5062 - val_accuracy: 0.7200\n",
            "Epoch 23/50\n",
            "15/15 [==============================] - 0s 3ms/step - loss: 0.3587 - accuracy: 0.8400 - val_loss: 0.5317 - val_accuracy: 0.7600\n",
            "Epoch 24/50\n",
            "15/15 [==============================] - 0s 3ms/step - loss: 0.3706 - accuracy: 0.8333 - val_loss: 0.5397 - val_accuracy: 0.7400\n",
            "Epoch 25/50\n",
            "15/15 [==============================] - 0s 3ms/step - loss: 0.3248 - accuracy: 0.8267 - val_loss: 0.5728 - val_accuracy: 0.7000\n",
            "Epoch 26/50\n",
            "15/15 [==============================] - 0s 4ms/step - loss: 0.3630 - accuracy: 0.8133 - val_loss: 0.5282 - val_accuracy: 0.7200\n",
            "Epoch 27/50\n",
            "15/15 [==============================] - 0s 3ms/step - loss: 0.3713 - accuracy: 0.8200 - val_loss: 0.5360 - val_accuracy: 0.7400\n",
            "Epoch 28/50\n",
            "15/15 [==============================] - 0s 3ms/step - loss: 0.3825 - accuracy: 0.8133 - val_loss: 0.5109 - val_accuracy: 0.7800\n",
            "Epoch 29/50\n",
            "15/15 [==============================] - 0s 3ms/step - loss: 0.3562 - accuracy: 0.8267 - val_loss: 0.5211 - val_accuracy: 0.7400\n",
            "Epoch 30/50\n",
            "15/15 [==============================] - 0s 5ms/step - loss: 0.3616 - accuracy: 0.8467 - val_loss: 0.5735 - val_accuracy: 0.7400\n",
            "Epoch 31/50\n",
            "15/15 [==============================] - 0s 3ms/step - loss: 0.3488 - accuracy: 0.8400 - val_loss: 0.8526 - val_accuracy: 0.7000\n",
            "Epoch 32/50\n",
            "15/15 [==============================] - 0s 4ms/step - loss: 0.5533 - accuracy: 0.7533 - val_loss: 0.5762 - val_accuracy: 0.7600\n",
            "Epoch 33/50\n",
            "15/15 [==============================] - 0s 4ms/step - loss: 0.3810 - accuracy: 0.8267 - val_loss: 0.5269 - val_accuracy: 0.7200\n",
            "Epoch 34/50\n",
            "15/15 [==============================] - 0s 4ms/step - loss: 0.3327 - accuracy: 0.8400 - val_loss: 0.5436 - val_accuracy: 0.7600\n",
            "Epoch 35/50\n",
            "15/15 [==============================] - 0s 4ms/step - loss: 0.3251 - accuracy: 0.8400 - val_loss: 0.6281 - val_accuracy: 0.7600\n",
            "Epoch 36/50\n",
            "15/15 [==============================] - 0s 4ms/step - loss: 0.3623 - accuracy: 0.8067 - val_loss: 0.5228 - val_accuracy: 0.7400\n",
            "Epoch 37/50\n",
            "15/15 [==============================] - 0s 4ms/step - loss: 0.3634 - accuracy: 0.8333 - val_loss: 0.6406 - val_accuracy: 0.6800\n",
            "Epoch 38/50\n",
            "15/15 [==============================] - 0s 4ms/step - loss: 0.4341 - accuracy: 0.7800 - val_loss: 0.5779 - val_accuracy: 0.7400\n",
            "Epoch 39/50\n",
            "15/15 [==============================] - 0s 4ms/step - loss: 0.3379 - accuracy: 0.8133 - val_loss: 0.5040 - val_accuracy: 0.7400\n",
            "Epoch 40/50\n",
            "15/15 [==============================] - 0s 4ms/step - loss: 0.3178 - accuracy: 0.8600 - val_loss: 0.5835 - val_accuracy: 0.7400\n",
            "Epoch 41/50\n",
            "15/15 [==============================] - 0s 4ms/step - loss: 0.3715 - accuracy: 0.8200 - val_loss: 0.6466 - val_accuracy: 0.7800\n",
            "Epoch 42/50\n",
            "15/15 [==============================] - 0s 4ms/step - loss: 0.3641 - accuracy: 0.8200 - val_loss: 0.5977 - val_accuracy: 0.7200\n",
            "Epoch 43/50\n",
            "15/15 [==============================] - 0s 4ms/step - loss: 0.3355 - accuracy: 0.8333 - val_loss: 0.5092 - val_accuracy: 0.7800\n",
            "Epoch 44/50\n",
            "15/15 [==============================] - 0s 4ms/step - loss: 0.3302 - accuracy: 0.8267 - val_loss: 0.6031 - val_accuracy: 0.6800\n",
            "Epoch 45/50\n",
            "15/15 [==============================] - 0s 4ms/step - loss: 0.3268 - accuracy: 0.8400 - val_loss: 0.5264 - val_accuracy: 0.7600\n",
            "Epoch 46/50\n",
            "15/15 [==============================] - 0s 3ms/step - loss: 0.3340 - accuracy: 0.8467 - val_loss: 0.5600 - val_accuracy: 0.7600\n",
            "Epoch 47/50\n",
            "15/15 [==============================] - 0s 3ms/step - loss: 0.3312 - accuracy: 0.8400 - val_loss: 0.5796 - val_accuracy: 0.7200\n",
            "Epoch 48/50\n",
            "15/15 [==============================] - 0s 4ms/step - loss: 0.3039 - accuracy: 0.8533 - val_loss: 0.6924 - val_accuracy: 0.7000\n",
            "Epoch 49/50\n",
            "15/15 [==============================] - 0s 3ms/step - loss: 0.3409 - accuracy: 0.8400 - val_loss: 0.5677 - val_accuracy: 0.7400\n",
            "Epoch 50/50\n",
            "15/15 [==============================] - 0s 4ms/step - loss: 0.3359 - accuracy: 0.8400 - val_loss: 0.6044 - val_accuracy: 0.7400\n"
          ]
        }
      ],
      "source": [
        "tf.random.set_seed(42)\n",
        "model = build_model()\n",
        "history = model.fit(X,y, validation_data=(Xval,yval), epochs=50, batch_size=10, \n",
        "                    callbacks=[tf.keras.callbacks.LearningRateScheduler(lr_function, verbose=1)])"
      ]
    },
    {
      "cell_type": "code",
      "execution_count": null,
      "metadata": {
        "colab": {
          "base_uri": "https://localhost:8080/"
        },
        "id": "FACkxu7tWbGW",
        "outputId": "1ad31d89-0de6-448e-cb5d-5d316fa0a42c"
      },
      "outputs": [
        {
          "name": "stdout",
          "output_type": "stream",
          "text": [
            "Epoch 1/50\n",
            "\n",
            "Epoch 00001: LearningRateScheduler setting learning rate to 0.029999999329447746.\n",
            "15/15 [==============================] - 1s 12ms/step - loss: 0.6966 - accuracy: 0.5533 - val_loss: 0.6678 - val_accuracy: 0.5800\n",
            "Epoch 2/50\n",
            "\n",
            "Epoch 00002: LearningRateScheduler setting learning rate to 0.029999999329447746.\n",
            "15/15 [==============================] - 0s 3ms/step - loss: 0.6940 - accuracy: 0.5400 - val_loss: 0.6608 - val_accuracy: 0.6600\n",
            "Epoch 3/50\n",
            "\n",
            "Epoch 00003: LearningRateScheduler setting learning rate to 0.029999999329447746.\n",
            "15/15 [==============================] - 0s 3ms/step - loss: 0.6895 - accuracy: 0.5733 - val_loss: 0.7019 - val_accuracy: 0.4800\n",
            "Epoch 4/50\n",
            "\n",
            "Epoch 00004: LearningRateScheduler setting learning rate to 0.029999999329447746.\n",
            "15/15 [==============================] - 0s 3ms/step - loss: 0.6722 - accuracy: 0.5467 - val_loss: 0.6577 - val_accuracy: 0.6000\n",
            "Epoch 5/50\n",
            "\n",
            "Epoch 00005: LearningRateScheduler setting learning rate to 0.029999999329447746.\n",
            "15/15 [==============================] - 0s 3ms/step - loss: 0.6619 - accuracy: 0.6333 - val_loss: 0.6591 - val_accuracy: 0.6400\n",
            "Epoch 6/50\n",
            "\n",
            "Epoch 00006: LearningRateScheduler setting learning rate to 0.029999999329447746.\n",
            "15/15 [==============================] - 0s 4ms/step - loss: 0.6401 - accuracy: 0.6533 - val_loss: 0.6440 - val_accuracy: 0.6400\n",
            "Epoch 7/50\n",
            "\n",
            "Epoch 00007: LearningRateScheduler setting learning rate to 0.029999999329447746.\n",
            "15/15 [==============================] - 0s 3ms/step - loss: 0.5902 - accuracy: 0.7067 - val_loss: 0.6031 - val_accuracy: 0.7200\n",
            "Epoch 8/50\n",
            "\n",
            "Epoch 00008: LearningRateScheduler setting learning rate to 0.029999999329447746.\n",
            "15/15 [==============================] - 0s 3ms/step - loss: 0.5415 - accuracy: 0.7400 - val_loss: 0.5304 - val_accuracy: 0.7600\n",
            "Epoch 9/50\n",
            "\n",
            "Epoch 00009: LearningRateScheduler setting learning rate to 0.029999999329447746.\n",
            "15/15 [==============================] - 0s 4ms/step - loss: 0.4942 - accuracy: 0.7800 - val_loss: 0.5269 - val_accuracy: 0.6800\n",
            "Epoch 10/50\n",
            "\n",
            "Epoch 00010: LearningRateScheduler setting learning rate to 0.026999999396502973.\n",
            "15/15 [==============================] - 0s 4ms/step - loss: 0.4273 - accuracy: 0.8000 - val_loss: 0.5597 - val_accuracy: 0.7000\n",
            "Epoch 11/50\n",
            "\n",
            "Epoch 00011: LearningRateScheduler setting learning rate to 0.024299998953938483.\n",
            "15/15 [==============================] - 0s 4ms/step - loss: 0.4150 - accuracy: 0.8000 - val_loss: 0.5359 - val_accuracy: 0.7000\n",
            "Epoch 12/50\n",
            "\n",
            "Epoch 00012: LearningRateScheduler setting learning rate to 0.02186999972909689.\n",
            "15/15 [==============================] - 0s 4ms/step - loss: 0.4828 - accuracy: 0.7133 - val_loss: 0.5010 - val_accuracy: 0.7600\n",
            "Epoch 13/50\n",
            "\n",
            "Epoch 00013: LearningRateScheduler setting learning rate to 0.019683000259101392.\n",
            "15/15 [==============================] - 0s 3ms/step - loss: 0.4160 - accuracy: 0.8000 - val_loss: 0.5325 - val_accuracy: 0.7400\n",
            "Epoch 14/50\n",
            "\n",
            "Epoch 00014: LearningRateScheduler setting learning rate to 0.01771469973027706.\n",
            "15/15 [==============================] - 0s 3ms/step - loss: 0.3759 - accuracy: 0.8400 - val_loss: 0.5524 - val_accuracy: 0.7200\n",
            "Epoch 15/50\n",
            "\n",
            "Epoch 00015: LearningRateScheduler setting learning rate to 0.015943229757249357.\n",
            "15/15 [==============================] - 0s 4ms/step - loss: 0.3893 - accuracy: 0.8067 - val_loss: 0.5631 - val_accuracy: 0.7000\n",
            "Epoch 16/50\n",
            "\n",
            "Epoch 00016: LearningRateScheduler setting learning rate to 0.01434890627861023.\n",
            "15/15 [==============================] - 0s 4ms/step - loss: 0.3711 - accuracy: 0.8267 - val_loss: 0.5675 - val_accuracy: 0.7400\n",
            "Epoch 17/50\n",
            "\n",
            "Epoch 00017: LearningRateScheduler setting learning rate to 0.01291401581838727.\n",
            "15/15 [==============================] - 0s 5ms/step - loss: 0.3538 - accuracy: 0.8400 - val_loss: 0.5389 - val_accuracy: 0.7600\n",
            "Epoch 18/50\n",
            "\n",
            "Epoch 00018: LearningRateScheduler setting learning rate to 0.011622614320367574.\n",
            "15/15 [==============================] - 0s 5ms/step - loss: 0.3404 - accuracy: 0.8200 - val_loss: 0.5160 - val_accuracy: 0.7400\n",
            "Epoch 19/50\n",
            "\n",
            "Epoch 00019: LearningRateScheduler setting learning rate to 0.010460352804511786.\n",
            "15/15 [==============================] - 0s 3ms/step - loss: 0.3324 - accuracy: 0.8333 - val_loss: 0.5155 - val_accuracy: 0.7600\n",
            "Epoch 20/50\n",
            "\n",
            "Epoch 00020: LearningRateScheduler setting learning rate to 0.00847288554534316.\n",
            "15/15 [==============================] - 0s 4ms/step - loss: 0.3301 - accuracy: 0.8333 - val_loss: 0.5179 - val_accuracy: 0.7400\n",
            "Epoch 21/50\n",
            "\n",
            "Epoch 00021: LearningRateScheduler setting learning rate to 0.0068630376085639004.\n",
            "15/15 [==============================] - 0s 3ms/step - loss: 0.3215 - accuracy: 0.8333 - val_loss: 0.5274 - val_accuracy: 0.7400\n",
            "Epoch 22/50\n",
            "\n",
            "Epoch 00022: LearningRateScheduler setting learning rate to 0.005559060447849333.\n",
            "15/15 [==============================] - 0s 4ms/step - loss: 0.3160 - accuracy: 0.8267 - val_loss: 0.5122 - val_accuracy: 0.7400\n",
            "Epoch 23/50\n",
            "\n",
            "Epoch 00023: LearningRateScheduler setting learning rate to 0.004502838808111847.\n",
            "15/15 [==============================] - 0s 3ms/step - loss: 0.3142 - accuracy: 0.8467 - val_loss: 0.5186 - val_accuracy: 0.7400\n",
            "Epoch 24/50\n",
            "\n",
            "Epoch 00024: LearningRateScheduler setting learning rate to 0.0036472995439544324.\n",
            "15/15 [==============================] - 0s 4ms/step - loss: 0.3116 - accuracy: 0.8333 - val_loss: 0.5230 - val_accuracy: 0.7400\n",
            "Epoch 25/50\n",
            "\n",
            "Epoch 00025: LearningRateScheduler setting learning rate to 0.0029543125815689564.\n",
            "15/15 [==============================] - 0s 3ms/step - loss: 0.3094 - accuracy: 0.8467 - val_loss: 0.5135 - val_accuracy: 0.7600\n",
            "Epoch 26/50\n",
            "\n",
            "Epoch 00026: LearningRateScheduler setting learning rate to 0.0023929932061582805.\n",
            "15/15 [==============================] - 0s 4ms/step - loss: 0.3074 - accuracy: 0.8333 - val_loss: 0.5230 - val_accuracy: 0.7200\n",
            "Epoch 27/50\n",
            "\n",
            "Epoch 00027: LearningRateScheduler setting learning rate to 0.0019383245799690486.\n",
            "15/15 [==============================] - 0s 3ms/step - loss: 0.3056 - accuracy: 0.8267 - val_loss: 0.5136 - val_accuracy: 0.7600\n",
            "Epoch 28/50\n",
            "\n",
            "Epoch 00028: LearningRateScheduler setting learning rate to 0.0015700428758282216.\n",
            "15/15 [==============================] - 0s 4ms/step - loss: 0.3055 - accuracy: 0.8467 - val_loss: 0.5135 - val_accuracy: 0.7400\n",
            "Epoch 29/50\n",
            "\n",
            "Epoch 00029: LearningRateScheduler setting learning rate to 0.0012717347661964596.\n",
            "15/15 [==============================] - 0s 3ms/step - loss: 0.3034 - accuracy: 0.8467 - val_loss: 0.5191 - val_accuracy: 0.7400\n",
            "Epoch 30/50\n",
            "\n",
            "Epoch 00030: LearningRateScheduler setting learning rate to 0.0009270946055185051.\n",
            "15/15 [==============================] - 0s 3ms/step - loss: 0.3030 - accuracy: 0.8467 - val_loss: 0.5150 - val_accuracy: 0.7400\n",
            "Epoch 31/50\n",
            "\n",
            "Epoch 00031: LearningRateScheduler setting learning rate to 0.0006758519655559212.\n",
            "15/15 [==============================] - 0s 4ms/step - loss: 0.3034 - accuracy: 0.8533 - val_loss: 0.5133 - val_accuracy: 0.7400\n",
            "Epoch 32/50\n",
            "\n",
            "Epoch 00032: LearningRateScheduler setting learning rate to 0.0004926960677839816.\n",
            "15/15 [==============================] - 0s 5ms/step - loss: 0.3005 - accuracy: 0.8467 - val_loss: 0.5147 - val_accuracy: 0.7400\n",
            "Epoch 33/50\n",
            "\n",
            "Epoch 00033: LearningRateScheduler setting learning rate to 0.0003591754337539897.\n",
            "15/15 [==============================] - 0s 3ms/step - loss: 0.3001 - accuracy: 0.8533 - val_loss: 0.5146 - val_accuracy: 0.7400\n",
            "Epoch 34/50\n",
            "\n",
            "Epoch 00034: LearningRateScheduler setting learning rate to 0.00026183889264939355.\n",
            "15/15 [==============================] - 0s 3ms/step - loss: 0.2997 - accuracy: 0.8533 - val_loss: 0.5158 - val_accuracy: 0.7400\n",
            "Epoch 35/50\n",
            "\n",
            "Epoch 00035: LearningRateScheduler setting learning rate to 0.00019088055600877853.\n",
            "15/15 [==============================] - 0s 5ms/step - loss: 0.2996 - accuracy: 0.8533 - val_loss: 0.5157 - val_accuracy: 0.7400\n",
            "Epoch 36/50\n",
            "\n",
            "Epoch 00036: LearningRateScheduler setting learning rate to 0.00013915192609420047.\n",
            "15/15 [==============================] - 0s 4ms/step - loss: 0.2994 - accuracy: 0.8533 - val_loss: 0.5161 - val_accuracy: 0.7400\n",
            "Epoch 37/50\n",
            "\n",
            "Epoch 00037: LearningRateScheduler setting learning rate to 0.00010144175891764464.\n",
            "15/15 [==============================] - 0s 4ms/step - loss: 0.2993 - accuracy: 0.8533 - val_loss: 0.5159 - val_accuracy: 0.7400\n",
            "Epoch 38/50\n",
            "\n",
            "Epoch 00038: LearningRateScheduler setting learning rate to 7.395104127499508e-05.\n",
            "15/15 [==============================] - 0s 4ms/step - loss: 0.2991 - accuracy: 0.8533 - val_loss: 0.5160 - val_accuracy: 0.7400\n",
            "Epoch 39/50\n",
            "\n",
            "Epoch 00039: LearningRateScheduler setting learning rate to 5.3910310569335715e-05.\n",
            "15/15 [==============================] - 0s 3ms/step - loss: 0.2991 - accuracy: 0.8533 - val_loss: 0.5160 - val_accuracy: 0.7400\n",
            "Epoch 40/50\n",
            "\n",
            "Epoch 00040: LearningRateScheduler setting learning rate to 3.5370553972097695e-05.\n",
            "15/15 [==============================] - 0s 5ms/step - loss: 0.2990 - accuracy: 0.8533 - val_loss: 0.5160 - val_accuracy: 0.7400\n",
            "Epoch 41/50\n",
            "\n",
            "Epoch 00041: LearningRateScheduler setting learning rate to 2.3206620835117064e-05.\n",
            "15/15 [==============================] - 0s 3ms/step - loss: 0.2990 - accuracy: 0.8533 - val_loss: 0.5160 - val_accuracy: 0.7400\n",
            "Epoch 42/50\n",
            "\n",
            "Epoch 00042: LearningRateScheduler setting learning rate to 1.5225864258354704e-05.\n",
            "15/15 [==============================] - 0s 4ms/step - loss: 0.2990 - accuracy: 0.8533 - val_loss: 0.5160 - val_accuracy: 0.7400\n",
            "Epoch 43/50\n",
            "\n",
            "Epoch 00043: LearningRateScheduler setting learning rate to 9.989689662234014e-06.\n",
            "15/15 [==============================] - 0s 3ms/step - loss: 0.2989 - accuracy: 0.8533 - val_loss: 0.5160 - val_accuracy: 0.7400\n",
            "Epoch 44/50\n",
            "\n",
            "Epoch 00044: LearningRateScheduler setting learning rate to 6.554235422299826e-06.\n",
            "15/15 [==============================] - 0s 4ms/step - loss: 0.2989 - accuracy: 0.8533 - val_loss: 0.5160 - val_accuracy: 0.7400\n",
            "Epoch 45/50\n",
            "\n",
            "Epoch 00045: LearningRateScheduler setting learning rate to 4.300233825961186e-06.\n",
            "15/15 [==============================] - 0s 3ms/step - loss: 0.2989 - accuracy: 0.8533 - val_loss: 0.5160 - val_accuracy: 0.7400\n",
            "Epoch 46/50\n",
            "\n",
            "Epoch 00046: LearningRateScheduler setting learning rate to 2.8213833572408478e-06.\n",
            "15/15 [==============================] - 0s 5ms/step - loss: 0.2989 - accuracy: 0.8533 - val_loss: 0.5160 - val_accuracy: 0.7400\n",
            "Epoch 47/50\n",
            "\n",
            "Epoch 00047: LearningRateScheduler setting learning rate to 1.8511095862550065e-06.\n",
            "15/15 [==============================] - 0s 3ms/step - loss: 0.2989 - accuracy: 0.8533 - val_loss: 0.5161 - val_accuracy: 0.7400\n",
            "Epoch 48/50\n",
            "\n",
            "Epoch 00048: LearningRateScheduler setting learning rate to 1.2145129909640674e-06.\n",
            "15/15 [==============================] - 0s 5ms/step - loss: 0.2989 - accuracy: 0.8533 - val_loss: 0.5160 - val_accuracy: 0.7400\n",
            "Epoch 49/50\n",
            "\n",
            "Epoch 00049: LearningRateScheduler setting learning rate to 7.968419550820727e-07.\n",
            "15/15 [==============================] - 0s 4ms/step - loss: 0.2989 - accuracy: 0.8533 - val_loss: 0.5161 - val_accuracy: 0.7400\n",
            "Epoch 50/50\n",
            "\n",
            "Epoch 00050: LearningRateScheduler setting learning rate to 4.705272086812329e-07.\n",
            "15/15 [==============================] - 0s 4ms/step - loss: 0.2989 - accuracy: 0.8533 - val_loss: 0.5160 - val_accuracy: 0.7400\n"
          ]
        }
      ],
      "source": [
        "tf.random.set_seed(42)\n",
        "model = build_model()\n",
        "history = model.fit(X,y, validation_data=(Xval,yval), epochs=50, batch_size=10, \n",
        "                    #callbacks=[tf.keras.callbacks.LearningRateScheduler(lr_function, verbose=1), tf.keras.callbacks.CSVLogger(\"results.csv\")])"
      ]
    },
    {
      "cell_type": "markdown",
      "metadata": {
        "id": "oTKcxwSywGfN"
      },
      "source": [
        "# plot decision boundary"
      ]
    },
    {
      "cell_type": "code",
      "execution_count": null,
      "metadata": {
        "id": "YFuuqpq818bn"
      },
      "outputs": [],
      "source": [
        "parameters={}\n",
        "a = np.zeros((10,3))\n",
        "a[:,0] = np.array(model.weights[1])\n",
        "a[:,1:3] = np.array(model.weights[0]).T\n",
        "parameters['Theta1'] = a\n",
        "b = np.zeros((10,11))\n",
        "b[:,0] = np.array(model.weights[3])\n",
        "b[:,1:11] = np.array(model.weights[2]).T\n",
        "parameters['Theta2'] = b\n",
        "c = np.zeros((10,11))\n",
        "c[:,0] = np.array(model.weights[5])\n",
        "c[:,1:11] = np.array(model.weights[4]).T\n",
        "parameters['Theta3'] = c\n",
        "d = np.zeros((1,11))\n",
        "d[:,0] = np.array(model.weights[7])\n",
        "d[:,1:11] = np.array(model.weights[6]).T\n",
        "parameters['Theta4'] = d   "
      ]
    },
    {
      "cell_type": "code",
      "execution_count": null,
      "metadata": {
        "id": "4cSW9yNz5iaZ"
      },
      "outputs": [],
      "source": [
        "def sigmoid(z):\n",
        "  # convert input to a numpy array\n",
        "  z  =  np.array(z)\n",
        "  # initialize variables returned \n",
        "  g = np.zeros(z.shape)\n",
        "  g = 1/(1+np.exp(-z))\n",
        "\n",
        "  return g"
      ]
    },
    {
      "cell_type": "code",
      "execution_count": null,
      "metadata": {
        "id": "4lFXhjLgMTaS"
      },
      "outputs": [],
      "source": [
        "def relu(z):\n",
        "  z  =  np.array(z)\n",
        "  g = np.zeros(z.shape)\n",
        "  g = np.maximum(0,z)\n",
        "\n",
        "  return g"
      ]
    },
    {
      "cell_type": "code",
      "execution_count": null,
      "metadata": {
        "id": "1kTMixaRMT2B"
      },
      "outputs": [],
      "source": [
        "def reluGradient(z):\n",
        "  z  =  np.array(z)\n",
        "  g = np.zeros(z.shape)\n",
        "  g[z<0] = 0\n",
        "  g[z>=0] = 1\n",
        "\n",
        "  return g "
      ]
    },
    {
      "cell_type": "code",
      "execution_count": null,
      "metadata": {
        "id": "EcXBbuH4v1_3"
      },
      "outputs": [],
      "source": [
        "def plotDecisionBoundary(parameters):\n",
        "   \n",
        "  #circle dataset\n",
        "  u = np.linspace(-2, 2, 100)\n",
        "  v = np.linspace(-2, 2, 100)\n",
        "  t = np.zeros((u.size, v.size))\n",
        "  #print(t.shape)\n",
        "  L = len(parameters)\n",
        "  #print(parameters)\n",
        "  # Evaluate t \n",
        "  for i, ui in enumerate(u):\n",
        "      for j, vj in enumerate(v):\n",
        "        X = np.array([ui,vj]).reshape(-1,2)\n",
        "        a = {}\n",
        "        a[0] = X\n",
        "        z = {}\n",
        "        for l in range(L):\n",
        "          a[l] = np.concatenate([np.ones((a[l].shape[0], 1)), a[l]], axis=1)\n",
        "          #print(a[l].shape)\n",
        "          z[l+1] = np.dot(a[l],parameters[\"Theta\"+str(l+1)].T)\n",
        "          #print(parameters[\"Theta\"+str(l+1)].T.shape)\n",
        "          if l!=(L-1):\n",
        "            a[l+1] = relu(z[l+1])\n",
        "          else:\n",
        "            #print(z[l+1].shape)\n",
        "            t[i, j] = z[l+1]\n",
        "\n",
        "  #print(t)\n",
        "  t = t.T  # important to transpose t before calling contour\n",
        "      \n",
        "  plt.contour(u, v, t, 0, linewidths=2, colors='g')"
      ]
    },
    {
      "cell_type": "code",
      "execution_count": null,
      "metadata": {
        "colab": {
          "base_uri": "https://localhost:8080/",
          "height": 295
        },
        "id": "r8Ae0johtt3Q",
        "outputId": "868b59cd-8277-45e1-e7fc-22902f7edabe"
      },
      "outputs": [
        {
          "data": {
            "image/png": "[encoded data removed]",
            "text/plain": [
              "<Figure size 432x288 with 1 Axes>"
            ]
          },
          "metadata": {
            "needs_background": "light"
          },
          "output_type": "display_data"
        }
      ],
      "source": [
        "# Plot decision boundary\n",
        "fig = plt.figure()\n",
        "plt.plot(X[pos, 0], X[pos, 1], 'o', markerfacecolor='r', markersize=8, markeredgecolor='k')\n",
        "plt.plot(X[neg, 0], X[neg, 1], 'o', mfc='b', ms=8, mec='k')\n",
        "plt.xlabel('X1')\n",
        "plt.title('Circle Dataset')\n",
        "plt.ylabel('X2')\n",
        "plt.legend(['positive', 'negative'])\n",
        "plotDecisionBoundary(parameters)\n",
        "plt.show()"
      ]
    },
    {
      "cell_type": "markdown",
      "metadata": {
        "id": "aMpE_cZIxDmN"
      },
      "source": [
        "# Prediction"
      ]
    },
    {
      "cell_type": "code",
      "execution_count": null,
      "metadata": {
        "id": "unwKrq4HxBXW"
      },
      "outputs": [],
      "source": [
        "pred = model.predict(Xtest[0:1,:]) "
      ]
    },
    {
      "cell_type": "code",
      "execution_count": null,
      "metadata": {
        "colab": {
          "base_uri": "https://localhost:8080/"
        },
        "id": "V6JqkZQlzqhr",
        "outputId": "582705cb-d9c2-49c0-8fe2-96447b73deda"
      },
      "outputs": [
        {
          "data": {
            "text/plain": [
              "array([[0.09080061]], dtype=float32)"
            ]
          },
          "execution_count": 55,
          "metadata": {},
          "output_type": "execute_result"
        }
      ],
      "source": [
        "pred"
      ]
    },
    {
      "cell_type": "code",
      "execution_count": null,
      "metadata": {
        "colab": {
          "base_uri": "https://localhost:8080/"
        },
        "id": "iBRMitXLxYKa",
        "outputId": "3b361994-176f-4620-a6dd-2c7b313e6320"
      },
      "outputs": [
        {
          "data": {
            "text/plain": [
              "0.0"
            ]
          },
          "execution_count": 57,
          "metadata": {},
          "output_type": "execute_result"
        }
      ],
      "source": [
        "ytest[0]"
      ]
    },
    {
      "cell_type": "markdown",
      "metadata": {
        "id": "_60GuiXAvy1A"
      },
      "source": []
    }
  ],
  "metadata": {
    "colab": {
      "collapsed_sections": [],
      "name": "Lec7 - Callbacks with circle tensorflow.ipynb",
      "provenance": []
    },
    "kernelspec": {
      "display_name": "Python 3.9.2 64-bit",
      "language": "python",
      "name": "python3"
    },
    "language_info": {
      "name": "python",
      "version": "3.9.2"
    },
    "vscode": {
      "interpreter": {
        "hash": "aee8b7b246df8f9039afb4144a1f6fd8d2ca17a180786b69acc140d282b71a49"
      }
    }
  },
  "nbformat": 4,
  "nbformat_minor": 0
}
